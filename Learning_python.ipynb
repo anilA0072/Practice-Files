{
 "cells": [
  {
   "cell_type": "code",
   "execution_count": null,
   "metadata": {},
   "outputs": [],
   "source": [
    "import os\n",
    "print(os.listdir(\"/\"))\n",
    "\n"
   ]
  },
  {
   "cell_type": "code",
   "execution_count": null,
   "metadata": {},
   "outputs": [],
   "source": [
    "print(\"\"\"Twinkle, twinkle, little star,\n",
    "How I wonder what you are.\n",
    "Up above the world so high,\n",
    "Like a diamond in the sky.\n",
    "\n",
    "When the blazing sun is gone,\n",
    "When he nothing shines upon,\n",
    "Then you show your little light,\n",
    "Twinkle, twinkle, all the night.\n",
    "\n",
    "Then the traveller in the dark,\n",
    "Thanks you for your tiny spark,\n",
    "He could not see which way to go,\n",
    "If you did not twinkle so.\n",
    "\n",
    "In the dark blue sky you keep,\n",
    "And often through my curtains peep,\n",
    "For you never shut your eye,\n",
    "‘Till the sun is in the sky.\n",
    "\n",
    "As your bright and tiny spark,\n",
    "Lights the traveller in the dark,–\n",
    "Though I know not what you are,\n",
    "Twinkle, twinkle, little star.\"\"\")"
   ]
  },
  {
   "cell_type": "code",
   "execution_count": null,
   "metadata": {},
   "outputs": [],
   "source": [
    "letter = '''\n",
    "Dear |name|,\n",
    "Best wishes from HERE Technologies!!\n",
    "You have cleared the Apptitute round and Eligible for second round be available at venue on |date|,|time|'''\n",
    "name =  input(\"Enter Name : \")\n",
    "time = input(\"Enter Time :\")\n",
    "date = input(\"Enter  Date :\")\n",
    "letter  =  letter.replace(\"|name|\",name).replace(\"|date|\",date).replace(\"|time|\",time)\n",
    "print(letter)"
   ]
  },
  {
   "cell_type": "code",
   "execution_count": null,
   "metadata": {},
   "outputs": [],
   "source": [
    "l1 = list(range(100,1,-7))\n",
    "print(l1)\n",
    "l1.sort()\n",
    "print(l1)\n",
    "print(sum(l1[0:4]))"
   ]
  },
  {
   "cell_type": "code",
   "execution_count": null,
   "metadata": {},
   "outputs": [],
   "source": [
    "mydict = {\n",
    "    \"name\" : [\"anil\", \"mayank\", \"madhu\"],\n",
    "    \"marks\" : [[32],[43, 56]],\n",
    "    \"about\" : { \"mayank\": \"A player\",\"anil\" : \"Trying his best\", \"madhu\" : \"Silent player\"}\n",
    "}\n",
    "mydict\n",
    "mydict.keys()\n",
    "mydict.values()\n",
    "mydict.items()\n",
    "\n",
    "mydictupdate = { \n",
    "    \"hobby\" : \"take keep us busy\"\n",
    "}\n",
    "mydict.update(mydictupdate)\n",
    "print(mydict.get(\"about1\")) #does not throw error"
   ]
  },
  {
   "cell_type": "code",
   "execution_count": null,
   "metadata": {},
   "outputs": [],
   "source": [
    "a = {} # creates dictionary \n",
    "type(a)"
   ]
  },
  {
   "cell_type": "code",
   "execution_count": null,
   "metadata": {},
   "outputs": [],
   "source": [
    "b = set() # create set\n",
    "type(b)"
   ]
  },
  {
   "cell_type": "code",
   "execution_count": null,
   "metadata": {},
   "outputs": [],
   "source": [
    "b.add(5)\n",
    "b.add(8)\n",
    "b.add(5)\n",
    "b.add(8)\n",
    "b.add(5)\n",
    "b.add((1,2,4)) #tuple can be added in set\n",
    "# In Python, any immutable object (such as an integer, boolean, string, tuple) is hashable, meaning its value does not change during its lifetime.\n",
    "b\n",
    "b.pop() # removes an arbitrary value\n",
    "b\n",
    "a = {2,4,5,6,7}\n",
    "b.union(a)\n",
    "a.intersection(b)\n",
    "\n",
    "s = { 20,20.0,\"20\"}\n",
    "len(s)"
   ]
  },
  {
   "cell_type": "code",
   "execution_count": null,
   "metadata": {},
   "outputs": [],
   "source": [
    "favLang = {}\n",
    "a = input(\"Enter your Favorite language Anil : \")\n",
    "b = input(\"Enter your Favorite Language Mayank : \")\n",
    "c = input(\"Enter your Favorite Language Madhu : \")\n",
    "d = input(\"Enter your Favorite Language Hrutvi : \")\n",
    "\n",
    "favLang[\"anil\"] = a\n",
    "favLang[\"mayank\"] = b \n",
    "favLang[\"madhu\"] = c\n",
    "favLang[\"Hrutvi\"] = d\n",
    "\n",
    "favLang"
   ]
  },
  {
   "cell_type": "code",
   "execution_count": null,
   "metadata": {},
   "outputs": [],
   "source": [
    "# is and in\n",
    "a = True\n",
    "if a is True:\n",
    "    print(\"yes\")\n",
    "else:\n",
    "    print(\"no\")\n",
    "    \n",
    "b = [1,2,3,4,55,6]\n",
    "if 2 in b:\n",
    "    print(\"true\")\n",
    "else:\n",
    "    print(\"false\")"
   ]
  },
  {
   "cell_type": "code",
   "execution_count": null,
   "metadata": {},
   "outputs": [],
   "source": [
    "(a,b,c,d) = (12,45,45,44)\n",
    "if a >= b and a >= c  and a >= d :\n",
    "    print(a)\n",
    "elif b >=a and b>=c and b>=d :\n",
    "    print(b,\"b\")\n",
    "elif c>a and c >b and c>d:\n",
    "    print(c)\n",
    "else:\n",
    "    print(d)\n"
   ]
  },
  {
   "cell_type": "code",
   "execution_count": null,
   "metadata": {},
   "outputs": [],
   "source": [
    "l=['Rahul','Mayank','Anil','Suraj',3]\n",
    "for i in range(len(l)):\n",
    "    if str(l[i]).startswith('S'):\n",
    "        print(a+' Hello')"
   ]
  },
  {
   "cell_type": "code",
   "execution_count": null,
   "metadata": {},
   "outputs": [],
   "source": [
    "num = 6\n",
    "\n",
    "# i = 1\n",
    "# for j in range(num,0,-1):\n",
    "#     print(\" \"*j,\"*\"*i)\n",
    "#     i+=2\n",
    "\n",
    "j = num\n",
    "for i in range(0,num,1):\n",
    "    print(\" \"*i,\"*\"*(j*2-1))\n",
    "    j-=1\n",
    "    \n",
    "    "
   ]
  },
  {
   "cell_type": "code",
   "execution_count": null,
   "metadata": {},
   "outputs": [],
   "source": [
    "num = 12\n",
    "for i in range(0,num+1):\n",
    "    if i==0 or i==num:\n",
    "        print(\"*\"*num,end=\"\")\n",
    "    else:\n",
    "        for j in range(1):\n",
    "            for k in range(1,num+1):\n",
    "                if k==1 or k==num:\n",
    "                    print('*',end='')\n",
    "                else:\n",
    "                    print(' ',end='')\n",
    "    print()\n",
    "\n"
   ]
  },
  {
   "cell_type": "code",
   "execution_count": null,
   "metadata": {},
   "outputs": [],
   "source": [
    "num = 8\n",
    "for i in range(1,num+1):\n",
    "    if i==1 or i==num:\n",
    "        print('*'*num,end='')\n",
    "    else:\n",
    "        for k in range(1,num+1):\n",
    "            if k==1 or k==num:\n",
    "                print('*',end='')\n",
    "            else:\n",
    "                print(' ',end='')\n",
    "\n",
    "    print()"
   ]
  },
  {
   "cell_type": "code",
   "execution_count": null,
   "metadata": {},
   "outputs": [],
   "source": [
    "def rip(s,v):\n",
    "    str = s.replace(v,\"are\")\n",
    "    return str.strip()\n",
    "\n",
    "s = \"        hi mayank how r you kasa aahes!!     \"\n",
    "#s= s.strip()\n",
    "print(s)\n",
    "v = 'r'\n",
    "print(rip(s,v))"
   ]
  },
  {
   "cell_type": "code",
   "execution_count": null,
   "metadata": {},
   "outputs": [],
   "source": [
    "import random\n",
    "final=''\n",
    "\n",
    "def game(a):\n",
    "    c = v()\n",
    "    print(c)\n",
    "    if c==a:\n",
    "        final='This is a tie :)'\n",
    "\n",
    "    elif c=='g':\n",
    "        if a=='w':\n",
    "            final='Hurray! You Win :)'\n",
    "        elif a=='s':\n",
    "            final='Sorry:( You Lost :'\n",
    "            \n",
    "    elif c=='w':\n",
    "        if a=='g':\n",
    "             final='Sorry :( You Lost :'\n",
    "        elif a=='s':\n",
    "            final='Hurray! You Win :'\n",
    "    else:\n",
    "        if a=='g':\n",
    "            final='Hurray! You Win :'\n",
    "        elif a=='w':\n",
    "            final='Sorry :( You Lost :'\n",
    "    return final\n",
    "\n",
    "def v():\n",
    "    s=random.randint(1,3)\n",
    "    if s==1:\n",
    "        com='g'\n",
    "    elif s==2:\n",
    "        com='w'\n",
    "    else:\n",
    "        com='s'\n",
    "    return com\n",
    "\n",
    "\n",
    "\n",
    "while True:\n",
    "    a = input(\"Enter your choice from Gun(g) water(w) or snake(s) ?\")\n",
    "    if a=='s' or a=='w' or a=='g':\n",
    "        break\n",
    "    else:\n",
    "        print(\"Invalid Choice! \")\n",
    "        \n",
    "\n",
    "print(game(a))"
   ]
  },
  {
   "cell_type": "code",
   "execution_count": null,
   "metadata": {},
   "outputs": [],
   "source": []
  },
  {
   "cell_type": "code",
   "execution_count": null,
   "metadata": {},
   "outputs": [],
   "source": [
    "import random\n",
    "current_score = 0\n",
    "final=''\n",
    "\n",
    "def game():\n",
    "    global current_score\n",
    "    while True:\n",
    "        c = v()\n",
    "        a=option()\n",
    "        print(c)\n",
    "        if c==a:\n",
    "            final='This is a tie :)'\n",
    "#        current_score\n",
    "\n",
    "        elif c=='g':\n",
    "            if a=='w':\n",
    "                final='Hurray! You Win :'\n",
    "                current_score+=1\n",
    "            elif a=='s':\n",
    "                final='Sorry :( You Lost :'\n",
    "                current_score-=1\n",
    "            \n",
    "        elif c=='w':\n",
    "            if a=='g':\n",
    "                final='Sorry :( You Lost :'\n",
    "                current_score-=1\n",
    "            elif a=='s':\n",
    "                final='Hurray! You Win :'\n",
    "                current_score+=1\n",
    "        else:\n",
    "            if a=='g':\n",
    "                final='Hurray! You Win :'\n",
    "                current_score+=1\n",
    "            elif a=='w':\n",
    "                final='Sorry :( You Lost :'\n",
    "                current_score-=1\n",
    "#        if final=='Hurray! You Win :':\n",
    "#            current_score+=1\n",
    "#        elif final=='Sorry :( You Lost :':\n",
    "#            current_score-=1\n",
    "    \n",
    "        break\n",
    "    print(final)\n",
    "    print(current_score)\n",
    "    return current_score\n",
    "\n",
    "\n",
    "def v():\n",
    "    s=random.randint(1,3)\n",
    "#    s=1\n",
    "    if s==1:\n",
    "        com='g'\n",
    "    elif s==2:\n",
    "        com='w'\n",
    "    else:\n",
    "        com='s'\n",
    "    return com\n",
    "\n",
    "\n",
    "def option():\n",
    "    while True:\n",
    "        a = input(\"Enter your choice from Gun(g) water(w) or snake(s) ?\")\n",
    "        if a=='s' or a=='w' or a=='g':\n",
    "            break\n",
    "            \n",
    "        else:\n",
    "            print(\"Invalid Choice! \")\n",
    "    return a\n",
    "while True:\n",
    "    current_score=game()\n",
    "    z= input(\"Do you want to continue Yes(y) or No(n) ?\")\n",
    "    if z=='y':\n",
    "        continue\n",
    "            \n",
    "    else:\n",
    "        f = open(\"Downloads/HiScore.txt\",'r')\n",
    "        r=int(f.read())\n",
    "        print(r)\n",
    "        f.close()\n",
    "        if current_score>r:\n",
    "            f=open(\"Downloads/HiScore.txt\",'w')\n",
    "            f.write(str(current_score))\n",
    "            f.close()\n",
    "        print(\"Thnak You for Playing \")\n",
    "        f=open(\"Downloads/HiScore.txt\",'r')\n",
    "        r=int(f.read())\n",
    "        print(r)\n",
    "        f.close()\n",
    "    break\n",
    "\n",
    "\n",
    "cal_score=0\n",
    "\n",
    "\n",
    "#option()\n",
    "#print(game())"
   ]
  },
  {
   "cell_type": "code",
   "execution_count": null,
   "metadata": {
    "scrolled": true
   },
   "outputs": [],
   "source": [
    "import os\n",
    "\n",
    "cwd = os.getcwd()\n",
    "print(cwd)\n",
    "for i in range(2,21):\n",
    "    with open(f\"C:/Users/anipatel/  /Table_Of_{i}.txt\",'w') as f:\n",
    "         for j in range(1,11):\n",
    "             f.write(f\"{i}X{j}={i*j}\")\n",
    "    break"
   ]
  },
  {
   "cell_type": "code",
   "execution_count": null,
   "metadata": {},
   "outputs": [],
   "source": [
    "init = ['twinkle','star','high']\n",
    "rep = 'REPLACE'\n",
    "\n",
    "# init = 'twinkle'\n",
    "# rep= '1'\n",
    "\n",
    "# with open('Downloads/test.txt','r') as f:\n",
    "#     r = f.read()\n",
    "#print(r)\n",
    "\n",
    "with open('Downloads/test.txt') as f:\n",
    "    r = f.read()\n",
    "    \n",
    "with open('Downloads/test.txt','w') as f:\n",
    "    for word in init:        \n",
    "        r = r.replace(word,rep)\n",
    "        \n",
    "    f.write(r)\n",
    "    print()\n",
    "        \n",
    "with open('Downloads/test.txt','r') as f:\n",
    "    print(f.read())"
   ]
  },
  {
   "cell_type": "code",
   "execution_count": null,
   "metadata": {},
   "outputs": [],
   "source": [
    "with open('Downloads/test.txt') as f:\n",
    "    r = f.read()\n",
    "    print(r)\n",
    "    if 'diamond' in r:\n",
    "        a = r.index(\"diamond\")\n",
    "        print(a)\n",
    "#     print(f.read())"
   ]
  },
  {
   "cell_type": "code",
   "execution_count": null,
   "metadata": {},
   "outputs": [],
   "source": [
    "c=0\n",
    "content = True\n",
    "words = [\"When\",\"dark\"]\n",
    "with open('Downloads/test.txt') as f:\n",
    "    r = f.read()\n",
    "    count = r.split(\"\\n\")\n",
    "    print(r)\n",
    "\n",
    "for i in count:\n",
    "    if i:\n",
    "        c +=1\n",
    "print(c)\n",
    "\n",
    "with open('Downloads/test.txt') as f:\n",
    "    for w in words:\n",
    "        k=1\n",
    "        for i in range(0,c):\n",
    "            content = f.readline()\n",
    "            if w in content:\n",
    "                print(content)\n",
    "                print(k)\n",
    "            k+=1\n",
    "        f.seek(0,0)\n",
    "            \n",
    "        \n",
    "    \n"
   ]
  },
  {
   "cell_type": "code",
   "execution_count": null,
   "metadata": {},
   "outputs": [],
   "source": [
    "class Sample:\n",
    "    def __init__(self,a):\n",
    "        def getLoc(s,a):\n",
    "            "
   ]
  },
  {
   "cell_type": "code",
   "execution_count": null,
   "metadata": {},
   "outputs": [],
   "source": [
    "class cl:\n",
    "    a=1\n",
    "    print(a)\n",
    "    def val(self):\n",
    "        b=a*a*a\n",
    "        print(b)\n",
    "        print(id(self))\n",
    "c=cl()\n",
    "a=5\n",
    "c.val()\n"
   ]
  },
  {
   "cell_type": "code",
   "execution_count": null,
   "metadata": {},
   "outputs": [],
   "source": [
    "class Sample:\n",
    "    def __init__(self):\n",
    "        self.x = 10\n",
    "        \n",
    "    def modify(self):\n",
    "        self.x+=1\n",
    "        \n",
    "s1 = Sample()\n",
    "s2 = Sample()\n",
    "\n",
    "print(\"x in S1 = \", s1.x)\n",
    "print(\"x in s2 = \", s2.x)\n",
    "\n",
    "s1.modify()\n",
    "print(\"x in s1 = \", s1.x)\n",
    "print(\"x in s2 = \", s2.x)"
   ]
  },
  {
   "cell_type": "code",
   "execution_count": null,
   "metadata": {},
   "outputs": [],
   "source": [
    "class Train:\n",
    "    def bookingSeat(self,name):\n",
    "        print(f'Your ticket is boocked Mr. {self.name}\\nThank You!')\n",
    "    def getFair(self,fair):\n",
    "        print(f'Your fair for this train is {self.fair}')\n",
    "    def getSeatAvailable(self,seatAvailable):\n",
    "        print(self.seatAvailable)\n",
    "\n",
    "\n",
    "\n",
    "t=Train()\n",
    "t.name='Anil'\n",
    "t.fair=500\n",
    "t.seatAvailable=95\n",
    "t.bookingSeat(t.name)\n",
    "t.getFair(t.fair)\n",
    "t.getSeatAvailable(t.seatAvailable)"
   ]
  },
  {
   "cell_type": "code",
   "execution_count": null,
   "metadata": {},
   "outputs": [],
   "source": [
    "class Number:\n",
    "    company = 'maaaaa'\n",
    "    \n",
    "    def __init__(self,num):\n",
    "        self.num = num\n",
    "        \n",
    "    \n",
    "        \n",
    "    def __add__(self,num):\n",
    "        if self.num <4:\n",
    "            a = 'anil'\n",
    "            b = self.num\n",
    "        else :\n",
    "            a = 'mayank'\n",
    "            b = num.num\n",
    "        \n",
    "        a = a*b + self.company*b\n",
    "\n",
    "        return a\n",
    "        \n",
    "        \n",
    "n1 = Number(4)\n",
    "n2 = Number(6)\n",
    "# s=n1+n2\n",
    "print(n1+n2)\n",
    "    "
   ]
  },
  {
   "cell_type": "code",
   "execution_count": null,
   "metadata": {},
   "outputs": [],
   "source": [
    "num = 8\n",
    "for i in range(1,num+1):\n",
    "    if i==1 or i==num:\n",
    "        print('*'*num,end='')\n",
    "    else:\n",
    "        for k in range(1,num+1):\n",
    "            if k==1 or k==num:\n",
    "                print('*',end='')\n",
    "            else:\n",
    "                print(' ',end='')\n",
    "\n",
    "    print()"
   ]
  },
  {
   "cell_type": "code",
   "execution_count": null,
   "metadata": {},
   "outputs": [],
   "source": [
    "n=8\n",
    "\n",
    "j=0\n",
    "\n",
    "for i in range(n,0,-1):\n",
    "    if n==i or i==1:\n",
    "        print(\"*\"*(n*2))\n",
    "    else :\n",
    "        print(\"*\"*i,\" \"*j,\"*\"*i)\n",
    "        j+=2"
   ]
  },
  {
   "cell_type": "code",
   "execution_count": null,
   "metadata": {},
   "outputs": [],
   "source": [
    "import math\n",
    "frac,whole = math.modf(13/3)\n",
    "print(frac, whole)"
   ]
  },
  {
   "cell_type": "code",
   "execution_count": null,
   "metadata": {},
   "outputs": [],
   "source": [
    "\n",
    "dict = {}\n",
    "subdict = {}\n",
    "\n",
    "for i in range(2):\n",
    "#     print(subdict)\n",
    "    for j in range(3):\n",
    "        subdict[j] = 13**j\n",
    "    \n",
    "    dict[i]=subdict\n",
    "print(dict)\n",
    "# print(dict[0][0])\n",
    "# print(len(dict))\n",
    "\n",
    "\n",
    "# for i in dict:\n",
    "#     print(i,\" mayank\")\n",
    "#     for j in dict[i]:\n",
    "#         print(dict[i], \"Pandey\")\n",
    "#         print(dict[i][j])\n",
    "\n",
    "\n",
    "for i in dict:\n",
    "    sub = dict[i]\n",
    "#     print(i,\" mayank\")\n",
    "    for j in sub:\n",
    "#         print(dict[i], \"Pandey\")\n",
    "        print(sub[j])    "
   ]
  },
  {
   "cell_type": "code",
   "execution_count": null,
   "metadata": {},
   "outputs": [],
   "source": [
    "import pandas as pd\n",
    "import numpy as np\n",
    "import matplotlib.pyplot as plt"
   ]
  },
  {
   "cell_type": "code",
   "execution_count": null,
   "metadata": {},
   "outputs": [],
   "source": [
    "df = pd.read_excel('C:/Users/anipatel/Downloads/Projects/CTF/CTF v104/CTF changes.xlsx')"
   ]
  },
  {
   "cell_type": "code",
   "execution_count": null,
   "metadata": {},
   "outputs": [],
   "source": [
    "df.columns "
   ]
  },
  {
   "cell_type": "code",
   "execution_count": null,
   "metadata": {},
   "outputs": [],
   "source": [
    "df.head(1)"
   ]
  },
  {
   "cell_type": "code",
   "execution_count": null,
   "metadata": {},
   "outputs": [],
   "source": [
    "f = df.groupby([\"ruleName\",\"error_message\"])['error_message'].count()\n",
    "f.filter(lambda x : \"xFail\" == NaN)   #filter(lambda x: len(x) >= 2)"
   ]
  },
  {
   "cell_type": "code",
   "execution_count": null,
   "metadata": {},
   "outputs": [],
   "source": [
    "a = 10/3\n",
    "print(\"{0:.40f}\".format(a))\n",
    "print('%.2f'%a)\n",
    "print(round(a,5))\n"
   ]
  },
  {
   "cell_type": "code",
   "execution_count": null,
   "metadata": {},
   "outputs": [],
   "source": [
    "x = 7\n",
    "x<<=4\n",
    "~x"
   ]
  },
  {
   "cell_type": "code",
   "execution_count": null,
   "metadata": {},
   "outputs": [],
   "source": [
    "for i in range(0,10):\n",
    "    for j in range(0,10):\n",
    "        if i==0 and j==0:\n",
    "            pass\n",
    "        else:\n",
    "            print(i,j)\n",
    "        if i==9 and j==9:\n",
    "            print(i+1,0)\n",
    "        "
   ]
  },
  {
   "cell_type": "code",
   "execution_count": null,
   "metadata": {},
   "outputs": [],
   "source": [
    "j= 0\n",
    "while j<10:\n",
    "    for i in range(0,10):\n",
    "        if i ==0 and j == 0:\n",
    "            pass\n",
    "        else:\n",
    "            print(j,i)\n",
    "    j+=1\n",
    "print(j,0)\n",
    "        "
   ]
  },
  {
   "cell_type": "code",
   "execution_count": 15,
   "metadata": {},
   "outputs": [
    {
     "name": "stdout",
     "output_type": "stream",
     "text": [
      "[0, 1, 1, 2, 3, 5, 8, 13, 21, 34, 55, 89, 144, 233, 377, 610, 987, 1597, 2584, 4181, 6765, 10946]\n"
     ]
    },
    {
     "data": {
      "text/plain": [
       "6765"
      ]
     },
     "execution_count": 15,
     "metadata": {},
     "output_type": "execute_result"
    }
   ],
   "source": [
    "def fibo(k):\n",
    "    '''\n",
    "    Computes the largest fibonacci number with k digits.\n",
    "    Parameters:\n",
    "    -----------\n",
    "    k : an integer greater than 0, representing number of digits in \n",
    "      the fibonacci number \n",
    "\n",
    "    Return:\n",
    "    -------\n",
    "    num : largest fibonacci number with k digits.\n",
    "    '''\n",
    "    # write your code here\n",
    "    \n",
    "    f = [0, 1]\n",
    "    n = 5*k\n",
    "    num = 0\n",
    "    for i in range(2, n+2):\n",
    "        f.append(f[i-1] + f[i-2])\n",
    "    print(f)\n",
    "    # return the number\n",
    "    \n",
    "    for j in f[::-1]:\n",
    "        if len(str(j)) == k:\n",
    "            num = j\n",
    "            break\n",
    "  \n",
    "                    \n",
    "    \n",
    "    return num\n",
    "\n",
    "fibo(4)"
   ]
  },
  {
   "cell_type": "code",
   "execution_count": null,
   "metadata": {},
   "outputs": [],
   "source": []
  }
 ],
 "metadata": {
  "kernelspec": {
   "display_name": "Python 3",
   "language": "python",
   "name": "python3"
  },
  "language_info": {
   "codemirror_mode": {
    "name": "ipython",
    "version": 3
   },
   "file_extension": ".py",
   "mimetype": "text/x-python",
   "name": "python",
   "nbconvert_exporter": "python",
   "pygments_lexer": "ipython3",
   "version": "3.8.5"
  }
 },
 "nbformat": 4,
 "nbformat_minor": 4
}
