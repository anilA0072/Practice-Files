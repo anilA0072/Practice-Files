{
 "cells": [
  {
   "cell_type": "markdown",
   "metadata": {},
   "source": [
    "import pandas as pd <br>\n",
    "Pandas is a Python library used for working with data sets.\n",
    "It has functions for analyzing, cleaning, exploring, and manipulating data. <br>\n",
    "\n",
    "import numpy as np <br>\n",
    "Using NumPy, mathematical and logical operations on arrays can be performed. <br>\n",
    "\n",
    "import matplotlib.pyplot as plt <br>\n",
    "Matplotlib is a low level graph plotting library in python that serves as a visualization utility. <br>\n",
    "\n"
   ]
  },
  {
   "cell_type": "code",
   "execution_count": 36,
   "metadata": {},
   "outputs": [],
   "source": [
    "import pandas as pd\n",
    "import numpy as np\n",
    "import matplotlib.pyplot as plt"
   ]
  },
  {
   "cell_type": "code",
   "execution_count": 37,
   "metadata": {
    "scrolled": true
   },
   "outputs": [
    {
     "data": {
      "text/html": [
       "<div>\n",
       "<style scoped>\n",
       "    .dataframe tbody tr th:only-of-type {\n",
       "        vertical-align: middle;\n",
       "    }\n",
       "\n",
       "    .dataframe tbody tr th {\n",
       "        vertical-align: top;\n",
       "    }\n",
       "\n",
       "    .dataframe thead th {\n",
       "        text-align: right;\n",
       "    }\n",
       "</style>\n",
       "<table border=\"1\" class=\"dataframe\">\n",
       "  <thead>\n",
       "    <tr style=\"text-align: right;\">\n",
       "      <th></th>\n",
       "      <th>Description</th>\n",
       "      <th>Price</th>\n",
       "      <th>Ratting</th>\n",
       "      <th>Reviews</th>\n",
       "      <th>Product_link</th>\n",
       "    </tr>\n",
       "  </thead>\n",
       "  <tbody>\n",
       "    <tr>\n",
       "      <th>0</th>\n",
       "      <td>Samsung Galaxy S10 Lite (Prism White, 8GB RAM,...</td>\n",
       "      <td>₹36,449</td>\n",
       "      <td>4.2 out of 5 stars</td>\n",
       "      <td>66</td>\n",
       "      <td>https://www.amazon.com/Samsung-Galaxy-Prism-Wh...</td>\n",
       "    </tr>\n",
       "    <tr>\n",
       "      <th>1</th>\n",
       "      <td>Samsung Galaxy S10 Lite (Prism Black, 8GB RAM,...</td>\n",
       "      <td>NaN</td>\n",
       "      <td>4.3 out of 5 stars</td>\n",
       "      <td>64</td>\n",
       "      <td>https://www.amazon.com/Samsung-Galaxy-Prism-Bl...</td>\n",
       "    </tr>\n",
       "    <tr>\n",
       "      <th>2</th>\n",
       "      <td>Samsung Galaxy S10 Lite (Prism Black, 8GB RAM,...</td>\n",
       "      <td>₹39,999</td>\n",
       "      <td>4.4 out of 5 stars</td>\n",
       "      <td>66</td>\n",
       "      <td>https://www.amazon.com/Samsung-Galaxy-Prism-Bl...</td>\n",
       "    </tr>\n",
       "    <tr>\n",
       "      <th>3</th>\n",
       "      <td>Samsung Galaxy S10 Lite (Prism White, 8GB RAM,...</td>\n",
       "      <td>₹42,990</td>\n",
       "      <td>3.9 out of 5 stars</td>\n",
       "      <td>30</td>\n",
       "      <td>https://www.amazon.com/Samsung-Galaxy-Prism-Wh...</td>\n",
       "    </tr>\n",
       "    <tr>\n",
       "      <th>4</th>\n",
       "      <td>Samsung Galaxy S10 Lite (Prism Blue, 8GB RAM, ...</td>\n",
       "      <td>NaN</td>\n",
       "      <td>4.3 out of 5 stars</td>\n",
       "      <td>38</td>\n",
       "      <td>https://www.amazon.com/Samsung-Galaxy-Lite-Pri...</td>\n",
       "    </tr>\n",
       "    <tr>\n",
       "      <th>...</th>\n",
       "      <td>...</td>\n",
       "      <td>...</td>\n",
       "      <td>...</td>\n",
       "      <td>...</td>\n",
       "      <td>...</td>\n",
       "    </tr>\n",
       "    <tr>\n",
       "      <th>62</th>\n",
       "      <td>Samsung Galaxy Z Flip (Gold, 8GB RAM, 256GB St...</td>\n",
       "      <td>₹84,999</td>\n",
       "      <td>3.8 out of 5 stars</td>\n",
       "      <td>71</td>\n",
       "      <td>https://www.amazon.com/Samsung-Galaxy-Storage-...</td>\n",
       "    </tr>\n",
       "    <tr>\n",
       "      <th>63</th>\n",
       "      <td>Samsung Galaxy S21 Ultra 5G (Phantom Silver, 1...</td>\n",
       "      <td>₹1,05,999</td>\n",
       "      <td>4.2 out of 5 stars</td>\n",
       "      <td>411</td>\n",
       "      <td>https://www.amazon.com/Samsung-Galaxy-Phantom-...</td>\n",
       "    </tr>\n",
       "    <tr>\n",
       "      <th>64</th>\n",
       "      <td>Samsung Galaxy Z Flip (Black, 8GB RAM, 256GB S...</td>\n",
       "      <td>₹84,999</td>\n",
       "      <td>3.8 out of 5 stars</td>\n",
       "      <td>71</td>\n",
       "      <td>https://www.amazon.com/Samsung-Galaxy-Storage-...</td>\n",
       "    </tr>\n",
       "    <tr>\n",
       "      <th>65</th>\n",
       "      <td>Samsung Galaxy S21 Ultra 5G (Phantom Black, 12...</td>\n",
       "      <td>₹1,05,999</td>\n",
       "      <td>4.2 out of 5 stars</td>\n",
       "      <td>411</td>\n",
       "      <td>https://www.amazon.com/Samsung-Galaxy-Phantom-...</td>\n",
       "    </tr>\n",
       "    <tr>\n",
       "      <th>66</th>\n",
       "      <td>Samsung Galaxy Note 10 (Aura Red, 8GB RAM, 256...</td>\n",
       "      <td>₹73,600</td>\n",
       "      <td>4.4 out of 5 stars</td>\n",
       "      <td>263</td>\n",
       "      <td>https://www.amazon.com/Samsung-Galaxy-Storage-...</td>\n",
       "    </tr>\n",
       "  </tbody>\n",
       "</table>\n",
       "<p>67 rows × 5 columns</p>\n",
       "</div>"
      ],
      "text/plain": [
       "                                          Description      Price  \\\n",
       "0   Samsung Galaxy S10 Lite (Prism White, 8GB RAM,...    ₹36,449   \n",
       "1   Samsung Galaxy S10 Lite (Prism Black, 8GB RAM,...        NaN   \n",
       "2   Samsung Galaxy S10 Lite (Prism Black, 8GB RAM,...    ₹39,999   \n",
       "3   Samsung Galaxy S10 Lite (Prism White, 8GB RAM,...    ₹42,990   \n",
       "4   Samsung Galaxy S10 Lite (Prism Blue, 8GB RAM, ...        NaN   \n",
       "..                                                ...        ...   \n",
       "62  Samsung Galaxy Z Flip (Gold, 8GB RAM, 256GB St...    ₹84,999   \n",
       "63  Samsung Galaxy S21 Ultra 5G (Phantom Silver, 1...  ₹1,05,999   \n",
       "64  Samsung Galaxy Z Flip (Black, 8GB RAM, 256GB S...    ₹84,999   \n",
       "65  Samsung Galaxy S21 Ultra 5G (Phantom Black, 12...  ₹1,05,999   \n",
       "66  Samsung Galaxy Note 10 (Aura Red, 8GB RAM, 256...    ₹73,600   \n",
       "\n",
       "               Ratting Reviews  \\\n",
       "0   4.2 out of 5 stars      66   \n",
       "1   4.3 out of 5 stars      64   \n",
       "2   4.4 out of 5 stars      66   \n",
       "3   3.9 out of 5 stars      30   \n",
       "4   4.3 out of 5 stars      38   \n",
       "..                 ...     ...   \n",
       "62  3.8 out of 5 stars      71   \n",
       "63  4.2 out of 5 stars     411   \n",
       "64  3.8 out of 5 stars      71   \n",
       "65  4.2 out of 5 stars     411   \n",
       "66  4.4 out of 5 stars     263   \n",
       "\n",
       "                                         Product_link  \n",
       "0   https://www.amazon.com/Samsung-Galaxy-Prism-Wh...  \n",
       "1   https://www.amazon.com/Samsung-Galaxy-Prism-Bl...  \n",
       "2   https://www.amazon.com/Samsung-Galaxy-Prism-Bl...  \n",
       "3   https://www.amazon.com/Samsung-Galaxy-Prism-Wh...  \n",
       "4   https://www.amazon.com/Samsung-Galaxy-Lite-Pri...  \n",
       "..                                                ...  \n",
       "62  https://www.amazon.com/Samsung-Galaxy-Storage-...  \n",
       "63  https://www.amazon.com/Samsung-Galaxy-Phantom-...  \n",
       "64  https://www.amazon.com/Samsung-Galaxy-Storage-...  \n",
       "65  https://www.amazon.com/Samsung-Galaxy-Phantom-...  \n",
       "66  https://www.amazon.com/Samsung-Galaxy-Storage-...  \n",
       "\n",
       "[67 rows x 5 columns]"
      ]
     },
     "execution_count": 37,
     "metadata": {},
     "output_type": "execute_result"
    }
   ],
   "source": [
    "# www.github.com /gennybc/gapminder\n",
    "df = pd.read_csv(\"Downloads/AmazonRecods.csv\")\n",
    "df"
   ]
  },
  {
   "cell_type": "code",
   "execution_count": 38,
   "metadata": {},
   "outputs": [
    {
     "name": "stdout",
     "output_type": "stream",
     "text": [
      "<class 'pandas.core.frame.DataFrame'>\n",
      "RangeIndex: 67 entries, 0 to 66\n",
      "Data columns (total 5 columns):\n",
      " #   Column        Non-Null Count  Dtype \n",
      "---  ------        --------------  ----- \n",
      " 0   Description   67 non-null     object\n",
      " 1   Price         56 non-null     object\n",
      " 2   Ratting       66 non-null     object\n",
      " 3   Reviews       66 non-null     object\n",
      " 4   Product_link  67 non-null     object\n",
      "dtypes: object(5)\n",
      "memory usage: 2.7+ KB\n"
     ]
    }
   ],
   "source": [
    "df.info()"
   ]
  },
  {
   "cell_type": "code",
   "execution_count": 39,
   "metadata": {},
   "outputs": [
    {
     "data": {
      "text/plain": [
       "(67, 5)"
      ]
     },
     "execution_count": 39,
     "metadata": {},
     "output_type": "execute_result"
    }
   ],
   "source": [
    "df.shape  #Returns dimentions of table number rowsxcolumns "
   ]
  },
  {
   "cell_type": "code",
   "execution_count": 40,
   "metadata": {
    "scrolled": true
   },
   "outputs": [
    {
     "data": {
      "text/html": [
       "<div>\n",
       "<style scoped>\n",
       "    .dataframe tbody tr th:only-of-type {\n",
       "        vertical-align: middle;\n",
       "    }\n",
       "\n",
       "    .dataframe tbody tr th {\n",
       "        vertical-align: top;\n",
       "    }\n",
       "\n",
       "    .dataframe thead th {\n",
       "        text-align: right;\n",
       "    }\n",
       "</style>\n",
       "<table border=\"1\" class=\"dataframe\">\n",
       "  <thead>\n",
       "    <tr style=\"text-align: right;\">\n",
       "      <th></th>\n",
       "      <th>Description</th>\n",
       "      <th>Price</th>\n",
       "      <th>Ratting</th>\n",
       "      <th>Reviews</th>\n",
       "      <th>Product_link</th>\n",
       "    </tr>\n",
       "  </thead>\n",
       "  <tbody>\n",
       "    <tr>\n",
       "      <th>0</th>\n",
       "      <td>Samsung Galaxy S10 Lite (Prism White, 8GB RAM,...</td>\n",
       "      <td>₹36,449</td>\n",
       "      <td>4.2 out of 5 stars</td>\n",
       "      <td>66</td>\n",
       "      <td>https://www.amazon.com/Samsung-Galaxy-Prism-Wh...</td>\n",
       "    </tr>\n",
       "    <tr>\n",
       "      <th>1</th>\n",
       "      <td>Samsung Galaxy S10 Lite (Prism Black, 8GB RAM,...</td>\n",
       "      <td>NaN</td>\n",
       "      <td>4.3 out of 5 stars</td>\n",
       "      <td>64</td>\n",
       "      <td>https://www.amazon.com/Samsung-Galaxy-Prism-Bl...</td>\n",
       "    </tr>\n",
       "    <tr>\n",
       "      <th>2</th>\n",
       "      <td>Samsung Galaxy S10 Lite (Prism Black, 8GB RAM,...</td>\n",
       "      <td>₹39,999</td>\n",
       "      <td>4.4 out of 5 stars</td>\n",
       "      <td>66</td>\n",
       "      <td>https://www.amazon.com/Samsung-Galaxy-Prism-Bl...</td>\n",
       "    </tr>\n",
       "    <tr>\n",
       "      <th>3</th>\n",
       "      <td>Samsung Galaxy S10 Lite (Prism White, 8GB RAM,...</td>\n",
       "      <td>₹42,990</td>\n",
       "      <td>3.9 out of 5 stars</td>\n",
       "      <td>30</td>\n",
       "      <td>https://www.amazon.com/Samsung-Galaxy-Prism-Wh...</td>\n",
       "    </tr>\n",
       "    <tr>\n",
       "      <th>4</th>\n",
       "      <td>Samsung Galaxy S10 Lite (Prism Blue, 8GB RAM, ...</td>\n",
       "      <td>NaN</td>\n",
       "      <td>4.3 out of 5 stars</td>\n",
       "      <td>38</td>\n",
       "      <td>https://www.amazon.com/Samsung-Galaxy-Lite-Pri...</td>\n",
       "    </tr>\n",
       "  </tbody>\n",
       "</table>\n",
       "</div>"
      ],
      "text/plain": [
       "                                         Description    Price  \\\n",
       "0  Samsung Galaxy S10 Lite (Prism White, 8GB RAM,...  ₹36,449   \n",
       "1  Samsung Galaxy S10 Lite (Prism Black, 8GB RAM,...      NaN   \n",
       "2  Samsung Galaxy S10 Lite (Prism Black, 8GB RAM,...  ₹39,999   \n",
       "3  Samsung Galaxy S10 Lite (Prism White, 8GB RAM,...  ₹42,990   \n",
       "4  Samsung Galaxy S10 Lite (Prism Blue, 8GB RAM, ...      NaN   \n",
       "\n",
       "              Ratting Reviews  \\\n",
       "0  4.2 out of 5 stars      66   \n",
       "1  4.3 out of 5 stars      64   \n",
       "2  4.4 out of 5 stars      66   \n",
       "3  3.9 out of 5 stars      30   \n",
       "4  4.3 out of 5 stars      38   \n",
       "\n",
       "                                        Product_link  \n",
       "0  https://www.amazon.com/Samsung-Galaxy-Prism-Wh...  \n",
       "1  https://www.amazon.com/Samsung-Galaxy-Prism-Bl...  \n",
       "2  https://www.amazon.com/Samsung-Galaxy-Prism-Bl...  \n",
       "3  https://www.amazon.com/Samsung-Galaxy-Prism-Wh...  \n",
       "4  https://www.amazon.com/Samsung-Galaxy-Lite-Pri...  "
      ]
     },
     "execution_count": 40,
     "metadata": {},
     "output_type": "execute_result"
    }
   ],
   "source": [
    "df.head()  #default returns top 5 records "
   ]
  },
  {
   "cell_type": "code",
   "execution_count": 41,
   "metadata": {
    "scrolled": true
   },
   "outputs": [
    {
     "data": {
      "text/html": [
       "<div>\n",
       "<style scoped>\n",
       "    .dataframe tbody tr th:only-of-type {\n",
       "        vertical-align: middle;\n",
       "    }\n",
       "\n",
       "    .dataframe tbody tr th {\n",
       "        vertical-align: top;\n",
       "    }\n",
       "\n",
       "    .dataframe thead th {\n",
       "        text-align: right;\n",
       "    }\n",
       "</style>\n",
       "<table border=\"1\" class=\"dataframe\">\n",
       "  <thead>\n",
       "    <tr style=\"text-align: right;\">\n",
       "      <th></th>\n",
       "      <th>Description</th>\n",
       "      <th>Price</th>\n",
       "      <th>Ratting</th>\n",
       "      <th>Reviews</th>\n",
       "      <th>Product_link</th>\n",
       "    </tr>\n",
       "  </thead>\n",
       "  <tbody>\n",
       "    <tr>\n",
       "      <th>64</th>\n",
       "      <td>Samsung Galaxy Z Flip (Black, 8GB RAM, 256GB S...</td>\n",
       "      <td>₹84,999</td>\n",
       "      <td>3.8 out of 5 stars</td>\n",
       "      <td>71</td>\n",
       "      <td>https://www.amazon.com/Samsung-Galaxy-Storage-...</td>\n",
       "    </tr>\n",
       "    <tr>\n",
       "      <th>65</th>\n",
       "      <td>Samsung Galaxy S21 Ultra 5G (Phantom Black, 12...</td>\n",
       "      <td>₹1,05,999</td>\n",
       "      <td>4.2 out of 5 stars</td>\n",
       "      <td>411</td>\n",
       "      <td>https://www.amazon.com/Samsung-Galaxy-Phantom-...</td>\n",
       "    </tr>\n",
       "    <tr>\n",
       "      <th>66</th>\n",
       "      <td>Samsung Galaxy Note 10 (Aura Red, 8GB RAM, 256...</td>\n",
       "      <td>₹73,600</td>\n",
       "      <td>4.4 out of 5 stars</td>\n",
       "      <td>263</td>\n",
       "      <td>https://www.amazon.com/Samsung-Galaxy-Storage-...</td>\n",
       "    </tr>\n",
       "  </tbody>\n",
       "</table>\n",
       "</div>"
      ],
      "text/plain": [
       "                                          Description      Price  \\\n",
       "64  Samsung Galaxy Z Flip (Black, 8GB RAM, 256GB S...    ₹84,999   \n",
       "65  Samsung Galaxy S21 Ultra 5G (Phantom Black, 12...  ₹1,05,999   \n",
       "66  Samsung Galaxy Note 10 (Aura Red, 8GB RAM, 256...    ₹73,600   \n",
       "\n",
       "               Ratting Reviews  \\\n",
       "64  3.8 out of 5 stars      71   \n",
       "65  4.2 out of 5 stars     411   \n",
       "66  4.4 out of 5 stars     263   \n",
       "\n",
       "                                         Product_link  \n",
       "64  https://www.amazon.com/Samsung-Galaxy-Storage-...  \n",
       "65  https://www.amazon.com/Samsung-Galaxy-Phantom-...  \n",
       "66  https://www.amazon.com/Samsung-Galaxy-Storage-...  "
      ]
     },
     "execution_count": 41,
     "metadata": {},
     "output_type": "execute_result"
    }
   ],
   "source": [
    "df.tail(3)  #default return last 5 records | Number of records can be mentioned in ()"
   ]
  },
  {
   "cell_type": "code",
   "execution_count": 42,
   "metadata": {},
   "outputs": [
    {
     "data": {
      "text/plain": [
       "Index(['Description', 'Price', 'Ratting', 'Reviews', 'Product_link'], dtype='object')"
      ]
     },
     "execution_count": 42,
     "metadata": {},
     "output_type": "execute_result"
    }
   ],
   "source": [
    "df.columns"
   ]
  },
  {
   "cell_type": "code",
   "execution_count": 43,
   "metadata": {},
   "outputs": [
    {
     "data": {
      "text/html": [
       "<div>\n",
       "<style scoped>\n",
       "    .dataframe tbody tr th:only-of-type {\n",
       "        vertical-align: middle;\n",
       "    }\n",
       "\n",
       "    .dataframe tbody tr th {\n",
       "        vertical-align: top;\n",
       "    }\n",
       "\n",
       "    .dataframe thead th {\n",
       "        text-align: right;\n",
       "    }\n",
       "</style>\n",
       "<table border=\"1\" class=\"dataframe\">\n",
       "  <thead>\n",
       "    <tr style=\"text-align: right;\">\n",
       "      <th></th>\n",
       "      <th>Price</th>\n",
       "      <th>Description</th>\n",
       "    </tr>\n",
       "  </thead>\n",
       "  <tbody>\n",
       "    <tr>\n",
       "      <th>0</th>\n",
       "      <td>₹36,449</td>\n",
       "      <td>Samsung Galaxy S10 Lite (Prism White, 8GB RAM,...</td>\n",
       "    </tr>\n",
       "    <tr>\n",
       "      <th>1</th>\n",
       "      <td>NaN</td>\n",
       "      <td>Samsung Galaxy S10 Lite (Prism Black, 8GB RAM,...</td>\n",
       "    </tr>\n",
       "    <tr>\n",
       "      <th>2</th>\n",
       "      <td>₹39,999</td>\n",
       "      <td>Samsung Galaxy S10 Lite (Prism Black, 8GB RAM,...</td>\n",
       "    </tr>\n",
       "    <tr>\n",
       "      <th>3</th>\n",
       "      <td>₹42,990</td>\n",
       "      <td>Samsung Galaxy S10 Lite (Prism White, 8GB RAM,...</td>\n",
       "    </tr>\n",
       "    <tr>\n",
       "      <th>4</th>\n",
       "      <td>NaN</td>\n",
       "      <td>Samsung Galaxy S10 Lite (Prism Blue, 8GB RAM, ...</td>\n",
       "    </tr>\n",
       "    <tr>\n",
       "      <th>...</th>\n",
       "      <td>...</td>\n",
       "      <td>...</td>\n",
       "    </tr>\n",
       "    <tr>\n",
       "      <th>62</th>\n",
       "      <td>₹84,999</td>\n",
       "      <td>Samsung Galaxy Z Flip (Gold, 8GB RAM, 256GB St...</td>\n",
       "    </tr>\n",
       "    <tr>\n",
       "      <th>63</th>\n",
       "      <td>₹1,05,999</td>\n",
       "      <td>Samsung Galaxy S21 Ultra 5G (Phantom Silver, 1...</td>\n",
       "    </tr>\n",
       "    <tr>\n",
       "      <th>64</th>\n",
       "      <td>₹84,999</td>\n",
       "      <td>Samsung Galaxy Z Flip (Black, 8GB RAM, 256GB S...</td>\n",
       "    </tr>\n",
       "    <tr>\n",
       "      <th>65</th>\n",
       "      <td>₹1,05,999</td>\n",
       "      <td>Samsung Galaxy S21 Ultra 5G (Phantom Black, 12...</td>\n",
       "    </tr>\n",
       "    <tr>\n",
       "      <th>66</th>\n",
       "      <td>₹73,600</td>\n",
       "      <td>Samsung Galaxy Note 10 (Aura Red, 8GB RAM, 256...</td>\n",
       "    </tr>\n",
       "  </tbody>\n",
       "</table>\n",
       "<p>67 rows × 2 columns</p>\n",
       "</div>"
      ],
      "text/plain": [
       "        Price                                        Description\n",
       "0     ₹36,449  Samsung Galaxy S10 Lite (Prism White, 8GB RAM,...\n",
       "1         NaN  Samsung Galaxy S10 Lite (Prism Black, 8GB RAM,...\n",
       "2     ₹39,999  Samsung Galaxy S10 Lite (Prism Black, 8GB RAM,...\n",
       "3     ₹42,990  Samsung Galaxy S10 Lite (Prism White, 8GB RAM,...\n",
       "4         NaN  Samsung Galaxy S10 Lite (Prism Blue, 8GB RAM, ...\n",
       "..        ...                                                ...\n",
       "62    ₹84,999  Samsung Galaxy Z Flip (Gold, 8GB RAM, 256GB St...\n",
       "63  ₹1,05,999  Samsung Galaxy S21 Ultra 5G (Phantom Silver, 1...\n",
       "64    ₹84,999  Samsung Galaxy Z Flip (Black, 8GB RAM, 256GB S...\n",
       "65  ₹1,05,999  Samsung Galaxy S21 Ultra 5G (Phantom Black, 12...\n",
       "66    ₹73,600  Samsung Galaxy Note 10 (Aura Red, 8GB RAM, 256...\n",
       "\n",
       "[67 rows x 2 columns]"
      ]
     },
     "execution_count": 43,
     "metadata": {},
     "output_type": "execute_result"
    }
   ],
   "source": [
    "df1 = df[['Price','Description']] # [['']] is used for more then one coloums for creating subsets\n",
    "df1"
   ]
  },
  {
   "cell_type": "code",
   "execution_count": 44,
   "metadata": {},
   "outputs": [
    {
     "data": {
      "text/plain": [
       "Description     Samsung Galaxy S10 Lite (Prism Black, 8GB RAM,...\n",
       "Price                                                         NaN\n",
       "Ratting                                        4.3 out of 5 stars\n",
       "Reviews                                                        64\n",
       "Product_link    https://www.amazon.com/Samsung-Galaxy-Prism-Bl...\n",
       "Name: 1, dtype: object"
      ]
     },
     "execution_count": 44,
     "metadata": {},
     "output_type": "execute_result"
    }
   ],
   "source": [
    "df.loc[1]  # -1 can't be used"
   ]
  },
  {
   "cell_type": "code",
   "execution_count": 45,
   "metadata": {},
   "outputs": [
    {
     "data": {
      "text/plain": [
       "Description     Samsung Galaxy S21 Ultra 5G (Phantom Black, 12...\n",
       "Price                                                   ₹1,05,999\n",
       "Ratting                                        4.2 out of 5 stars\n",
       "Reviews                                                       411\n",
       "Product_link    https://www.amazon.com/Samsung-Galaxy-Phantom-...\n",
       "Name: 65, dtype: object"
      ]
     },
     "execution_count": 45,
     "metadata": {},
     "output_type": "execute_result"
    }
   ],
   "source": [
    "df.iloc[-2] "
   ]
  },
  {
   "cell_type": "code",
   "execution_count": 47,
   "metadata": {},
   "outputs": [
    {
     "data": {
      "text/html": [
       "<div>\n",
       "<style scoped>\n",
       "    .dataframe tbody tr th:only-of-type {\n",
       "        vertical-align: middle;\n",
       "    }\n",
       "\n",
       "    .dataframe tbody tr th {\n",
       "        vertical-align: top;\n",
       "    }\n",
       "\n",
       "    .dataframe thead th {\n",
       "        text-align: right;\n",
       "    }\n",
       "</style>\n",
       "<table border=\"1\" class=\"dataframe\">\n",
       "  <thead>\n",
       "    <tr style=\"text-align: right;\">\n",
       "      <th></th>\n",
       "      <th>Price</th>\n",
       "      <th>Description</th>\n",
       "    </tr>\n",
       "  </thead>\n",
       "  <tbody>\n",
       "    <tr>\n",
       "      <th>10</th>\n",
       "      <td>₹69,999</td>\n",
       "      <td>Samsung Galaxy S21 5G (Phantom White, 8GB, 128...</td>\n",
       "    </tr>\n",
       "    <tr>\n",
       "      <th>11</th>\n",
       "      <td>₹42,999</td>\n",
       "      <td>Samsung Galaxy S10 Lite (Prism Blue, 8GB RAM, ...</td>\n",
       "    </tr>\n",
       "    <tr>\n",
       "      <th>12</th>\n",
       "      <td>NaN</td>\n",
       "      <td>Samsung Galaxy A30s (Prism Crush Violet, 4GB R...</td>\n",
       "    </tr>\n",
       "    <tr>\n",
       "      <th>13</th>\n",
       "      <td>₹34,999</td>\n",
       "      <td>Samsung Galaxy A72 (White, 8GB RAM, 128GB Stor...</td>\n",
       "    </tr>\n",
       "    <tr>\n",
       "      <th>14</th>\n",
       "      <td>₹20,999</td>\n",
       "      <td>Samsung Galaxy M51 (Electric Blue, 6GB RAM, 12...</td>\n",
       "    </tr>\n",
       "    <tr>\n",
       "      <th>15</th>\n",
       "      <td>₹33,994</td>\n",
       "      <td>Samsung Galaxy Note10 Lite (Aura Black, 8GB RA...</td>\n",
       "    </tr>\n",
       "    <tr>\n",
       "      <th>16</th>\n",
       "      <td>NaN</td>\n",
       "      <td>Samsung Galaxy S10 Lite (Prism Blue, 8GB RAM, ...</td>\n",
       "    </tr>\n",
       "  </tbody>\n",
       "</table>\n",
       "</div>"
      ],
      "text/plain": [
       "      Price                                        Description\n",
       "10  ₹69,999  Samsung Galaxy S21 5G (Phantom White, 8GB, 128...\n",
       "11  ₹42,999  Samsung Galaxy S10 Lite (Prism Blue, 8GB RAM, ...\n",
       "12      NaN  Samsung Galaxy A30s (Prism Crush Violet, 4GB R...\n",
       "13  ₹34,999  Samsung Galaxy A72 (White, 8GB RAM, 128GB Stor...\n",
       "14  ₹20,999  Samsung Galaxy M51 (Electric Blue, 6GB RAM, 12...\n",
       "15  ₹33,994  Samsung Galaxy Note10 Lite (Aura Black, 8GB RA...\n",
       "16      NaN  Samsung Galaxy S10 Lite (Prism Blue, 8GB RAM, ..."
      ]
     },
     "execution_count": 47,
     "metadata": {},
     "output_type": "execute_result"
    }
   ],
   "source": [
    "subset = df.loc[10:16,['Price','Description']]\n",
    "subset"
   ]
  },
  {
   "cell_type": "code",
   "execution_count": 49,
   "metadata": {},
   "outputs": [],
   "source": [
    "df2 = pd.read_excel(\"Downloads/CTF_Xfailed_6th&7th_May.xlsx\", sheet_name='CTF-Report')"
   ]
  },
  {
   "cell_type": "code",
   "execution_count": 51,
   "metadata": {},
   "outputs": [
    {
     "name": "stdout",
     "output_type": "stream",
     "text": [
      "<class 'pandas.core.frame.DataFrame'>\n",
      "RangeIndex: 36054 entries, 0 to 36053\n",
      "Data columns (total 18 columns):\n",
      " #   Column          Non-Null Count  Dtype         \n",
      "---  ------          --------------  -----         \n",
      " 0   jobid           36054 non-null  object        \n",
      " 1   Column2         306 non-null    object        \n",
      " 2   Column1         305 non-null    datetime64[ns]\n",
      " 3   ruleid          36054 non-null  int64         \n",
      " 4   rulename        36054 non-null  object        \n",
      " 5   placeid         36054 non-null  object        \n",
      " 6   poiname         33290 non-null  object        \n",
      " 7   xfailed         36054 non-null  bool          \n",
      " 8   triggered       36054 non-null  bool          \n",
      " 9   status          36046 non-null  object        \n",
      " 10  failuremessage  2058 non-null   object        \n",
      " 11  successmessage  23905 non-null  object        \n",
      " 12  ruledata        15540 non-null  object        \n",
      " 13  description     36034 non-null  object        \n",
      " 14  xfailticket     8833 non-null   object        \n",
      " 15  cqs             33290 non-null  float64       \n",
      " 16  severity        36023 non-null  float64       \n",
      " 17  version         36054 non-null  object        \n",
      "dtypes: bool(2), datetime64[ns](1), float64(2), int64(1), object(12)\n",
      "memory usage: 4.5+ MB\n"
     ]
    }
   ],
   "source": [
    "df2.info()"
   ]
  },
  {
   "cell_type": "code",
   "execution_count": 102,
   "metadata": {},
   "outputs": [
    {
     "data": {
      "text/plain": [
       "rulename\n",
       "CategoryCheck         2\n",
       "categoryCheck         4\n",
       "chainCheck            2\n",
       "embarssingCatCheck    2\n",
       "existance             2\n",
       "locationCheck         2\n",
       "locationcheck         1\n",
       "nameCheck             2\n",
       "namecheck             1\n",
       "nonExistence          2\n",
       "Name: status, dtype: int64"
      ]
     },
     "execution_count": 102,
     "metadata": {},
     "output_type": "execute_result"
    }
   ],
   "source": [
    "gplot = df2.groupby('rulename')['status'].nunique()\n",
    "gplot"
   ]
  },
  {
   "cell_type": "code",
   "execution_count": 65,
   "metadata": {},
   "outputs": [
    {
     "data": {
      "text/plain": [
       "<AxesSubplot:xlabel='rulename'>"
      ]
     },
     "execution_count": 65,
     "metadata": {},
     "output_type": "execute_result"
    },
    {
     "data": {
      "image/png": "[encoded data removed]",
      "text/plain": [
       "<Figure size 432x288 with 1 Axes>"
      ]
     },
     "metadata": {
      "needs_background": "light"
     },
     "output_type": "display_data"
    }
   ],
   "source": [
    "gplot.plot()"
   ]
  },
  {
   "cell_type": "code",
   "execution_count": 99,
   "metadata": {},
   "outputs": [
    {
     "data": {
      "text/plain": [
       "status   xfailed  rulename          \n",
       "ERROR    True     categoryCheck            35\n",
       "FAIL     False    categoryCheck            34\n",
       "                  chainCheck                2\n",
       "                  embarssingCatCheck        1\n",
       "                  existance               304\n",
       "                  locationCheck            39\n",
       "                  nameCheck                10\n",
       "         True     CategoryCheck             1\n",
       "                  categoryCheck           100\n",
       "                  chainCheck               15\n",
       "                  embarssingCatCheck        9\n",
       "                  existance                42\n",
       "                  locationCheck           895\n",
       "                  nameCheck               423\n",
       "                  nonExistence             16\n",
       "SUCCESS  False    CategoryCheck             9\n",
       "                  categoryCheck           931\n",
       "                  chainCheck              158\n",
       "                  embarssingCatCheck       55\n",
       "                  existance             18205\n",
       "                  locationCheck          1441\n",
       "                  locationcheck             1\n",
       "                  nameCheck              3325\n",
       "                  namecheck                 3\n",
       "                  nonExistence           1938\n",
       "         True     CategoryCheck             1\n",
       "                  categoryCheck          2437\n",
       "                  chainCheck                2\n",
       "                  embarssingCatCheck        6\n",
       "                  existance               144\n",
       "                  locationCheck          3421\n",
       "                  nameCheck              1828\n",
       "                  nonExistence             67\n",
       "WARNING  True     categoryCheck           148\n",
       "Name: rulename, dtype: int64"
      ]
     },
     "execution_count": 99,
     "metadata": {},
     "output_type": "execute_result"
    }
   ],
   "source": [
    "gplot = df2.groupby(['status','xfailed','rulename'])['rulename'].count()\n",
    "gplot\n",
    "# gplot.reset_index()"
   ]
  },
  {
   "cell_type": "code",
   "execution_count": 100,
   "metadata": {},
   "outputs": [
    {
     "data": {
      "text/plain": [
       "<AxesSubplot:xlabel='status,xfailed,rulename'>"
      ]
     },
     "execution_count": 100,
     "metadata": {},
     "output_type": "execute_result"
    },
    {
     "data": {
      "image/png": "[encoded data removed]",
      "text/plain": [
       "<Figure size 432x288 with 1 Axes>"
      ]
     },
     "metadata": {
      "needs_background": "light"
     },
     "output_type": "display_data"
    }
   ],
   "source": [
    "gplot.plot()"
   ]
  },
  {
   "cell_type": "code",
   "execution_count": 104,
   "metadata": {},
   "outputs": [
    {
     "data": {
      "text/plain": [
       "[2, 9, 16, 23, 30, 37, 44, 51, 58, 65, 72, 79, 86, 93]"
      ]
     },
     "execution_count": 104,
     "metadata": {},
     "output_type": "execute_result"
    }
   ],
   "source": [
    "l = list(range(2,100,7))\n",
    "l"
   ]
  },
  {
   "cell_type": "code",
   "execution_count": null,
   "metadata": {},
   "outputs": [],
   "source": []
  }
 ],
 "metadata": {
  "kernelspec": {
   "display_name": "Python 3",
   "language": "python",
   "name": "python3"
  },
  "language_info": {
   "codemirror_mode": {
    "name": "ipython",
    "version": 3
   },
   "file_extension": ".py",
   "mimetype": "text/x-python",
   "name": "python",
   "nbconvert_exporter": "python",
   "pygments_lexer": "ipython3",
   "version": "3.8.5"
  }
 },
 "nbformat": 4,
 "nbformat_minor": 4
}
