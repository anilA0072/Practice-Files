{
 "cells": [
  {
   "cell_type": "markdown",
   "metadata": {},
   "source": [
    "# <center> Machine Learning and Deep Learning </center>"
   ]
  },
  {
   "cell_type": "markdown",
   "metadata": {},
   "source": [
    "## 1. Simple Linear Regression"
   ]
  },
  {
   "cell_type": "code",
   "execution_count": 4,
   "metadata": {},
   "outputs": [
    {
     "name": "stdout",
     "output_type": "stream",
     "text": [
      "   YearsExperience   Salary\n",
      "0              1.1  39343.0\n",
      "1              1.3  46205.0\n",
      "2              1.5  37731.0\n",
      "3              2.0  43525.0\n",
      "4              2.2  39891.0\n",
      "[[ 1.1]\n",
      " [ 1.3]\n",
      " [ 1.5]\n",
      " [ 2. ]\n",
      " [ 2.2]\n",
      " [ 2.9]\n",
      " [ 3. ]\n",
      " [ 3.2]\n",
      " [ 3.2]\n",
      " [ 3.7]\n",
      " [ 3.9]\n",
      " [ 4. ]\n",
      " [ 4. ]\n",
      " [ 4.1]\n",
      " [ 4.5]\n",
      " [ 4.9]\n",
      " [ 5.1]\n",
      " [ 5.3]\n",
      " [ 5.9]\n",
      " [ 6. ]\n",
      " [ 6.8]\n",
      " [ 7.1]\n",
      " [ 7.9]\n",
      " [ 8.2]\n",
      " [ 8.7]\n",
      " [ 9. ]\n",
      " [ 9.5]\n",
      " [ 9.6]\n",
      " [10.3]\n",
      " [10.5]]\n"
     ]
    }
   ],
   "source": [
    "#Simple Linear Regression\n",
    "import numpy as np\n",
    "import pandas as pd\n",
    "import matplotlib.pyplot as plt\n",
    "\n",
    "\n",
    "dataset = pd.read_csv('Salary_Data.csv')\n",
    "x = dataset.iloc[:, :-1].values\n",
    "#x = dataset['YearsExperience'].values\n",
    "y = dataset.iloc[:, -1].values\n",
    "print(dataset.head(5))\n",
    "print(x)"
   ]
  },
  {
   "cell_type": "code",
   "execution_count": 5,
   "metadata": {},
   "outputs": [
    {
     "name": "stdout",
     "output_type": "stream",
     "text": [
      "[[ 2.9]\n",
      " [ 5.1]\n",
      " [ 3.2]\n",
      " [ 4.5]\n",
      " [ 8.2]\n",
      " [ 6.8]\n",
      " [ 1.3]\n",
      " [10.5]\n",
      " [ 3. ]\n",
      " [ 2.2]\n",
      " [ 5.9]\n",
      " [ 6. ]\n",
      " [ 3.7]\n",
      " [ 3.2]\n",
      " [ 9. ]\n",
      " [ 2. ]\n",
      " [ 1.1]\n",
      " [ 7.1]\n",
      " [ 4.9]\n",
      " [ 4. ]]\n"
     ]
    }
   ],
   "source": [
    "from sklearn.model_selection import train_test_split\n",
    "x_train, x_test, y_train, y_test = train_test_split(x, y, test_size = 1/3, random_state = 0)\n",
    "print(x_train)"
   ]
  },
  {
   "cell_type": "code",
   "execution_count": 6,
   "metadata": {},
   "outputs": [
    {
     "data": {
      "text/plain": [
       "LinearRegression()"
      ]
     },
     "execution_count": 6,
     "metadata": {},
     "output_type": "execute_result"
    }
   ],
   "source": [
    "from sklearn.linear_model import LinearRegression\n",
    "regressor = LinearRegression()\n",
    "regressor.fit(x_train, y_train)"
   ]
  },
  {
   "cell_type": "code",
   "execution_count": 7,
   "metadata": {},
   "outputs": [
    {
     "data": {
      "text/plain": [
       "array([ 40835.10590871, 123079.39940819,  65134.55626083,  63265.36777221,\n",
       "       115602.64545369, 108125.8914992 , 116537.23969801,  64199.96201652,\n",
       "        76349.68719258, 100649.1375447 ])"
      ]
     },
     "execution_count": 7,
     "metadata": {},
     "output_type": "execute_result"
    }
   ],
   "source": [
    "y_pred = regressor.predict(x_test)\n",
    "y_pred"
   ]
  },
  {
   "cell_type": "code",
   "execution_count": 15,
   "metadata": {},
   "outputs": [
    {
     "data": {
      "image/png": "[encoded data removed]",
      "text/plain": [
       "<Figure size 432x288 with 1 Axes>"
      ]
     },
     "metadata": {
      "needs_background": "light"
     },
     "output_type": "display_data"
    }
   ],
   "source": [
    "plt.scatter(x_test, y_test, c = \"green\")\n",
    "plt.plot(x_test, regressor.predict(x_test), color = \"Grey\")\n",
    "plt.title(\"Year of experience VS Salary (Train Set)\", color= \"Blue\")\n",
    "plt.xlabel(\"Year of Experience\")\n",
    "plt.ylabel(\"Salary\")\n",
    "plt.show()"
   ]
  },
  {
   "cell_type": "markdown",
   "metadata": {},
   "source": [
    "## 2. Multiple Linear Regression"
   ]
  },
  {
   "cell_type": "code",
   "execution_count": 88,
   "metadata": {},
   "outputs": [],
   "source": [
    "import numpy as np\n",
    "import pandas as pd\n",
    "import matplotlib.pyplot as plt"
   ]
  },
  {
   "cell_type": "code",
   "execution_count": 89,
   "metadata": {},
   "outputs": [
    {
     "name": "stdout",
     "output_type": "stream",
     "text": [
      "   R&D Spend  Administration  Marketing Spend       State     Profit\n",
      "0  165349.20       136897.80        471784.10    New York  192261.83\n",
      "1  162597.70       151377.59        443898.53  California  191792.06\n",
      "2  153441.51       101145.55        407934.54     Florida  191050.39\n",
      "3  144372.41       118671.85        383199.62    New York  182901.99\n",
      "4  142107.34        91391.77        366168.42     Florida  166187.94\n"
     ]
    }
   ],
   "source": [
    "dataset = pd.read_csv('50_Startups.csv')\n",
    "print(dataset.head(5))\n"
   ]
  },
  {
   "cell_type": "code",
   "execution_count": 90,
   "metadata": {},
   "outputs": [
    {
     "data": {
      "image/png": "[encoded data removed]",
      "text/plain": [
       "<Figure size 432x288 with 1 Axes>"
      ]
     },
     "metadata": {
      "needs_background": "light"
     },
     "output_type": "display_data"
    }
   ],
   "source": [
    "plt.scatter(dataset[\"R&D Spend\"], dataset[\"Profit\"], alpha = .2)\n",
    "plt.xlabel(\"R&D Spend\")\n",
    "plt.ylabel(\"Profit\")\n",
    "plt.show()"
   ]
  },
  {
   "cell_type": "code",
   "execution_count": 91,
   "metadata": {},
   "outputs": [
    {
     "data": {
      "image/png": "[encoded data removed]",
      "text/plain": [
       "<Figure size 432x288 with 1 Axes>"
      ]
     },
     "metadata": {
      "needs_background": "light"
     },
     "output_type": "display_data"
    }
   ],
   "source": [
    "plt.scatter(dataset[\"Marketing Spend\"], dataset[\"Profit\"], alpha = .5)\n",
    "plt.xlabel(\"Marketing Spend\")\n",
    "plt.ylabel(\"Profit\")\n",
    "plt.show()"
   ]
  },
  {
   "cell_type": "code",
   "execution_count": 92,
   "metadata": {},
   "outputs": [
    {
     "data": {
      "image/png": "[encoded data removed]",
      "text/plain": [
       "<Figure size 432x288 with 1 Axes>"
      ]
     },
     "metadata": {
      "needs_background": "light"
     },
     "output_type": "display_data"
    }
   ],
   "source": [
    "plt.scatter(dataset[\"Administration\"], dataset[\"Profit\"], alpha = .5)\n",
    "plt.xlabel(\"Administration\")\n",
    "plt.ylabel(\"Profit\")\n",
    "plt.show()"
   ]
  },
  {
   "cell_type": "code",
   "execution_count": 93,
   "metadata": {},
   "outputs": [
    {
     "data": {
      "text/plain": [
       "California    17\n",
       "New York      17\n",
       "Florida       16\n",
       "Name: State, dtype: int64"
      ]
     },
     "execution_count": 93,
     "metadata": {},
     "output_type": "execute_result"
    }
   ],
   "source": [
    "dataset.State.value_counts()"
   ]
  },
  {
   "cell_type": "code",
   "execution_count": 94,
   "metadata": {},
   "outputs": [
    {
     "data": {
      "text/html": [
       "<div>\n",
       "<style scoped>\n",
       "    .dataframe tbody tr th:only-of-type {\n",
       "        vertical-align: middle;\n",
       "    }\n",
       "\n",
       "    .dataframe tbody tr th {\n",
       "        vertical-align: top;\n",
       "    }\n",
       "\n",
       "    .dataframe thead th {\n",
       "        text-align: right;\n",
       "    }\n",
       "</style>\n",
       "<table border=\"1\" class=\"dataframe\">\n",
       "  <thead>\n",
       "    <tr style=\"text-align: right;\">\n",
       "      <th></th>\n",
       "      <th>R&amp;D Spend</th>\n",
       "      <th>Administration</th>\n",
       "      <th>Marketing Spend</th>\n",
       "      <th>Profit</th>\n",
       "      <th>California State</th>\n",
       "      <th>New York State</th>\n",
       "      <th>Florida State</th>\n",
       "    </tr>\n",
       "  </thead>\n",
       "  <tbody>\n",
       "    <tr>\n",
       "      <th>0</th>\n",
       "      <td>165349.20</td>\n",
       "      <td>136897.80</td>\n",
       "      <td>471784.10</td>\n",
       "      <td>192261.83</td>\n",
       "      <td>0</td>\n",
       "      <td>1</td>\n",
       "      <td>0</td>\n",
       "    </tr>\n",
       "    <tr>\n",
       "      <th>1</th>\n",
       "      <td>162597.70</td>\n",
       "      <td>151377.59</td>\n",
       "      <td>443898.53</td>\n",
       "      <td>191792.06</td>\n",
       "      <td>1</td>\n",
       "      <td>0</td>\n",
       "      <td>0</td>\n",
       "    </tr>\n",
       "    <tr>\n",
       "      <th>2</th>\n",
       "      <td>153441.51</td>\n",
       "      <td>101145.55</td>\n",
       "      <td>407934.54</td>\n",
       "      <td>191050.39</td>\n",
       "      <td>0</td>\n",
       "      <td>0</td>\n",
       "      <td>1</td>\n",
       "    </tr>\n",
       "    <tr>\n",
       "      <th>3</th>\n",
       "      <td>144372.41</td>\n",
       "      <td>118671.85</td>\n",
       "      <td>383199.62</td>\n",
       "      <td>182901.99</td>\n",
       "      <td>0</td>\n",
       "      <td>1</td>\n",
       "      <td>0</td>\n",
       "    </tr>\n",
       "    <tr>\n",
       "      <th>4</th>\n",
       "      <td>142107.34</td>\n",
       "      <td>91391.77</td>\n",
       "      <td>366168.42</td>\n",
       "      <td>166187.94</td>\n",
       "      <td>0</td>\n",
       "      <td>0</td>\n",
       "      <td>1</td>\n",
       "    </tr>\n",
       "  </tbody>\n",
       "</table>\n",
       "</div>"
      ],
      "text/plain": [
       "   R&D Spend  Administration  Marketing Spend     Profit  California State  \\\n",
       "0  165349.20       136897.80        471784.10  192261.83                 0   \n",
       "1  162597.70       151377.59        443898.53  191792.06                 1   \n",
       "2  153441.51       101145.55        407934.54  191050.39                 0   \n",
       "3  144372.41       118671.85        383199.62  182901.99                 0   \n",
       "4  142107.34        91391.77        366168.42  166187.94                 0   \n",
       "\n",
       "   New York State  Florida State  \n",
       "0               1              0  \n",
       "1               0              0  \n",
       "2               0              1  \n",
       "3               1              0  \n",
       "4               0              1  "
      ]
     },
     "execution_count": 94,
     "metadata": {},
     "output_type": "execute_result"
    }
   ],
   "source": [
    "dataset[\"California State\"] = np.where(dataset[\"State\"] == \"California\", 1, 0)\n",
    "dataset[\"New York State\"] = np.where(dataset[\"State\"] == \"New York\", 1, 0)\n",
    "dataset[\"Florida State\"] = np.where(dataset[\"State\"] == \"Florida\", 1, 0)\n",
    "\n",
    "dataset.drop(columns=\"State\", axis=1, inplace=True)\n",
    "dataset.head()"
   ]
  },
  {
   "cell_type": "code",
   "execution_count": 95,
   "metadata": {},
   "outputs": [
    {
     "name": "stdout",
     "output_type": "stream",
     "text": [
      "[[1.65e+05 1.37e+05 4.72e+05 0.00e+00 1.00e+00 0.00e+00]\n",
      " [1.63e+05 1.51e+05 4.44e+05 1.00e+00 0.00e+00 0.00e+00]\n",
      " [1.53e+05 1.01e+05 4.08e+05 0.00e+00 0.00e+00 1.00e+00]\n",
      " [1.44e+05 1.19e+05 3.83e+05 0.00e+00 1.00e+00 0.00e+00]\n",
      " [1.42e+05 9.14e+04 3.66e+05 0.00e+00 0.00e+00 1.00e+00]\n",
      " [1.32e+05 9.98e+04 3.63e+05 0.00e+00 1.00e+00 0.00e+00]\n",
      " [1.35e+05 1.47e+05 1.28e+05 1.00e+00 0.00e+00 0.00e+00]\n",
      " [1.30e+05 1.46e+05 3.24e+05 0.00e+00 0.00e+00 1.00e+00]\n",
      " [1.21e+05 1.49e+05 3.12e+05 0.00e+00 1.00e+00 0.00e+00]\n",
      " [1.23e+05 1.09e+05 3.05e+05 1.00e+00 0.00e+00 0.00e+00]\n",
      " [1.02e+05 1.11e+05 2.29e+05 0.00e+00 0.00e+00 1.00e+00]\n",
      " [1.01e+05 9.18e+04 2.50e+05 1.00e+00 0.00e+00 0.00e+00]\n",
      " [9.39e+04 1.27e+05 2.50e+05 0.00e+00 0.00e+00 1.00e+00]\n",
      " [9.20e+04 1.35e+05 2.53e+05 1.00e+00 0.00e+00 0.00e+00]\n",
      " [1.20e+05 1.57e+05 2.57e+05 0.00e+00 0.00e+00 1.00e+00]\n",
      " [1.15e+05 1.23e+05 2.62e+05 0.00e+00 1.00e+00 0.00e+00]\n",
      " [7.80e+04 1.22e+05 2.64e+05 1.00e+00 0.00e+00 0.00e+00]\n",
      " [9.47e+04 1.45e+05 2.83e+05 0.00e+00 1.00e+00 0.00e+00]\n",
      " [9.17e+04 1.14e+05 2.95e+05 0.00e+00 0.00e+00 1.00e+00]\n",
      " [8.64e+04 1.54e+05 0.00e+00 0.00e+00 1.00e+00 0.00e+00]\n",
      " [7.63e+04 1.14e+05 2.99e+05 1.00e+00 0.00e+00 0.00e+00]\n",
      " [7.84e+04 1.54e+05 3.00e+05 0.00e+00 1.00e+00 0.00e+00]\n",
      " [7.40e+04 1.23e+05 3.03e+05 0.00e+00 0.00e+00 1.00e+00]\n",
      " [6.75e+04 1.06e+05 3.05e+05 0.00e+00 0.00e+00 1.00e+00]\n",
      " [7.70e+04 9.93e+04 1.41e+05 0.00e+00 1.00e+00 0.00e+00]\n",
      " [6.47e+04 1.40e+05 1.38e+05 1.00e+00 0.00e+00 0.00e+00]\n",
      " [7.53e+04 1.44e+05 1.34e+05 0.00e+00 0.00e+00 1.00e+00]\n",
      " [7.21e+04 1.28e+05 3.53e+05 0.00e+00 1.00e+00 0.00e+00]\n",
      " [6.61e+04 1.83e+05 1.18e+05 0.00e+00 0.00e+00 1.00e+00]\n",
      " [6.56e+04 1.53e+05 1.07e+05 0.00e+00 1.00e+00 0.00e+00]\n",
      " [6.20e+04 1.16e+05 9.11e+04 0.00e+00 0.00e+00 1.00e+00]\n",
      " [6.11e+04 1.53e+05 8.82e+04 0.00e+00 1.00e+00 0.00e+00]\n",
      " [6.34e+04 1.29e+05 4.61e+04 1.00e+00 0.00e+00 0.00e+00]\n",
      " [5.55e+04 1.03e+05 2.15e+05 0.00e+00 0.00e+00 1.00e+00]\n",
      " [4.64e+04 1.58e+05 2.11e+05 1.00e+00 0.00e+00 0.00e+00]\n",
      " [4.60e+04 8.50e+04 2.06e+05 0.00e+00 1.00e+00 0.00e+00]\n",
      " [2.87e+04 1.27e+05 2.01e+05 0.00e+00 0.00e+00 1.00e+00]\n",
      " [4.41e+04 5.13e+04 1.97e+05 1.00e+00 0.00e+00 0.00e+00]\n",
      " [2.02e+04 6.59e+04 1.85e+05 0.00e+00 1.00e+00 0.00e+00]\n",
      " [3.86e+04 8.30e+04 1.75e+05 1.00e+00 0.00e+00 0.00e+00]\n",
      " [2.88e+04 1.19e+05 1.73e+05 1.00e+00 0.00e+00 0.00e+00]\n",
      " [2.79e+04 8.47e+04 1.64e+05 0.00e+00 0.00e+00 1.00e+00]\n",
      " [2.36e+04 9.62e+04 1.48e+05 1.00e+00 0.00e+00 0.00e+00]\n",
      " [1.55e+04 1.27e+05 3.55e+04 0.00e+00 1.00e+00 0.00e+00]\n",
      " [2.22e+04 1.55e+05 2.83e+04 1.00e+00 0.00e+00 0.00e+00]\n",
      " [1.00e+03 1.24e+05 1.90e+03 0.00e+00 1.00e+00 0.00e+00]\n",
      " [1.32e+03 1.16e+05 2.97e+05 0.00e+00 0.00e+00 1.00e+00]\n",
      " [0.00e+00 1.35e+05 0.00e+00 1.00e+00 0.00e+00 0.00e+00]\n",
      " [5.42e+02 5.17e+04 0.00e+00 0.00e+00 1.00e+00 0.00e+00]\n",
      " [0.00e+00 1.17e+05 4.52e+04 1.00e+00 0.00e+00 0.00e+00]]\n"
     ]
    }
   ],
   "source": [
    "#x = dataset[['R&D Spend','Administration', 'Marketing Spend', 'California State', 'New York State', 'Florida State']].values\n",
    "#y = dataset['Profit'].values\n",
    "dependent_variable = 'Profit'\n",
    "independent_variables = dataset.columns.tolist()\n",
    "independent_variables.remove(dependent_variable)\n",
    "independent_variables\n",
    "x = dataset[independent_variables].values\n",
    "y = dataset[dependent_variable].values\n",
    "print(x)"
   ]
  },
  {
   "cell_type": "code",
   "execution_count": 96,
   "metadata": {},
   "outputs": [
    {
     "data": {
      "text/plain": [
       "'\\nfrom sklearn.compose import ColumnTransformer\\nfrom sklearn.preprocessing import OneHotEncoder\\nct = ColumnTransformer(transformers = [(\"encoder\", OneHotEncoder(), [3])], remainder = \\'passthrough\\')\\nx = np.array(ct.fit_transform(x)) '"
      ]
     },
     "execution_count": 96,
     "metadata": {},
     "output_type": "execute_result"
    }
   ],
   "source": [
    "'''\n",
    "from sklearn.compose import ColumnTransformer\n",
    "from sklearn.preprocessing import OneHotEncoder\n",
    "ct = ColumnTransformer(transformers = [(\"encoder\", OneHotEncoder(), [3])], remainder = 'passthrough')\n",
    "x = np.array(ct.fit_transform(x)) '''\n"
   ]
  },
  {
   "cell_type": "code",
   "execution_count": 97,
   "metadata": {},
   "outputs": [],
   "source": [
    "from sklearn.model_selection import train_test_split\n",
    "#from sklearn.preprocessing import MinMaxScaler\n",
    "x_train, x_test, y_train, y_test = train_test_split(x, y, test_size = 0.2, random_state = 0)\n",
    "#Scaler = MinMaxScaler()\n",
    "#x_train = Scaler.fit_transform(x_train)\n",
    "#x_test = Scaler.fit_transform(x_test)\n",
    "#x_train"
   ]
  },
  {
   "cell_type": "code",
   "execution_count": 98,
   "metadata": {},
   "outputs": [
    {
     "data": {
      "text/plain": [
       "LinearRegression()"
      ]
     },
     "execution_count": 98,
     "metadata": {},
     "output_type": "execute_result"
    }
   ],
   "source": [
    "from sklearn.linear_model import LinearRegression\n",
    "regressor = LinearRegression()\n",
    "regressor.fit(x_train, y_train)"
   ]
  },
  {
   "cell_type": "code",
   "execution_count": 99,
   "metadata": {},
   "outputs": [
    {
     "name": "stdout",
     "output_type": "stream",
     "text": [
      "[[103015.2  103282.38]\n",
      " [132582.28 144259.4 ]\n",
      " [132447.74 146121.95]\n",
      " [ 71976.1   77798.83]\n",
      " [178537.48 191050.39]\n",
      " [116161.24 105008.31]\n",
      " [ 67851.69  81229.06]\n",
      " [ 98791.73  97483.56]\n",
      " [113969.44 110352.25]\n",
      " [167921.07 166187.94]]\n"
     ]
    }
   ],
   "source": [
    "y_pred = regressor.predict(x_test)\n",
    "np.set_printoptions(precision=2)\n",
    "print(np.concatenate((y_pred.reshape(len(y_pred),1), y_test.reshape(len(y_test),1)),1))\n"
   ]
  },
  {
   "cell_type": "code",
   "execution_count": 100,
   "metadata": {},
   "outputs": [
    {
     "data": {
      "text/plain": [
       "0.9347068473282425"
      ]
     },
     "execution_count": 100,
     "metadata": {},
     "output_type": "execute_result"
    }
   ],
   "source": [
    "from sklearn.metrics import r2_score\n",
    "r2_score(y_test, y_pred)"
   ]
  },
  {
   "cell_type": "code",
   "execution_count": null,
   "metadata": {},
   "outputs": [],
   "source": []
  }
 ],
 "metadata": {
  "kernelspec": {
   "display_name": "Python 3",
   "language": "python",
   "name": "python3"
  },
  "language_info": {
   "codemirror_mode": {
    "name": "ipython",
    "version": 3
   },
   "file_extension": ".py",
   "mimetype": "text/x-python",
   "name": "python",
   "nbconvert_exporter": "python",
   "pygments_lexer": "ipython3",
   "version": "3.8.5"
  }
 },
 "nbformat": 4,
 "nbformat_minor": 4
}
