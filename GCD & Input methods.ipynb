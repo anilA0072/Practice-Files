{
 "cells": [
  {
   "cell_type": "markdown",
   "metadata": {},
   "source": [
    "# <center>GCD</center>"
   ]
  },
  {
   "cell_type": "code",
   "execution_count": 40,
   "metadata": {},
   "outputs": [
    {
     "name": "stdout",
     "output_type": "stream",
     "text": [
      "9\n"
     ]
    }
   ],
   "source": [
    "def find_gcd(x, y):\n",
    "    while(y):\n",
    "        x, y = y, x % y\n",
    "  \n",
    "    return x\n",
    "      \n",
    "      \n",
    "l = [18, 27, 45, 9, 99]\n",
    "  \n",
    "num1=l[0]\n",
    "num2=l[1]\n",
    "gcd=find_gcd(num1,num2)\n",
    "  \n",
    "for i in range(2,len(l)):\n",
    "    gcd=find_gcd(gcd,l[i])\n",
    "      \n",
    "print(gcd)"
   ]
  },
  {
   "cell_type": "code",
   "execution_count": 44,
   "metadata": {},
   "outputs": [
    {
     "name": "stdout",
     "output_type": "stream",
     "text": [
      "Enter numbers for GCD : 26 39 65 91\n",
      "GCD of given list is  13\n"
     ]
    }
   ],
   "source": [
    "def gcd(a,b):\n",
    "    if a%b==0:\n",
    "        return b\n",
    "    return gcd(b, a%b)\n",
    "\n",
    "def gcdn():\n",
    "    arr = list(map(int, input(\"Enter numbers for GCD : \").split()))\n",
    "    a, b = arr[0], arr[1]\n",
    "    g = gcd(a,b)\n",
    "    for i in range(2, len(arr)):\n",
    "        g = gcd(g, arr[i])\n",
    "    print(\"GCD of given list is \", g)\n",
    "    \n",
    "gcdn()\n",
    "    "
   ]
  },
  {
   "cell_type": "code",
   "execution_count": 22,
   "metadata": {},
   "outputs": [
    {
     "name": "stdout",
     "output_type": "stream",
     "text": [
      "Number of elements : 4\n",
      "12\n",
      "34\n",
      "6\n",
      "8\n",
      "['12', '34', '6', '8']\n"
     ]
    },
    {
     "data": {
      "text/plain": [
       "list"
      ]
     },
     "execution_count": 22,
     "metadata": {},
     "output_type": "execute_result"
    }
   ],
   "source": [
    "n = int(input(\"Number of elements : \"))\n",
    "arr = []\n",
    "for i in range(n):\n",
    "    arr.append(input()) \n",
    "    \n",
    "arr = list(map(int, arr))\n",
    "print(arr)\n",
    "type(arr)\n",
    "\n",
    "# using list comprehension to convert\n",
    "arr = [int(i) for i in arr]\n",
    "type(arr)"
   ]
  },
  {
   "cell_type": "code",
   "execution_count": 23,
   "metadata": {},
   "outputs": [
    {
     "data": {
      "text/plain": [
       "[12, 34, 6, 8]"
      ]
     },
     "execution_count": 23,
     "metadata": {},
     "output_type": "execute_result"
    }
   ],
   "source": [
    "arr"
   ]
  },
  {
   "cell_type": "code",
   "execution_count": 9,
   "metadata": {},
   "outputs": [
    {
     "name": "stdout",
     "output_type": "stream",
     "text": [
      "Enter 3 number : 12 34 56\n",
      "Enter a multiple value: 12 34 56 78\n"
     ]
    }
   ],
   "source": [
    "x,y,z = input(\"Enter 3 number : \").split()\n",
    "array = list(map(int, input(\"Enter a multiple value: \").split()))\n"
   ]
  },
  {
   "cell_type": "code",
   "execution_count": 14,
   "metadata": {},
   "outputs": [
    {
     "name": "stdout",
     "output_type": "stream",
     "text": [
      "12 34 56 [12, 34, 56, 78]\n",
      "[12, 34, 56, 78]\n"
     ]
    }
   ],
   "source": [
    "print(x,y,z,array)\n",
    "type(array)\n",
    "print(array)"
   ]
  },
  {
   "cell_type": "code",
   "execution_count": 18,
   "metadata": {},
   "outputs": [
    {
     "name": "stdout",
     "output_type": "stream",
     "text": [
      "Enter multiple value: 23 65 4 2\n"
     ]
    },
    {
     "data": {
      "text/plain": [
       "[23, 65, 4, 2]"
      ]
     },
     "execution_count": 18,
     "metadata": {},
     "output_type": "execute_result"
    }
   ],
   "source": [
    "# taking multiple inputs at a time\n",
    "x = [int(x) for x in input(\"Enter multiple value: \").split()]\n",
    "x"
   ]
  },
  {
   "cell_type": "code",
   "execution_count": 32,
   "metadata": {},
   "outputs": [
    {
     "data": {
      "text/plain": [
       "int"
      ]
     },
     "execution_count": 32,
     "metadata": {},
     "output_type": "execute_result"
    }
   ],
   "source": [
    "# Converting integer list to string list\n",
    "s = [str(i) for i in x]\n",
    "a = int(\"\".join(s))\n",
    "type(a)"
   ]
  },
  {
   "cell_type": "code",
   "execution_count": 34,
   "metadata": {},
   "outputs": [
    {
     "data": {
      "text/plain": [
       "[2, 3, 6, 5, 4, 2]"
      ]
     },
     "execution_count": 34,
     "metadata": {},
     "output_type": "execute_result"
    }
   ],
   "source": [
    "b = list(map(int, str(a)))\n",
    "b"
   ]
  },
  {
   "cell_type": "code",
   "execution_count": null,
   "metadata": {},
   "outputs": [],
   "source": []
  }
 ],
 "metadata": {
  "kernelspec": {
   "display_name": "Python 3",
   "language": "python",
   "name": "python3"
  },
  "language_info": {
   "codemirror_mode": {
    "name": "ipython",
    "version": 3
   },
   "file_extension": ".py",
   "mimetype": "text/x-python",
   "name": "python",
   "nbconvert_exporter": "python",
   "pygments_lexer": "ipython3",
   "version": "3.8.5"
  }
 },
 "nbformat": 4,
 "nbformat_minor": 4
}
