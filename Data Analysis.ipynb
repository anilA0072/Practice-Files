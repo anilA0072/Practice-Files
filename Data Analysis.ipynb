{
 "cells": [
  {
   "cell_type": "code",
   "execution_count": 1,
   "metadata": {},
   "outputs": [
    {
     "data": {
      "text/plain": [
       "'\\nenrolment = []\\n# f = open(\"Social_Network_Ads.csv\",\"rb\") \\n# reader = unicodecsv.DictReader(f)\\n\\n# for row in reader:\\n#     enrolment.append(row)\\n    \\n# f.close()   OR we can open file using with so file will be closed automatically once all the indented steps are completed\\n\\nwith open(\"Social_Network_Ads.csv\", \"rb\") as f:\\n    reader = unicodecsv.DictReader(f)\\n    \\n    for row in reader:\\n        enrolment.append(row)\\n        \\n\\nwith open(\"Social_Network_Ads.csv\", \"rb\") as f:\\n    reader = unicodecsv.DictReader(f)\\n    enrollment = list(reader)  # can be used directly with list insted of loop \\n\\n\\nenrollment[-11]\\n\\ndef readCSV(filename):\\n    with open(filename, \"rb\") as f:\\n        reader = unicodecsv.DictReader(f)\\n        return list(reader)\\n\\nenrollemnts = readCSV(\\'Documents/Zoom/enrollments.csv\\') \\nenrollemnts[1]\\n\\nfrom datetime import datetime as dt\\n\\nfrom sklearn import get_config\\nc = get_config()\\nfrom IPython.core.interactiveshell import InteractiveShell\\nInteractiveShell.ast_node_interactivity = \"all\"\\n\\n\\n%lsmagic\\n\\n\\n%connect_info\\n\\n\\ndef parse_date(date):\\n    if date == \\'\\':\\n        return None\\n    else:\\n        return dt.strptime(date, \\'%Y-%m-%d\\')\\n    \\ndef parse_int(i):\\n    if i == \\'\\':\\n        return None\\n    else:\\n        return int(i)\\n    \\n    \\nenrollemnts[1]\\n\\nfor enrollment in enrollemnts:\\n    enrollment[\\'join_date\\'] = parse_date(enrollment[\\'join_date\\'])\\n    enrollment[\\'days_to_cancel\\'] = parse_int(enrollment[\\'days_to_cancel\\'])\\n    enrollment[\\'is_udacity\\'] = enrollment[\\'is_udacity\\'] == \\'True\\'\\n    enrollment[\\'is_canceled\\'] = enrollment[\\'is_canceled\\'] == \\'True\\'\\n\\n#     enrollment[\\'cancel_date\\'] = parse_date(enrollment[\\'cancel_date\\'])\\n\\n\\n\\nenrollemnts[1]\\n\\nlen(enrollemnts)\\n\\nunique_enrollments = set()\\nfor ue in enrollemnts:\\n    unique_enrollments.add(ue[\\'account_key\\'])\\n\\nlen(unique_enrollments)\\n\\nfor enrollment in enrollemnts:\\n    enrollment[\\'account_key\\'] = enrollment[\\'account\\']\\n    del(enrollment[\\'account\\'])\\n    \\nenrollemnts[1]\\n\\nfor enrollment in enrollemnts:\\n    student = enrollment[\\'account_key\\']\\n    if student not in unique_enrollments:\\n        print(enrollment)\\n        break\\n'"
      ]
     },
     "execution_count": 1,
     "metadata": {},
     "output_type": "execute_result"
    }
   ],
   "source": [
    "import unicodecsv\n",
    "\n",
    "'''\n",
    "enrolment = []\n",
    "# f = open(\"Social_Network_Ads.csv\",\"rb\") \n",
    "# reader = unicodecsv.DictReader(f)\n",
    "\n",
    "# for row in reader:\n",
    "#     enrolment.append(row)\n",
    "    \n",
    "# f.close()   OR we can open file using with so file will be closed automatically once all the indented steps are completed\n",
    "\n",
    "with open(\"Social_Network_Ads.csv\", \"rb\") as f:\n",
    "    reader = unicodecsv.DictReader(f)\n",
    "    \n",
    "    for row in reader:\n",
    "        enrolment.append(row)\n",
    "        \n",
    "\n",
    "with open(\"Social_Network_Ads.csv\", \"rb\") as f:\n",
    "    reader = unicodecsv.DictReader(f)\n",
    "    enrollment = list(reader)  # can be used directly with list insted of loop \n",
    "\n",
    "\n",
    "enrollment[-11]\n",
    "\n",
    "def readCSV(filename):\n",
    "    with open(filename, \"rb\") as f:\n",
    "        reader = unicodecsv.DictReader(f)\n",
    "        return list(reader)\n",
    "\n",
    "enrollemnts = readCSV('Documents/Zoom/enrollments.csv') \n",
    "enrollemnts[1]\n",
    "\n",
    "from datetime import datetime as dt\n",
    "\n",
    "from sklearn import get_config\n",
    "c = get_config()\n",
    "from IPython.core.interactiveshell import InteractiveShell\n",
    "InteractiveShell.ast_node_interactivity = \"all\"\n",
    "\n",
    "\n",
    "%lsmagic\n",
    "\n",
    "\n",
    "%connect_info\n",
    "\n",
    "\n",
    "def parse_date(date):\n",
    "    if date == '':\n",
    "        return None\n",
    "    else:\n",
    "        return dt.strptime(date, '%Y-%m-%d')\n",
    "    \n",
    "def parse_int(i):\n",
    "    if i == '':\n",
    "        return None\n",
    "    else:\n",
    "        return int(i)\n",
    "    \n",
    "    \n",
    "enrollemnts[1]\n",
    "\n",
    "for enrollment in enrollemnts:\n",
    "    enrollment['join_date'] = parse_date(enrollment['join_date'])\n",
    "    enrollment['days_to_cancel'] = parse_int(enrollment['days_to_cancel'])\n",
    "    enrollment['is_udacity'] = enrollment['is_udacity'] == 'True'\n",
    "    enrollment['is_canceled'] = enrollment['is_canceled'] == 'True'\n",
    "\n",
    "#     enrollment['cancel_date'] = parse_date(enrollment['cancel_date'])\n",
    "\n",
    "\n",
    "\n",
    "enrollemnts[1]\n",
    "\n",
    "len(enrollemnts)\n",
    "\n",
    "unique_enrollments = set()\n",
    "for ue in enrollemnts:\n",
    "    unique_enrollments.add(ue['account_key'])\n",
    "\n",
    "len(unique_enrollments)\n",
    "\n",
    "for enrollment in enrollemnts:\n",
    "    enrollment['account_key'] = enrollment['account']\n",
    "    del(enrollment['account'])\n",
    "    \n",
    "enrollemnts[1]\n",
    "\n",
    "for enrollment in enrollemnts:\n",
    "    student = enrollment['account_key']\n",
    "    if student not in unique_enrollments:\n",
    "        print(enrollment)\n",
    "        break\n",
    "'''"
   ]
  },
  {
   "cell_type": "code",
   "execution_count": 2,
   "metadata": {},
   "outputs": [
    {
     "name": "stdout",
     "output_type": "stream",
     "text": [
      "{'acct': '0', 'utc_date': '2015-01-09', 'num_courses_visited': '1.0', 'total_minutes_visited': '11.6793745', 'lessons_completed': '0.0', 'projects_completed': '0.0'}\n",
      "{'account_key': '448', 'status': 'canceled', 'join_date': '2014-11-05', 'cancel_date': '2014-11-10', 'days_to_cancel': '5', 'is_udacity': 'True', 'is_canceled': 'True'}\n",
      "{'creation_date': '2015-01-20', 'completion_date': '2015-01-20', 'assigned_rating': 'PASSED', 'account_key': '256', 'lesson_key': '3176718735', 'processing_state': 'EVALUATED'}\n"
     ]
    }
   ],
   "source": [
    "def read_csv(filename):\n",
    "    with open(filename, 'rb') as f:\n",
    "        reader = unicodecsv.DictReader(f)\n",
    "        return list(reader)\n",
    "    \n",
    "daily_engagement = read_csv('Documents/Zoom/daily_engagement.csv')\n",
    "enrollments = read_csv('Documents/Zoom/enrollments.csv')\n",
    "project_submissions = read_csv('Documents/Zoom/project_submissions.csv')\n",
    "\n",
    "print(daily_engagement[0])\n",
    "print(enrollments[1])\n",
    "print(project_submissions[2])\n"
   ]
  },
  {
   "cell_type": "code",
   "execution_count": 3,
   "metadata": {},
   "outputs": [],
   "source": [
    "from datetime import datetime as dt\n",
    "# Takes a date as a string, and returns a Python datetime object. \n",
    "# If there is no date given, returns None\n",
    "def parse_date(date):\n",
    "    if date == '':\n",
    "        return None\n",
    "    else:\n",
    "        return dt.strptime(date, '%Y-%m-%d')\n",
    "        \n",
    "# Takes a string which is either an empty string or represents an integer,\n",
    "# and returns an int or None.    \n",
    "def parse_int(i):\n",
    "    if i == '':\n",
    "        return None\n",
    "    else:\n",
    "        return int(i)\n",
    "    \n"
   ]
  },
  {
   "cell_type": "code",
   "execution_count": 4,
   "metadata": {},
   "outputs": [
    {
     "data": {
      "text/plain": [
       "{'account_key': '448',\n",
       " 'status': 'canceled',\n",
       " 'join_date': datetime.datetime(2014, 11, 10, 0, 0),\n",
       " 'cancel_date': datetime.datetime(2015, 1, 14, 0, 0),\n",
       " 'days_to_cancel': 65,\n",
       " 'is_udacity': True,\n",
       " 'is_canceled': True}"
      ]
     },
     "execution_count": 4,
     "metadata": {},
     "output_type": "execute_result"
    }
   ],
   "source": [
    "# Clean up the data types in the enrollments table\n",
    "for enrollment in enrollments:\n",
    "    enrollment['cancel_date'] = parse_date(enrollment['cancel_date'])\n",
    "    enrollment['days_to_cancel'] = parse_int(enrollment['days_to_cancel'])\n",
    "    enrollment['is_canceled'] = enrollment['is_canceled'] == 'True'\n",
    "    enrollment['is_udacity'] = enrollment['is_udacity'] == 'True'\n",
    "    enrollment['join_date'] = parse_date(enrollment['join_date'])\n",
    "    \n",
    "enrollments[0]"
   ]
  },
  {
   "cell_type": "code",
   "execution_count": 5,
   "metadata": {},
   "outputs": [
    {
     "data": {
      "text/plain": [
       "{'acct': '0',\n",
       " 'utc_date': datetime.datetime(2015, 1, 9, 0, 0),\n",
       " 'num_courses_visited': 1,\n",
       " 'total_minutes_visited': 11.6793745,\n",
       " 'lessons_completed': 0,\n",
       " 'projects_completed': 0}"
      ]
     },
     "execution_count": 5,
     "metadata": {},
     "output_type": "execute_result"
    }
   ],
   "source": [
    "# Clean up the data types in the engagement table\n",
    "for engagement_record in daily_engagement:\n",
    "    engagement_record['lessons_completed'] = int(float(engagement_record['lessons_completed']))\n",
    "    engagement_record['num_courses_visited'] = int(float(engagement_record['num_courses_visited']))\n",
    "    engagement_record['projects_completed'] = int(float(engagement_record['projects_completed']))\n",
    "    engagement_record['total_minutes_visited'] = float(engagement_record['total_minutes_visited'])\n",
    "    engagement_record['utc_date'] = parse_date(engagement_record['utc_date'])\n",
    "    \n",
    "daily_engagement[0]"
   ]
  },
  {
   "cell_type": "code",
   "execution_count": 6,
   "metadata": {},
   "outputs": [
    {
     "data": {
      "text/plain": [
       "{'creation_date': datetime.datetime(2015, 1, 14, 0, 0),\n",
       " 'completion_date': datetime.datetime(2015, 1, 16, 0, 0),\n",
       " 'assigned_rating': 'UNGRADED',\n",
       " 'account_key': '256',\n",
       " 'lesson_key': '3176718735',\n",
       " 'processing_state': 'EVALUATED'}"
      ]
     },
     "execution_count": 6,
     "metadata": {},
     "output_type": "execute_result"
    }
   ],
   "source": [
    "# Clean up the data types in the submissions table\n",
    "for submission in project_submissions:\n",
    "    submission['completion_date'] = parse_date(submission['completion_date'])\n",
    "    submission['creation_date'] = parse_date(submission['creation_date'])\n",
    "\n",
    "project_submissions[0]"
   ]
  },
  {
   "cell_type": "code",
   "execution_count": 7,
   "metadata": {},
   "outputs": [],
   "source": [
    "for engagement in daily_engagement:\n",
    "    engagement['account_key'] = engagement['acct']\n",
    "    del(engagement['acct'])\n"
   ]
  },
  {
   "cell_type": "code",
   "execution_count": 8,
   "metadata": {},
   "outputs": [
    {
     "data": {
      "text/plain": [
       "{'utc_date': datetime.datetime(2014, 11, 27, 0, 0),\n",
       " 'num_courses_visited': 0,\n",
       " 'total_minutes_visited': 0.0,\n",
       " 'lessons_completed': 0,\n",
       " 'projects_completed': 0,\n",
       " 'account_key': '3'}"
      ]
     },
     "execution_count": 8,
     "metadata": {},
     "output_type": "execute_result"
    }
   ],
   "source": [
    "daily_engagement[440]"
   ]
  },
  {
   "cell_type": "code",
   "execution_count": 9,
   "metadata": {},
   "outputs": [
    {
     "name": "stdout",
     "output_type": "stream",
     "text": [
      "3642\n",
      "1640\n",
      "136240\n"
     ]
    }
   ],
   "source": [
    "## Find the total number of rows and the number of unique students (account keys)\n",
    "print(len(project_submissions))\n",
    "print(len(enrollments))\n",
    "print(len(daily_engagement))"
   ]
  },
  {
   "cell_type": "code",
   "execution_count": 10,
   "metadata": {},
   "outputs": [
    {
     "data": {
      "text/plain": [
       "1302"
      ]
     },
     "execution_count": 10,
     "metadata": {},
     "output_type": "execute_result"
    }
   ],
   "source": [
    "unique_enrollments = set()\n",
    "for enrollment in enrollments:\n",
    "    unique_enrollments.add(enrollment['account_key'])\n",
    "len(unique_enrollments)    "
   ]
  },
  {
   "cell_type": "code",
   "execution_count": 11,
   "metadata": {},
   "outputs": [
    {
     "data": {
      "text/plain": [
       "743"
      ]
     },
     "execution_count": 11,
     "metadata": {},
     "output_type": "execute_result"
    }
   ],
   "source": [
    "unique_project_submissions = set()\n",
    "for project_submission in project_submissions:\n",
    "    unique_project_submissions.add(project_submission['account_key'])\n",
    "len(unique_project_submissions)"
   ]
  },
  {
   "cell_type": "code",
   "execution_count": 12,
   "metadata": {},
   "outputs": [
    {
     "data": {
      "text/plain": [
       "1237"
      ]
     },
     "execution_count": 12,
     "metadata": {},
     "output_type": "execute_result"
    }
   ],
   "source": [
    "unique_daily_engagement = set()\n",
    "for daily_engage in daily_engagement:\n",
    "    unique_daily_engagement.add(daily_engage['account_key'])\n",
    "len(unique_daily_engagement)"
   ]
  },
  {
   "cell_type": "code",
   "execution_count": 13,
   "metadata": {},
   "outputs": [],
   "source": [
    "#function to get unique records from dataset\n",
    "def get_unique_recods(data):\n",
    "    unique_set = set()\n",
    "    for record in data:\n",
    "        unique_set.add(record['account_key'])\n",
    "    return unique_set\n",
    "\n"
   ]
  },
  {
   "cell_type": "code",
   "execution_count": 14,
   "metadata": {},
   "outputs": [
    {
     "name": "stdout",
     "output_type": "stream",
     "text": [
      "{'account_key': '1219', 'status': 'canceled', 'join_date': datetime.datetime(2014, 11, 12, 0, 0), 'cancel_date': datetime.datetime(2014, 11, 12, 0, 0), 'days_to_cancel': 0, 'is_udacity': False, 'is_canceled': True}\n"
     ]
    }
   ],
   "source": [
    "## Find any one student enrollments where the student is missing from the daily engagement table.\n",
    "# count = 0\n",
    "for enrollment in enrollments:\n",
    "    student = enrollment['account_key']\n",
    "    if student not in unique_daily_engagement:\n",
    "        print(enrollment)\n",
    "        break\n",
    "#     if student not in unique_daily_engagement:\n",
    "#         count +=1\n",
    "# print(len(unique_enrollments),' - ', len(unique_daily_engagement),\" = \",count)\n"
   ]
  },
  {
   "cell_type": "code",
   "execution_count": 15,
   "metadata": {},
   "outputs": [
    {
     "name": "stdout",
     "output_type": "stream",
     "text": [
      "{'account_key': '1304', 'status': 'canceled', 'join_date': datetime.datetime(2015, 1, 10, 0, 0), 'cancel_date': datetime.datetime(2015, 3, 10, 0, 0), 'days_to_cancel': 59, 'is_udacity': True, 'is_canceled': True}\n",
      "{'account_key': '1304', 'status': 'canceled', 'join_date': datetime.datetime(2015, 3, 10, 0, 0), 'cancel_date': datetime.datetime(2015, 6, 17, 0, 0), 'days_to_cancel': 99, 'is_udacity': True, 'is_canceled': True}\n",
      "{'account_key': '1101', 'status': 'current', 'join_date': datetime.datetime(2015, 2, 25, 0, 0), 'cancel_date': None, 'days_to_cancel': None, 'is_udacity': True, 'is_canceled': False}\n"
     ]
    },
    {
     "data": {
      "text/plain": [
       "3"
      ]
     },
     "execution_count": 15,
     "metadata": {},
     "output_type": "execute_result"
    }
   ],
   "source": [
    "problem_count = 0\n",
    "for enrollment in enrollments:\n",
    "    student = enrollment['account_key']\n",
    "    if student not in unique_daily_engagement \\\n",
    "        and enrollment['join_date'] != enrollment['cancel_date']:\n",
    "        problem_count += 1\n",
    "        print(enrollment)\n",
    "problem_count"
   ]
  },
  {
   "cell_type": "code",
   "execution_count": 16,
   "metadata": {},
   "outputs": [
    {
     "data": {
      "text/plain": [
       "6"
      ]
     },
     "execution_count": 16,
     "metadata": {},
     "output_type": "execute_result"
    }
   ],
   "source": [
    "udacity_test_account = set()\n",
    "for enrollment in enrollments:\n",
    "    if enrollment['is_udacity']:\n",
    "        udacity_test_account.add(enrollment['account_key'])\n",
    "len(udacity_test_account)"
   ]
  },
  {
   "cell_type": "code",
   "execution_count": 17,
   "metadata": {},
   "outputs": [],
   "source": [
    "def remove_udacity_accounts(data):\n",
    "    non_udacity_data = []\n",
    "    for record in data:\n",
    "        if record['account_key'] not in udacity_test_account:\n",
    "            non_udacity_data.append(record)\n",
    "    return non_udacity_data"
   ]
  },
  {
   "cell_type": "code",
   "execution_count": 18,
   "metadata": {},
   "outputs": [
    {
     "name": "stdout",
     "output_type": "stream",
     "text": [
      "1622\n",
      "135656\n",
      "3634\n"
     ]
    }
   ],
   "source": [
    "# Remove Udacity test accounts from all three tables\n",
    "non_udacity_enrollments = remove_udacity_accounts(enrollments)\n",
    "non_udacity_engagement = remove_udacity_accounts(daily_engagement)\n",
    "non_udacity_submissions = remove_udacity_accounts(project_submissions)\n",
    "\n",
    "print(len(non_udacity_enrollments))\n",
    "print(len(non_udacity_engagement))\n",
    "print(len(non_udacity_submissions))"
   ]
  },
  {
   "cell_type": "code",
   "execution_count": 30,
   "metadata": {},
   "outputs": [
    {
     "data": {
      "text/plain": [
       "995"
      ]
     },
     "execution_count": 30,
     "metadata": {},
     "output_type": "execute_result"
    }
   ],
   "source": [
    "# Craete Dict\n",
    "paid_students = {}\n",
    "# how to store data in dictionary \n",
    "for enrollment in non_udacity_enrollments:\n",
    "    if not enrollment['is_canceled'] or enrollment['days_to_cancel'] > 7:\n",
    "        account_key = enrollment['account_key']\n",
    "        enrollment_date = enrollment['join_date']\n",
    "        paid_students[account_key] = enrollment_date\n",
    "        \n",
    "        #To check and update data with updated date\n",
    "        if account_key not in paid_students or \\\n",
    "            enrollment_date > paid_students[account_key]:\n",
    "            paid_students[account_key] = enrollment_date\n",
    "        \n",
    "len(paid_students)"
   ]
  },
  {
   "cell_type": "code",
   "execution_count": null,
   "metadata": {},
   "outputs": [],
   "source": []
  }
 ],
 "metadata": {
  "kernelspec": {
   "display_name": "Python 3",
   "language": "python",
   "name": "python3"
  },
  "language_info": {
   "codemirror_mode": {
    "name": "ipython",
    "version": 3
   },
   "file_extension": ".py",
   "mimetype": "text/x-python",
   "name": "python",
   "nbconvert_exporter": "python",
   "pygments_lexer": "ipython3",
   "version": "3.8.5"
  }
 },
 "nbformat": 4,
 "nbformat_minor": 4
}
