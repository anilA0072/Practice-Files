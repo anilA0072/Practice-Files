{
 "cells": [
  {
   "cell_type": "code",
   "execution_count": 23,
   "metadata": {},
   "outputs": [
    {
     "data": {
      "text/plain": [
       "23"
      ]
     },
     "execution_count": 23,
     "metadata": {},
     "output_type": "execute_result"
    }
   ],
   "source": [
    "def gcd(m,n):\n",
    "    for i in range(1, min(m,n)+1):\n",
    "        if (m%i) == 0 and (n%i) == 0:\n",
    "            mrcf = i\n",
    "    return mrcf\n",
    "\n",
    "gcd(46,23)\n",
    "            "
   ]
  },
  {
   "cell_type": "code",
   "execution_count": 24,
   "metadata": {},
   "outputs": [
    {
     "data": {
      "text/plain": [
       "2"
      ]
     },
     "execution_count": 24,
     "metadata": {},
     "output_type": "execute_result"
    }
   ],
   "source": [
    "def gcd1(m,n):\n",
    "    i = min(m,n)\n",
    "    while i>0:\n",
    "        if m%i == 0 and n%i == 0:\n",
    "            return(i)\n",
    "        else:\n",
    "            i -= 1\n",
    "    \n",
    "gcd1(26,24)"
   ]
  },
  {
   "cell_type": "code",
   "execution_count": 25,
   "metadata": {},
   "outputs": [
    {
     "data": {
      "text/plain": [
       "2"
      ]
     },
     "execution_count": 25,
     "metadata": {},
     "output_type": "execute_result"
    }
   ],
   "source": [
    "def gcd2(m,n):\n",
    "    if m<n:\n",
    "        (m,n) = (n,m)\n",
    "    \n",
    "    while m%n != 0:\n",
    "        (m,n) = (n, m%n)\n",
    "    return n\n",
    "\n",
    "gcd2(6,8)"
   ]
  },
  {
   "cell_type": "code",
   "execution_count": 26,
   "metadata": {},
   "outputs": [
    {
     "data": {
      "text/plain": [
       "12"
      ]
     },
     "execution_count": 26,
     "metadata": {},
     "output_type": "execute_result"
    }
   ],
   "source": [
    "def h(x):\n",
    " (m,a) = (1,0)\n",
    " while m <= x:\n",
    "  (m,a) = (m*2,a+1)\n",
    " return(a)\n",
    "\n",
    "h(2049)"
   ]
  },
  {
   "cell_type": "code",
   "execution_count": 27,
   "metadata": {},
   "outputs": [
    {
     "name": "stdout",
     "output_type": "stream",
     "text": [
      "2\n"
     ]
    }
   ],
   "source": [
    "def firstpos(l,n):\n",
    "    (found, i) = (False,0)\n",
    "    for i in range(len(l)):\n",
    "        if not found and l[i]==n:\n",
    "            (found, pos) = (True, i)\n",
    "    \n",
    "    if not found :\n",
    "        pos = -1\n",
    "    \n",
    "    return pos\n",
    "\n",
    "\n",
    "print(firstpos([12,23,13,12,13,23,23,14,15,15,20],13))"
   ]
  },
  {
   "cell_type": "code",
   "execution_count": 28,
   "metadata": {},
   "outputs": [
    {
     "name": "stdout",
     "output_type": "stream",
     "text": [
      "-1\n"
     ]
    }
   ],
   "source": [
    "#Simplified firstpos\n",
    "def findpos(l,n):\n",
    "    #pos = -1\n",
    "    for i in range(len(l)):\n",
    "        if l[i]==n:\n",
    "            pos = i\n",
    "            break\n",
    "    else:\n",
    "        pos = -1\n",
    "        \n",
    "    return pos\n",
    "\n",
    "print(firstpos([12,23,13,12,13,23,23,14,15,15,20],29))"
   ]
  },
  {
   "cell_type": "code",
   "execution_count": 29,
   "metadata": {},
   "outputs": [
    {
     "name": "stdout",
     "output_type": "stream",
     "text": [
      "[1, 4, 5, 7, 9, 10, 13, 15, 16, 17, 19, 21, 23]\n",
      "True\n"
     ]
    }
   ],
   "source": [
    " \n",
    "def SSort(seq):\n",
    "    for start in range(len(seq)):\n",
    "        midpos = start\n",
    "        for i in range(start,len(seq)):\n",
    "            if seq[i] < seq[midpos]:\n",
    "                midpos = i\n",
    "        (seq[midpos], seq[start]) = (seq[start],seq[midpos])\n",
    "    return seq\n",
    "        \n",
    "def bsearch(seq,v,l,r):\n",
    "    if (l - r == 0):\n",
    "        return False\n",
    "    mid = (l+r)//2\n",
    "    if (v == seq[mid]):\n",
    "        return True\n",
    "    if (v < seq[mid]):\n",
    "        return bsearch(seq,v,l,mid)\n",
    "    else:\n",
    "        return bsearch(seq,v,mid+1,r)\n",
    "\n",
    "seq = [19,23,21,1,4,5,7,9,10,13,15,16,17]\n",
    "seq1 = SSort(seq)\n",
    "print(seq1)\n",
    "r = len(seq)\n",
    "print(bsearch(seq1,19,0,r))"
   ]
  },
  {
   "cell_type": "code",
   "execution_count": 1,
   "metadata": {},
   "outputs": [
    {
     "name": "stdout",
     "output_type": "stream",
     "text": [
      "[100, 97, 94, 91, 88, 85, 82, 79, 76, 73, 70, 67, 64, 61, 58, 55, 52, 49, 46, 43, 40, 37, 34, 31, 28, 25, 22, 19, 16, 13, 10, 7, 4]\n",
      "[4, 7, 10, 13, 16, 19, 22, 25, 28, 31, 34, 37, 40, 43, 46, 49, 52, 55, 58, 61, 64, 67, 70, 73, 76, 79, 82, 85, 88, 91, 94, 97, 100]\n"
     ]
    }
   ],
   "source": [
    "def Ssort(seq):\n",
    "    for start in range(len(seq)): \n",
    "        minpos = start\n",
    "        for i in range(start,len(seq)):\n",
    "            if seq[minpos] > seq[i]:\n",
    "                minpos = i         \n",
    "        (seq[start], seq[minpos]) = (seq[minpos],seq[start])\n",
    "\n",
    "    return seq\n",
    "\n",
    "seq = list(range(100,1,-3))\n",
    "print(seq)\n",
    "print(Ssort(seq))"
   ]
  },
  {
   "cell_type": "code",
   "execution_count": 2,
   "metadata": {},
   "outputs": [],
   "source": [
    "def Ssort1(seq):\n",
    "    for start in range(len(seq)):   \n",
    "        minpos = start\n",
    "        for i in range(start,len(seq)):\n",
    "            if seq[i] < seq[minpos]:\n",
    "                minpos = i         \n",
    "        (seq[start], seq[minpos]) = (seq[minpos],seq[start])\n",
    "    return seq\n",
    "\n",
    "\n"
   ]
  },
  {
   "cell_type": "code",
   "execution_count": 3,
   "metadata": {},
   "outputs": [
    {
     "name": "stdout",
     "output_type": "stream",
     "text": [
      "[50, 48, 46, 44, 42, 40, 38, 36, 34, 32, 30, 28, 26, 24, 22, 20, 18, 16, 14, 12, 10, 8, 6, 4, 2]\n",
      "[2, 4, 6, 8, 10, 12, 14, 16, 18, 20, 22, 24, 26, 28, 30, 32, 34, 36, 38, 40, 42, 44, 46, 48, 50]\n"
     ]
    }
   ],
   "source": [
    "\n",
    "seq1 = list(range(50,1,-2))\n",
    "print(seq1)\n",
    "print(Ssort1(seq1))"
   ]
  },
  {
   "cell_type": "code",
   "execution_count": 4,
   "metadata": {},
   "outputs": [
    {
     "name": "stdout",
     "output_type": "stream",
     "text": [
      "[50, 39, 28, 17, 6]\n",
      "[6, 17, 28, 39, 50]\n"
     ]
    }
   ],
   "source": [
    "def isort(l):\n",
    "    for sl in range(len(l)):\n",
    "        pos = sl\n",
    "        while (pos>0) and (l[pos]<l[pos-1]):\n",
    "            (l[pos],l[pos-1]) = (l[pos-1],l[pos])\n",
    "            pos = pos -1\n",
    "    return l\n",
    "\n",
    "l = list(range(50,1,-11))\n",
    "print(l)\n",
    "print(isort(l))"
   ]
  },
  {
   "cell_type": "code",
   "execution_count": 35,
   "metadata": {},
   "outputs": [
    {
     "name": "stdout",
     "output_type": "stream",
     "text": [
      "[2, 4, 3]\n",
      "1\n",
      "-----> 2\n",
      "2\n",
      "-----> 4\n"
     ]
    },
    {
     "data": {
      "text/plain": [
       "'False'"
      ]
     },
     "execution_count": 35,
     "metadata": {},
     "output_type": "execute_result"
    }
   ],
   "source": [
    "def expanding(seq):\n",
    "    results = []\n",
    "    for i in range(1,len(seq)):\n",
    "        if seq[i-1] > seq[i]: \n",
    "            results.append(seq[i-1] - seq[i])\n",
    "        else :\n",
    "            results.append(seq[i] - seq[i-1])\n",
    "    print(results)\n",
    "            \n",
    "    for i in range(1,len(results)):\n",
    "        print(i)\n",
    "        print(\"----->\",results[i-1])\n",
    "        if results[i-1]<results[i]:\n",
    "            r= \"True\"\n",
    "        else:\n",
    "            r= \"False\" \n",
    "    return r\n",
    "    \n",
    "\n",
    "    \n",
    "        \n",
    "    \n",
    "\n",
    "s = [1,3,7,2,9,1]\n",
    "seq1 =  [1,3,7,10]\n",
    "expanding(seq1)\n",
    "        \n",
    "        "
   ]
  },
  {
   "cell_type": "code",
   "execution_count": 36,
   "metadata": {},
   "outputs": [
    {
     "name": "stdout",
     "output_type": "stream",
     "text": [
      "[3, 4, 3, 6, 5]\n",
      "0\n",
      "-----> 3\n",
      "1\n",
      "-----> 4\n",
      "2\n",
      "-----> 3\n",
      "3\n",
      "-----> 6\n",
      "['True', 'False', 'True', 'False']\n"
     ]
    },
    {
     "data": {
      "text/plain": [
       "'Ture'"
      ]
     },
     "execution_count": 36,
     "metadata": {},
     "output_type": "execute_result"
    }
   ],
   "source": [
    "def expanding(seq):\n",
    "    results = []\n",
    "    t = []\n",
    "    for i in range(1,len(seq)):\n",
    "        if seq[i-1] > seq[i]: \n",
    "            results.append(seq[i-1] - seq[i])            \n",
    "        else :\n",
    "            results.append(seq[i] - seq[i-1])\n",
    "    print(results)\n",
    "            \n",
    "    for i in range(1,len(results)):\n",
    "        print(i-1)\n",
    "        print(\"----->\",results[i-1])\n",
    "        if results[i-1]<results[i]:\n",
    "            t.append(\"True\")\n",
    "        else:\n",
    "            t.append(\"False\") \n",
    "    print(t)\n",
    "    \n",
    "    for i in range(0,len(t),2):\n",
    "        for j in range(1,len(t),2):\n",
    "            if t[i] == \"True\" and t[j] == \"False\":\n",
    "                Final = \"Ture\"\n",
    "            else:\n",
    "                Final = \"False\"\n",
    "    return Final\n",
    "            \n",
    "\n",
    "    \n",
    "        \n",
    "    \n",
    "\n",
    "s = [1,5,2,8,1]\n",
    "seq1 = [-2,1,5,2,8,3]\n",
    "expanding(seq1)\n",
    "        \n",
    "        "
   ]
  },
  {
   "cell_type": "code",
   "execution_count": 44,
   "metadata": {},
   "outputs": [
    {
     "ename": "TypeError",
     "evalue": "'list' object is not callable",
     "output_type": "error",
     "traceback": [
      "\u001b[1;31m---------------------------------------------------------------------------\u001b[0m",
      "\u001b[1;31mTypeError\u001b[0m                                 Traceback (most recent call last)",
      "\u001b[1;32m<ipython-input-44-9945cc33ec73>\u001b[0m in \u001b[0;36m<module>\u001b[1;34m\u001b[0m\n\u001b[1;32m----> 1\u001b[1;33m \u001b[0mlist1\u001b[0m \u001b[1;33m=\u001b[0m \u001b[0mlist\u001b[0m\u001b[1;33m(\u001b[0m\u001b[0mrange\u001b[0m\u001b[1;33m(\u001b[0m\u001b[1;36m10\u001b[0m\u001b[1;33m)\u001b[0m\u001b[1;33m)\u001b[0m\u001b[1;33m\u001b[0m\u001b[1;33m\u001b[0m\u001b[0m\n\u001b[0m\u001b[0;32m      2\u001b[0m \u001b[0mlist1\u001b[0m\u001b[1;33m\u001b[0m\u001b[1;33m\u001b[0m\u001b[0m\n",
      "\u001b[1;31mTypeError\u001b[0m: 'list' object is not callable"
     ]
    }
   ],
   "source": [
    "list1 = list(range(10))\n",
    "list1"
   ]
  },
  {
   "cell_type": "code",
   "execution_count": 40,
   "metadata": {},
   "outputs": [
    {
     "name": "stdout",
     "output_type": "stream",
     "text": [
      "0\n",
      "1\n",
      "2\n",
      "3\n",
      "4\n",
      "5\n",
      "6\n",
      "7\n",
      "8\n",
      "9\n"
     ]
    }
   ],
   "source": [
    "for i in range(10):\n",
    "    print(i)"
   ]
  },
  {
   "cell_type": "code",
   "execution_count": 62,
   "metadata": {},
   "outputs": [
    {
     "name": "stdout",
     "output_type": "stream",
     "text": [
      "[[3, 6, 9], [2, 5, 8], [1, 4, 7]]\n"
     ]
    }
   ],
   "source": [
    "def matric1(k):\n",
    "    final=[]\n",
    "    for i in range(2,-1,-1):\n",
    "        small=[]\n",
    "        for j in range(3):\n",
    "            small.append(k[j][i])\n",
    "        small\n",
    "        final.append(small)\n",
    "    return final\n",
    "\n",
    "m= [[1,2,3], [4,5,6], [7,8,9]]\n",
    "print(matric1(m))\n",
    "\n",
    "\n"
   ]
  },
  {
   "cell_type": "code",
   "execution_count": 1,
   "metadata": {},
   "outputs": [
    {
     "name": "stdout",
     "output_type": "stream",
     "text": [
      "Enter the Square matrix dimention ---->  3\n",
      "1\n",
      "3\n",
      "5\n",
      "6\n",
      "8\n",
      "7\n",
      "6\n",
      "5\n",
      "2\n",
      "[[1, 3, 5], [6, 8, 7], [6, 5, 2]]\n",
      "[[6, 6, 1], [5, 8, 3], [2, 7, 5]]\n"
     ]
    }
   ],
   "source": [
    "def matric(k):\n",
    "    final=[]\n",
    "    for i in range(len(k)):\n",
    "        small=[]\n",
    "        for j in range(len(k)-1,-1,-1):\n",
    "            small.append(k[j][i])\n",
    "        \n",
    "        final.append(small)\n",
    "    return final\n",
    "\n",
    "n = int(input(\"Enter the Square matrix dimention ---->  \"))\n",
    "m3 = []\n",
    "for i in range(n):\n",
    "    sm = []\n",
    "    for j in range(n):\n",
    "        sm.append(int(input()))\n",
    "    m3.append(sm)\n",
    "print(m3)\n",
    "\n",
    "m2 = [[1,1,1,1,1,\n",
    "1],[2,2,2,2,2,2],[3,\n",
    "3,3,3,3,3],[4,4,4,4,\n",
    "4,4],[5,5,5,5,5,5],\n",
    "[6,6,6,6,6,6]]\n",
    "m1 = [[1,1,1],[2,2,2],[3,3,3]] \n",
    "m= [[1,2,3], [4,5,6], [7,8,9]]\n",
    "print(matric(m3))"
   ]
  },
  {
   "cell_type": "code",
   "execution_count": 67,
   "metadata": {},
   "outputs": [
    {
     "name": "stdout",
     "output_type": "stream",
     "text": [
      "Enter the Square matrix dimention ---->  3\n",
      "1\n",
      "2\n",
      "3\n",
      "4\n",
      "5\n",
      "6\n",
      "7\n",
      "8\n",
      "9\n",
      "[[1, 2, 3], [4, 5, 6], [7, 8, 9]]\n"
     ]
    }
   ],
   "source": [
    "n = int(input(\"Enter the Square matrix dimention ---->  \"))\n",
    "m3 = []\n",
    "for i in range(n):\n",
    "    sm = []\n",
    "    for j in range(n):\n",
    "        sm.append(int(input()))\n",
    "    m3.append(sm)\n",
    "print(m3)"
   ]
  },
  {
   "cell_type": "markdown",
   "metadata": {},
   "source": [
    "#### "
   ]
  }
 ],
 "metadata": {
  "kernelspec": {
   "display_name": "Python 3",
   "language": "python",
   "name": "python3"
  },
  "language_info": {
   "codemirror_mode": {
    "name": "ipython",
    "version": 3
   },
   "file_extension": ".py",
   "mimetype": "text/x-python",
   "name": "python",
   "nbconvert_exporter": "python",
   "pygments_lexer": "ipython3",
   "version": "3.8.5"
  }
 },
 "nbformat": 4,
 "nbformat_minor": 4
}
