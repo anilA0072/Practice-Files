{
 "cells": [
  {
   "cell_type": "code",
   "execution_count": 1,
   "metadata": {},
   "outputs": [],
   "source": [
    "# pip install selenium"
   ]
  },
  {
   "cell_type": "markdown",
   "metadata": {},
   "source": [
    "## https://www.youtube.com/watch?v=_AeudsbKYG8"
   ]
  },
  {
   "cell_type": "code",
   "execution_count": 2,
   "metadata": {},
   "outputs": [],
   "source": [
    "from bs4 import BeautifulSoup\n",
    "import requests\n",
    "from selenium import webdriver\n",
    "import csv"
   ]
  },
  {
   "cell_type": "code",
   "execution_count": 3,
   "metadata": {},
   "outputs": [],
   "source": [
    "# driver = webdriver.Chrome()\n",
    "\n",
    "# url = 'https://www.google.com'\n",
    "# driver.get(url)"
   ]
  },
  {
   "cell_type": "code",
   "execution_count": 4,
   "metadata": {},
   "outputs": [],
   "source": [
    "# driver = webdriver.Chrome()\n",
    "\n",
    "# def get_url(search):\n",
    "#     template = 'https://www.amazon.in/s?k={}&ref=nb_sb_noss'\n",
    "#     search = search.replace(\" \",\"+\")\n",
    "#     return template.format(search)\n",
    "\n",
    "# search = 'samsung s10'\n",
    "# driver.get(get_url(search))"
   ]
  },
  {
   "cell_type": "code",
   "execution_count": 5,
   "metadata": {},
   "outputs": [],
   "source": [
    "# soup = BeautifulSoup(driver.page_source , 'html.parser')\n",
    "# result = soup.find_all('div',{'class' : 'a-section a-spacing-medium'})\n",
    "# len(result)\n",
    "# result"
   ]
  },
  {
   "cell_type": "code",
   "execution_count": 6,
   "metadata": {},
   "outputs": [],
   "source": [
    "# soup.prettify"
   ]
  },
  {
   "cell_type": "code",
   "execution_count": 7,
   "metadata": {},
   "outputs": [],
   "source": [
    "# item = result[0]\n",
    "# description = item.h2.a\n",
    "# print(description.text.strip())\n",
    "\n",
    "# url = 'https://www.amazon.com' + description.get('href')\n",
    "# print(url.strip())\n",
    "\n",
    "# price = item.find('span','a-offscreen').text\n",
    "# print(price)\n",
    "\n",
    "# ratting = item.find('span', {'class' : 'a-icon-alt'})\n",
    "# print(ratting.text.strip())\n",
    "\n",
    "# # rate = item.i.text\n",
    "# # print(rate.strip())\n",
    "\n",
    "# reviews = item.find('span', {'class' : 'a-size-base'})\n",
    "# print(reviews.text)\n"
   ]
  },
  {
   "cell_type": "code",
   "execution_count": 8,
   "metadata": {},
   "outputs": [],
   "source": [
    "driver = webdriver.Chrome()\n",
    "\n",
    "def get_url(search):\n",
    "    template = 'https://www.amazon.in/s?k={}&ref=nb_sb_noss'\n",
    "    search = search.replace(\" \",\"+\")\n",
    "    return template.format(search)\n",
    "\n",
    "search = 'samsung s10'\n",
    "driver.get(get_url(search))\n",
    "\n",
    "\n",
    "\n",
    "def extract_list(item):\n",
    "    atag = item.h2.a\n",
    "    description = atag.text.strip()\n",
    "\n",
    "    url = ('https://www.amazon.com' + atag.get('href'))\n",
    "    url = url.strip()\n",
    "    \n",
    "    try:\n",
    "        price = item.find('span','a-offscreen').text.strip()\n",
    "    except AttributeError:\n",
    "        price = ''\n",
    "\n",
    "    try:\n",
    "        ratting = item.find('span', {'class' : 'a-icon-alt'}).text.strip()    \n",
    "#     print(ratting.text.strip())\n",
    "    except AttributeError:\n",
    "        ratting = '' \n",
    "\n",
    "    # rate = item.i.text\n",
    "    # print(rate.strip())\n",
    "\n",
    "    try:\n",
    "        reviews = item.find('span', {'class' : 'a-size-base'}).text\n",
    "#     print(reviews.text)\n",
    "    except AttributeError:\n",
    "        reviews = ''\n",
    "    \n",
    "    result = (description, price, ratting, reviews, url)\n",
    "    \n",
    "    return result\n",
    "\n"
   ]
  },
  {
   "cell_type": "code",
   "execution_count": 9,
   "metadata": {},
   "outputs": [],
   "source": [
    "\n",
    "records = []\n",
    "soup = BeautifulSoup(driver.page_source , 'html.parser')\n",
    "result = soup.find_all('div',{'class' : 'a-section a-spacing-medium'})\n",
    "\n",
    "for item in result:\n",
    "    record = extract_list(item)\n",
    "    if record:\n",
    "        records.append(record)\n",
    "\n"
   ]
  },
  {
   "cell_type": "code",
   "execution_count": 10,
   "metadata": {},
   "outputs": [
    {
     "data": {
      "text/plain": [
       "[('Samsung Galaxy S10 Lite (Prism White, 8GB RAM, 128GB Storage)',\n",
       "  '₹39,999',\n",
       "  '4.3 out of 5 stars',\n",
       "  '57',\n",
       "  'https://www.amazon.com/Samsung-Galaxy-Prism-White-Storage/dp/B0844LKB8H/ref=sr_1_1?dchild=1&keywords=samsung+s10&qid=1621745591&sr=8-1'),\n",
       " ('Samsung Galaxy S10 Lite (Prism Black, 8GB RAM, 512GB Storage)',\n",
       "  '₹44,990',\n",
       "  '4.3 out of 5 stars',\n",
       "  '67',\n",
       "  'https://www.amazon.com/Samsung-Galaxy-Prism-Black-Storage/dp/B089MC2P3P/ref=sr_1_2?dchild=1&keywords=samsung+s10&qid=1621745591&sr=8-2'),\n",
       " ('Samsung Galaxy S10 Lite (Prism Blue, 8GB RAM, 128GB)',\n",
       "  '',\n",
       "  '4.3 out of 5 stars',\n",
       "  '39',\n",
       "  'https://www.amazon.com/Samsung-Galaxy-Lite-Prism-128GB/dp/B0844JD3M4/ref=sr_1_3?dchild=1&keywords=samsung+s10&qid=1621745591&sr=8-3'),\n",
       " ('Samsung Galaxy S10 Lite (Prism White, 8GB RAM, 512GB Storage)',\n",
       "  '₹42,660',\n",
       "  '3.9 out of 5 stars',\n",
       "  '31',\n",
       "  'https://www.amazon.com/Samsung-Galaxy-Prism-White-Storage/dp/B08B1SX7ZX/ref=sr_1_4?dchild=1&keywords=samsung+s10&qid=1621745591&sr=8-4'),\n",
       " ('Samsung Galaxy S10 Lite (Prism Blue, 8GB RAM, 512GB Storage)',\n",
       "  '',\n",
       "  '4.4 out of 5 stars',\n",
       "  '44',\n",
       "  'https://www.amazon.com/Samsung-Galaxy-Prism-512GB-Storage/dp/B089QRV7N3/ref=sr_1_5?dchild=1&keywords=samsung+s10&qid=1621745591&sr=8-5'),\n",
       " ('Samsung Galaxy Note10 Lite (Aura Glow, 6GB RAM, 128GB Storage) with No Cost EMI/Additional Exchange Offers',\n",
       "  '₹27,999',\n",
       "  '4.1 out of 5 stars',\n",
       "  '2,722',\n",
       "  'https://www.amazon.com/Samsung-Galaxy-Storage-Additional-Exchange/dp/B07X8V5YKR/ref=sr_1_6?dchild=1&keywords=samsung+s10&qid=1621745591&sr=8-6'),\n",
       " ('Samsung Galaxy M51 (Electric Blue, 6GB RAM, 128GB Storage)',\n",
       "  '₹20,999',\n",
       "  '4.4 out of 5 stars',\n",
       "  '52,881',\n",
       "  'https://www.amazon.com/Samsung-Galaxy-Electric-Blue-128GB-Storage/dp/B085J1J32G/ref=sr_1_7?dchild=1&keywords=samsung+s10&qid=1621745591&sr=8-7'),\n",
       " ('Samsung Galaxy S10 Plus SM-G975FCWHINS (Ceramic White, 12GB RAM, 1TB Storage)',\n",
       "  '₹73,568',\n",
       "  '4.4 out of 5 stars',\n",
       "  '1,505',\n",
       "  'https://www.amazon.com/Samsung-Ceramic-Storage-Additional-Exchange/dp/B07KXCXRLM/ref=sr_1_8?dchild=1&keywords=samsung+s10&qid=1621745591&sr=8-8'),\n",
       " ('Samsung Galaxy M12 (Blue,6GB RAM, 128GB Storage) 6000 mAh with 8nm Processor | True 48 MP Quad Camera | 90Hz Refresh Rate',\n",
       "  '₹12,499',\n",
       "  '4.0 out of 5 stars',\n",
       "  '11,675',\n",
       "  'https://www.amazon.com/Samsung-Galaxy-M12-Storage-Processor/dp/B08XJG8MQM/ref=sr_1_9?dchild=1&keywords=samsung+s10&qid=1621745591&sr=8-9'),\n",
       " ('(Renewed) Samsung Galaxy S10 Lite (Prism White, 8GB RAM, 128GB Storage)',\n",
       "  '',\n",
       "  '1.0 out of 5 stars',\n",
       "  '1',\n",
       "  'https://www.amazon.com/Renewed-Samsung-Galaxy-Prism-Storage/dp/B08G8WLFW7/ref=sr_1_10?dchild=1&keywords=samsung+s10&qid=1621745591&sr=8-10'),\n",
       " ('(Renewed) Samsung Galaxy Note10 Lite (Aura Black, 6GB RAM, 128GB Storage)\\xa0with No Cost EMI/Additional Exchange Offers',\n",
       "  '₹23,388',\n",
       "  '3.0 out of 5 stars',\n",
       "  '4',\n",
       "  'https://www.amazon.com/Renewed-Samsung-Storage-Additional-Exchange/dp/B08BCPNJYH/ref=sr_1_11?dchild=1&keywords=samsung+s10&qid=1621745591&sr=8-11'),\n",
       " ('Samsung Galaxy Note10 Lite (Aura Glow, 6GB RAM, 128GB Storage) -Samsung T5 500GB USB 3.1 Gen 2 (10Gbps, Type-C) External Solid State Drive (Portable SSD) Alluring Blue (MU-PA500B)',\n",
       "  '33998.00',\n",
       "  '4.1 out of 5 stars',\n",
       "  '2,722',\n",
       "  'https://www.amazon.com/Samsung-Samsung-External-Portable-MU-PA500B/dp/B08BPDKQXK/ref=sr_1_12?dchild=1&keywords=samsung+s10&qid=1621745591&sr=8-12'),\n",
       " ('Samsung Galaxy Note10 Lite (Aura Black, 8GB RAM, 128GB Storage)\\xa0with No Cost EMI/Additional Exchange Offers',\n",
       "  '₹33,994',\n",
       "  '4.1 out of 5 stars',\n",
       "  '2,722',\n",
       "  'https://www.amazon.com/Samsung-Galaxy-Storage-Additional-Exchange/dp/B07X9YLSH2/ref=sr_1_13?dchild=1&keywords=samsung+s10&qid=1621745591&sr=8-13'),\n",
       " ('Samsung Galaxy Note10 Lite (Aura Black, 6GB RAM, 128GB Storage)\\xa0with No Cost EMI/Additional Exchange Offers',\n",
       "  '₹27,999',\n",
       "  '4.1 out of 5 stars',\n",
       "  '2,722',\n",
       "  'https://www.amazon.com/Samsung-Galaxy-Storage-Additional-Exchange/dp/B07X9YNP5N/ref=sr_1_14?dchild=1&keywords=samsung+s10&qid=1621745591&sr=8-14'),\n",
       " ('Samsung Galaxy M21 (Midnight Blue, 4GB RAM, 64GB Storage)',\n",
       "  '₹12,499',\n",
       "  '4.2 out of 5 stars',\n",
       "  '129,038',\n",
       "  'https://www.amazon.com/Samsung-Galaxy-Midnight-Blue-Storage/dp/B07HGJJ559/ref=sr_1_15?dchild=1&keywords=samsung+s10&qid=1621745591&sr=8-15')]"
      ]
     },
     "execution_count": 10,
     "metadata": {},
     "output_type": "execute_result"
    }
   ],
   "source": [
    "records[:-1]"
   ]
  },
  {
   "cell_type": "code",
   "execution_count": 11,
   "metadata": {},
   "outputs": [
    {
     "name": "stdout",
     "output_type": "stream",
     "text": [
      "('Samsung Galaxy S10 Lite (Prism White, 8GB RAM, 128GB Storage)', '₹39,999')\n",
      "('Samsung Galaxy S10 Lite (Prism Black, 8GB RAM, 512GB Storage)', '₹44,990')\n",
      "('Samsung Galaxy S10 Lite (Prism Blue, 8GB RAM, 128GB)', '')\n",
      "('Samsung Galaxy S10 Lite (Prism White, 8GB RAM, 512GB Storage)', '₹42,660')\n",
      "('Samsung Galaxy S10 Lite (Prism Blue, 8GB RAM, 512GB Storage)', '')\n",
      "('Samsung Galaxy Note10 Lite (Aura Glow, 6GB RAM, 128GB Storage) with No Cost EMI/Additional Exchange Offers', '₹27,999')\n",
      "('Samsung Galaxy M51 (Electric Blue, 6GB RAM, 128GB Storage)', '₹20,999')\n",
      "('Samsung Galaxy S10 Plus SM-G975FCWHINS (Ceramic White, 12GB RAM, 1TB Storage)', '₹73,568')\n",
      "('Samsung Galaxy M12 (Blue,6GB RAM, 128GB Storage) 6000 mAh with 8nm Processor | True 48 MP Quad Camera | 90Hz Refresh Rate', '₹12,499')\n",
      "('(Renewed) Samsung Galaxy S10 Lite (Prism White, 8GB RAM, 128GB Storage)', '')\n",
      "('(Renewed) Samsung Galaxy Note10 Lite (Aura Black, 6GB RAM, 128GB Storage)\\xa0with No Cost EMI/Additional Exchange Offers', '₹23,388')\n",
      "('Samsung Galaxy Note10 Lite (Aura Glow, 6GB RAM, 128GB Storage) -Samsung T5 500GB USB 3.1 Gen 2 (10Gbps, Type-C) External Solid State Drive (Portable SSD) Alluring Blue (MU-PA500B)', '33998.00')\n",
      "('Samsung Galaxy Note10 Lite (Aura Black, 8GB RAM, 128GB Storage)\\xa0with No Cost EMI/Additional Exchange Offers', '₹33,994')\n",
      "('Samsung Galaxy Note10 Lite (Aura Black, 6GB RAM, 128GB Storage)\\xa0with No Cost EMI/Additional Exchange Offers', '₹27,999')\n",
      "('Samsung Galaxy M21 (Midnight Blue, 4GB RAM, 64GB Storage)', '₹12,499')\n",
      "('(Renewed) Samsung Galaxy M11 (Metallic Blue, 3GB RAM, 32GB Storage) with No Cost EMI/Additional Exchange Offers', '₹8,299')\n"
     ]
    }
   ],
   "source": [
    "for row in records:\n",
    "    print(row[0:2])"
   ]
  },
  {
   "cell_type": "code",
   "execution_count": 1,
   "metadata": {},
   "outputs": [
    {
     "data": {
      "text/plain": [
       "'https://www.amazon.in/s?k=samsung+s10&ref=nb_sb_noss&page{}'"
      ]
     },
     "execution_count": 1,
     "metadata": {},
     "output_type": "execute_result"
    }
   ],
   "source": [
    "def get_url(search):\n",
    "    template = 'https://www.amazon.in/s?k={}&ref=nb_sb_noss'\n",
    "    search = search.replace(\" \",\"+\")\n",
    "    url = template.format(search)\n",
    "    \n",
    "    url += '&page{}'\n",
    "    return url\n",
    "get_url('samsung s10')"
   ]
  },
  {
   "cell_type": "code",
   "execution_count": 1,
   "metadata": {},
   "outputs": [],
   "source": [
    "from bs4 import BeautifulSoup\n",
    "import requests\n",
    "from selenium import webdriver\n",
    "import csv\n",
    "\n",
    "\n",
    "def extract_list(item):\n",
    "    atag = item.h2.a\n",
    "    description = atag.text.strip()\n",
    "    url = ('https://www.amazon.com' + atag.get('href'))\n",
    "    url = url.strip()    \n",
    "    try:\n",
    "        price = item.find('span','a-offscreen').text.strip()\n",
    "    except AttributeError:\n",
    "        price = ''\n",
    "    try:\n",
    "        ratting = item.find('span', {'class' : 'a-icon-alt'}).text.strip()    \n",
    "    except AttributeError:\n",
    "        ratting = '' \n",
    "    try:\n",
    "        reviews = item.find('span', {'class' : 'a-size-base'}).text\n",
    "    except AttributeError:\n",
    "        reviews = ''    \n",
    "    result = (description, price, ratting, reviews, url)    \n",
    "    return result\n",
    "\n",
    "def get_url(search):\n",
    "    template = 'https://www.amazon.in/s?k={}&ref=nb_sb_noss'\n",
    "    search = search.replace(\" \",\"+\")\n",
    "    url = template.format(search)\n",
    "    \n",
    "    url += '&page={}'\n",
    "    return url\n",
    "\n",
    "\n",
    "\n",
    "\n",
    "def main(search):\n",
    "    driver = webdriver.Chrome()\n",
    "#     record = []\n",
    "    records = []\n",
    "    url = get_url(search)\n",
    "    \n",
    "    for page in range(1,5):\n",
    "        driver.get(url.format(page))\n",
    "        soup = BeautifulSoup(driver.page_source , 'html.parser')\n",
    "        results = soup.find_all('div',{'class' : 'a-section a-spacing-medium'})\n",
    "    \n",
    "        for item in results:\n",
    "            record = extract_list(item)\n",
    "            if record:\n",
    "                records.append(record)\n",
    "                \n",
    "    driver.close()\n",
    "    \n",
    "\n",
    "\n",
    "    \n",
    "\n",
    "    with open(\"Downloads\\AmazonRecods.csv\",'w+', newline='',encoding='utf-8') as f:\n",
    "        writer = csv.writer(f)\n",
    "        writer.writerow(['Description','Price','Ratting','Reviews','Product_link'])\n",
    "        writer.writerows(records)\n",
    "            \n",
    "        \n",
    "        \n",
    "    \n",
    "    \n",
    "main('samsung s10')"
   ]
  },
  {
   "cell_type": "code",
   "execution_count": 14,
   "metadata": {},
   "outputs": [
    {
     "data": {
      "text/plain": [
       "'C:\\\\Users\\\\anipatel'"
      ]
     },
     "execution_count": 14,
     "metadata": {},
     "output_type": "execute_result"
    }
   ],
   "source": [
    "import os\n",
    "os.getcwd()\n",
    "\n"
   ]
  },
  {
   "cell_type": "code",
   "execution_count": null,
   "metadata": {},
   "outputs": [],
   "source": []
  }
 ],
 "metadata": {
  "kernelspec": {
   "display_name": "Python 3",
   "language": "python",
   "name": "python3"
  },
  "language_info": {
   "codemirror_mode": {
    "name": "ipython",
    "version": 3
   },
   "file_extension": ".py",
   "mimetype": "text/x-python",
   "name": "python",
   "nbconvert_exporter": "python",
   "pygments_lexer": "ipython3",
   "version": "3.8.5"
  }
 },
 "nbformat": 4,
 "nbformat_minor": 4
}
