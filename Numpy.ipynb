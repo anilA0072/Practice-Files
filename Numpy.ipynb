{
 "cells": [
  {
   "cell_type": "code",
   "execution_count": 2,
   "metadata": {},
   "outputs": [],
   "source": [
    "from bs4 import BeautifulSoup\n",
    "from urllib.request import urlopen\n",
    "import os\n",
    "import re"
   ]
  },
  {
   "cell_type": "code",
   "execution_count": 3,
   "metadata": {},
   "outputs": [
    {
     "data": {
      "text/plain": [
       "'C:\\\\Users\\\\anipatel'"
      ]
     },
     "execution_count": 3,
     "metadata": {},
     "output_type": "execute_result"
    }
   ],
   "source": [
    "url = \"http://www.freeos.com/guides/lsst/\"\n",
    "html_fname = os.path.join(os.getcwd(),'linux_guide.html')\n",
    "os.getcwd()"
   ]
  },
  {
   "cell_type": "code",
   "execution_count": 4,
   "metadata": {},
   "outputs": [],
   "source": [
    "import numpy as np"
   ]
  },
  {
   "cell_type": "code",
   "execution_count": 7,
   "metadata": {},
   "outputs": [
    {
     "name": "stdout",
     "output_type": "stream",
     "text": [
      "[10 20 30]\n"
     ]
    }
   ],
   "source": [
    "arr_one_dim = np.array([10,20,30])\n",
    "print(arr_one_dim)"
   ]
  },
  {
   "cell_type": "code",
   "execution_count": 9,
   "metadata": {},
   "outputs": [
    {
     "name": "stdout",
     "output_type": "stream",
     "text": [
      "[[2 4 7 8]\n",
      " [1 9 5 3]]\n"
     ]
    }
   ],
   "source": [
    "arr_two_dim = np.array([[2,4,7,8],[1,9,5,3]])\n",
    "print(arr_two_dim)"
   ]
  },
  {
   "cell_type": "code",
   "execution_count": 11,
   "metadata": {},
   "outputs": [
    {
     "name": "stdout",
     "output_type": "stream",
     "text": [
      "Type -  <class 'numpy.ndarray'>\n",
      "Shape -  (2, 4)\n"
     ]
    }
   ],
   "source": [
    "print('Type - ',type(arr_one_dim))\n",
    "print('Shape - ',arr_two_dim.shape)"
   ]
  },
  {
   "cell_type": "code",
   "execution_count": 12,
   "metadata": {},
   "outputs": [
    {
     "name": "stdout",
     "output_type": "stream",
     "text": [
      "[[0 0 0 0 0 0]\n",
      " [0 0 0 0 0 0]\n",
      " [0 0 0 0 0 0]]\n"
     ]
    }
   ],
   "source": [
    "arr_0 = np.zeros((3,6), dtype = np.int64)\n",
    "print(arr_0)"
   ]
  },
  {
   "cell_type": "code",
   "execution_count": 13,
   "metadata": {},
   "outputs": [
    {
     "name": "stdout",
     "output_type": "stream",
     "text": [
      "[[1 1]\n",
      " [1 1]\n",
      " [1 1]]\n"
     ]
    }
   ],
   "source": [
    "arr_1 = np.ones((3,2), dtype = np.int64)\n",
    "print(arr_1)"
   ]
  },
  {
   "cell_type": "code",
   "execution_count": 18,
   "metadata": {},
   "outputs": [
    {
     "name": "stdout",
     "output_type": "stream",
     "text": [
      "[[1.4 1.4 1.4 1.4]\n",
      " [1.4 1.4 1.4 1.4]]\n"
     ]
    }
   ],
   "source": [
    "arr_all = np.full((2,4),1.4)\n",
    "print(arr_all)"
   ]
  },
  {
   "cell_type": "code",
   "execution_count": 20,
   "metadata": {},
   "outputs": [
    {
     "name": "stdout",
     "output_type": "stream",
     "text": [
      "[[1. 0. 0.]\n",
      " [0. 1. 0.]\n",
      " [0. 0. 1.]]\n"
     ]
    }
   ],
   "source": [
    "arr_eye = np.eye(3)\n",
    "print(arr_eye)"
   ]
  },
  {
   "cell_type": "code",
   "execution_count": 22,
   "metadata": {},
   "outputs": [
    {
     "name": "stdout",
     "output_type": "stream",
     "text": [
      "[[0.47931847 0.84232157 0.38829689]\n",
      " [0.73180561 0.95036672 0.79350348]\n",
      " [0.37873835 0.84092969 0.68476841]]\n"
     ]
    }
   ],
   "source": [
    "arr_random = np.random.random((3,3))\n",
    "print(arr_random)"
   ]
  },
  {
   "cell_type": "code",
   "execution_count": 24,
   "metadata": {},
   "outputs": [
    {
     "name": "stdout",
     "output_type": "stream",
     "text": [
      "[[117 104 151]\n",
      " [109 117 125]\n",
      " [ 96  67 128]\n",
      " [199 118  63]]\n"
     ]
    }
   ],
   "source": [
    "arr_randint = np.random.randint(200, size=(4,3))\n",
    "print(arr_randint)"
   ]
  },
  {
   "cell_type": "code",
   "execution_count": 29,
   "metadata": {},
   "outputs": [
    {
     "name": "stdout",
     "output_type": "stream",
     "text": [
      "[1 3 5 7 9]\n"
     ]
    }
   ],
   "source": [
    "arr_arange = np.arange(1,10,2)\n",
    "print(arr_arrange)"
   ]
  },
  {
   "cell_type": "code",
   "execution_count": 31,
   "metadata": {},
   "outputs": [
    {
     "name": "stdout",
     "output_type": "stream",
     "text": [
      "[[1 3 5 7 9 1 3 5 7 9 1 3 5 7 9]\n",
      " [1 3 5 7 9 1 3 5 7 9 1 3 5 7 9]] - (2, 15)\n"
     ]
    }
   ],
   "source": [
    "arr_tile = np.tile(arr_arange, (2,3))\n",
    "print(arr_tile, '-', arr_tile.shape)"
   ]
  },
  {
   "cell_type": "code",
   "execution_count": 33,
   "metadata": {},
   "outputs": [
    {
     "name": "stdout",
     "output_type": "stream",
     "text": [
      "[[1 4 6 4]\n",
      " [3 6 2 8]\n",
      " [9 0 3 1]]\n"
     ]
    }
   ],
   "source": [
    "#Slicing\n",
    "arr = np.array([[1,4,6,4],[3,6,2,8],[9,0,3,1]])\n",
    "print(arr)"
   ]
  },
  {
   "cell_type": "code",
   "execution_count": 37,
   "metadata": {},
   "outputs": [
    {
     "name": "stdout",
     "output_type": "stream",
     "text": [
      "[[6 4]\n",
      " [2 8]\n",
      " [3 1]]\n"
     ]
    }
   ],
   "source": [
    "print(arr[:3,2:])"
   ]
  },
  {
   "cell_type": "code",
   "execution_count": 38,
   "metadata": {},
   "outputs": [
    {
     "name": "stdout",
     "output_type": "stream",
     "text": [
      "[4 6 0]\n"
     ]
    }
   ],
   "source": [
    "print(arr[:3,1])"
   ]
  },
  {
   "cell_type": "code",
   "execution_count": 39,
   "metadata": {},
   "outputs": [
    {
     "name": "stdout",
     "output_type": "stream",
     "text": [
      "[[6]]\n"
     ]
    }
   ],
   "source": [
    "print(arr[1:2,1:2])"
   ]
  },
  {
   "cell_type": "code",
   "execution_count": 40,
   "metadata": {},
   "outputs": [
    {
     "data": {
      "text/plain": [
       "array([[18,  4,  6,  4],\n",
       "       [ 3,  6,  2,  8],\n",
       "       [ 9,  0,  3,  1]])"
      ]
     },
     "execution_count": 40,
     "metadata": {},
     "output_type": "execute_result"
    }
   ],
   "source": [
    "arr[0,0]=18\n",
    "arr"
   ]
  },
  {
   "cell_type": "code",
   "execution_count": 41,
   "metadata": {},
   "outputs": [
    {
     "name": "stdout",
     "output_type": "stream",
     "text": [
      "[(0, 1), (1, 0), (2, 2), (1, 1)]\n"
     ]
    }
   ],
   "source": [
    "#Interger Array Indexing\n",
    "row_idx = [0,1,2,1]\n",
    "col_idx = [1,0,2,1]\n",
    "print(list(zip(row_idx,col_idx)))"
   ]
  },
  {
   "cell_type": "code",
   "execution_count": 43,
   "metadata": {},
   "outputs": [
    {
     "name": "stdout",
     "output_type": "stream",
     "text": [
      "[4 3 3 6]\n"
     ]
    }
   ],
   "source": [
    "arr_idx_1 = arr[row_idx, col_idx]\n",
    "print(arr_idx_1)"
   ]
  },
  {
   "cell_type": "code",
   "execution_count": 45,
   "metadata": {},
   "outputs": [
    {
     "name": "stdout",
     "output_type": "stream",
     "text": [
      "[4 9 1]\n"
     ]
    }
   ],
   "source": [
    "arr_idx_2 = np.array([arr[0,1], arr[2,0], arr[2,3]])\n",
    "print(arr_idx_2)"
   ]
  },
  {
   "cell_type": "code",
   "execution_count": 49,
   "metadata": {},
   "outputs": [
    {
     "name": "stdout",
     "output_type": "stream",
     "text": [
      "[18  2  0]\n"
     ]
    }
   ],
   "source": [
    "#Dynamymic\n",
    "arr_indexes = [0,2,1]\n",
    "arr_idx_3 = arr[np.arange(3), arr_indexes]\n",
    "print(arr_idx_3)"
   ]
  },
  {
   "cell_type": "code",
   "execution_count": 50,
   "metadata": {},
   "outputs": [
    {
     "name": "stdout",
     "output_type": "stream",
     "text": [
      "[[12 -2  0 -2]\n",
      " [-3  0 -4  2]\n",
      " [ 3 -6 -3 -5]]\n"
     ]
    }
   ],
   "source": [
    "arr-=6\n",
    "print(arr)"
   ]
  },
  {
   "cell_type": "code",
   "execution_count": 51,
   "metadata": {},
   "outputs": [
    {
     "name": "stdout",
     "output_type": "stream",
     "text": [
      "[[False  True  True  True]\n",
      " [ True  True  True False]\n",
      " [False  True  True  True]]\n"
     ]
    }
   ],
   "source": [
    "#Boolean Array Indexing\n",
    "print(arr<1)"
   ]
  },
  {
   "cell_type": "code",
   "execution_count": 57,
   "metadata": {},
   "outputs": [
    {
     "name": "stdout",
     "output_type": "stream",
     "text": [
      "[2 3]\n"
     ]
    }
   ],
   "source": [
    "print(arr[(arr>0) & (arr<10)])"
   ]
  },
  {
   "cell_type": "code",
   "execution_count": 59,
   "metadata": {},
   "outputs": [
    {
     "name": "stdout",
     "output_type": "stream",
     "text": [
      "[[1 3]\n",
      " [2 5]] \n",
      "\n",
      " [[2 4]\n",
      " [1 0]]\n"
     ]
    }
   ],
   "source": [
    "#Mathematical Operations \n",
    "arr1 = np.array([[1,3],[2,5]])\n",
    "arr2 = np.array([[2,4],[1,0]])\n",
    "print(arr1 , \"\\n\\n\" , arr2)"
   ]
  },
  {
   "cell_type": "code",
   "execution_count": 60,
   "metadata": {},
   "outputs": [
    {
     "name": "stdout",
     "output_type": "stream",
     "text": [
      "[[3 7]\n",
      " [3 5]] \n",
      "\n",
      "\n",
      "[[3 7]\n",
      " [3 5]]\n"
     ]
    }
   ],
   "source": [
    "#addition\n",
    "print(arr1+arr2, \"\\n\\n\")\n",
    "print(np.add(arr1,arr2))"
   ]
  },
  {
   "cell_type": "code",
   "execution_count": 64,
   "metadata": {},
   "outputs": [
    {
     "name": "stdout",
     "output_type": "stream",
     "text": [
      "[[ 1  1]\n",
      " [-1 -5]] \n",
      "\n",
      "[[ 2 12]\n",
      " [ 2  0]] \n",
      "\n"
     ]
    }
   ],
   "source": [
    "#Subtraction => arr2 - arr1 or \n",
    "print(np.subtract(arr2,arr1),\"\\n\")\n",
    "\n",
    "#multiplication  => arr2*arr1 or\n",
    "print(np.multiply(arr2, arr1),\"\\n\")"
   ]
  },
  {
   "cell_type": "code",
   "execution_count": 67,
   "metadata": {},
   "outputs": [
    {
     "name": "stdout",
     "output_type": "stream",
     "text": [
      "[[0.5  0.75]\n",
      " [2.    inf]] \n",
      "\n",
      "[[0 1]\n",
      " [1 0]] \n",
      "\n"
     ]
    },
    {
     "name": "stderr",
     "output_type": "stream",
     "text": [
      "<ipython-input-67-e504a9428fd2>:2: RuntimeWarning: divide by zero encountered in true_divide\n",
      "  print(np.divide(arr1,arr2),\"\\n\")\n"
     ]
    }
   ],
   "source": [
    "# Division => arr1/arr2 or\n",
    "print(np.divide(arr1,arr2),\"\\n\")\n",
    "\n",
    "#Modulus => arr1%arr2 or \n",
    "print(np.mod(arr2,arr1),\"\\n\")"
   ]
  },
  {
   "cell_type": "code",
   "execution_count": 68,
   "metadata": {},
   "outputs": [
    {
     "name": "stdout",
     "output_type": "stream",
     "text": [
      "[[1.41421356 2.        ]\n",
      " [1.         0.        ]]\n"
     ]
    }
   ],
   "source": [
    "#sqrt\n",
    "print(np.sqrt(arr2))"
   ]
  },
  {
   "cell_type": "code",
   "execution_count": 69,
   "metadata": {},
   "outputs": [
    {
     "name": "stdout",
     "output_type": "stream",
     "text": [
      "[[5 4]\n",
      " [9 8]]\n"
     ]
    }
   ],
   "source": [
    "#Dot Function = > Matrix Multiplication\n",
    "print(np.dot(arr1,arr2))"
   ]
  },
  {
   "cell_type": "code",
   "execution_count": 70,
   "metadata": {},
   "outputs": [
    {
     "name": "stdout",
     "output_type": "stream",
     "text": [
      "11\n"
     ]
    }
   ],
   "source": [
    "print(np.sum(arr1))"
   ]
  },
  {
   "cell_type": "code",
   "execution_count": 71,
   "metadata": {},
   "outputs": [
    {
     "name": "stdout",
     "output_type": "stream",
     "text": [
      "[3 8]\n"
     ]
    }
   ],
   "source": [
    "print(np.sum(arr1, axis =0)) #axis = 1"
   ]
  },
  {
   "cell_type": "code",
   "execution_count": 73,
   "metadata": {},
   "outputs": [
    {
     "name": "stdout",
     "output_type": "stream",
     "text": [
      "[[1 2]\n",
      " [3 5]]\n"
     ]
    }
   ],
   "source": [
    "#transpose\n",
    "print(arr1.T)"
   ]
  },
  {
   "cell_type": "code",
   "execution_count": 75,
   "metadata": {},
   "outputs": [
    {
     "name": "stdout",
     "output_type": "stream",
     "text": [
      "[[12 -2  0 -2]\n",
      " [-3  0 -4  2]\n",
      " [ 3 -6 -3 -5]] \n",
      "\n",
      "[2, 4, 0, 1] \n",
      "\n",
      "(3, 4) \n",
      "\n",
      "[[2 4 0 1]\n",
      " [2 4 0 1]\n",
      " [2 4 0 1]]\n"
     ]
    }
   ],
   "source": [
    "#Broadcasting\n",
    "print(arr, \"\\n\")\n",
    "arr_1 = [2,4,0,1]\n",
    "print(arr_1, \"\\n\")\n",
    "\n",
    "print(arr.shape, \"\\n\")\n",
    "print(np.tile(arr_1,(arr.shape[0],1)))"
   ]
  },
  {
   "cell_type": "code",
   "execution_count": 76,
   "metadata": {},
   "outputs": [
    {
     "name": "stdout",
     "output_type": "stream",
     "text": [
      "[[14  2  0 -1]\n",
      " [-1  4 -4  3]\n",
      " [ 5 -2 -3 -4]]\n"
     ]
    }
   ],
   "source": [
    "print(arr+arr_1)"
   ]
  },
  {
   "cell_type": "code",
   "execution_count": 79,
   "metadata": {},
   "outputs": [
    {
     "name": "stdout",
     "output_type": "stream",
     "text": [
      "[ 1  4  7 10 13 16 19 22 25 28 31 34 37 40 43 46 49 52 55 58 61 64 67 70\n",
      " 73 76 79] - (27,) - 27\n"
     ]
    }
   ],
   "source": [
    "#Reshape\n",
    "arr = np.array(list(range(1,80,3)))\n",
    "print(arr, '-', arr.shape, \"-\", len(arr))"
   ]
  },
  {
   "cell_type": "code",
   "execution_count": 81,
   "metadata": {},
   "outputs": [
    {
     "name": "stdout",
     "output_type": "stream",
     "text": [
      "Reshape - \n",
      " [[ 1  4  7 10 13 16 19 22 25]\n",
      " [28 31 34 37 40 43 46 49 52]\n",
      " [55 58 61 64 67 70 73 76 79]]\n"
     ]
    }
   ],
   "source": [
    "print(\"Reshape - \\n\", arr.reshape(3,9))"
   ]
  },
  {
   "cell_type": "code",
   "execution_count": 83,
   "metadata": {},
   "outputs": [
    {
     "name": "stdout",
     "output_type": "stream",
     "text": [
      "Reshape 1 - \n",
      "  [[[[ 1]\n",
      "   [ 4]\n",
      "   [ 7]]\n",
      "\n",
      "  [[10]\n",
      "   [13]\n",
      "   [16]]\n",
      "\n",
      "  [[19]\n",
      "   [22]\n",
      "   [25]]]\n",
      "\n",
      "\n",
      " [[[28]\n",
      "   [31]\n",
      "   [34]]\n",
      "\n",
      "  [[37]\n",
      "   [40]\n",
      "   [43]]\n",
      "\n",
      "  [[46]\n",
      "   [49]\n",
      "   [52]]]\n",
      "\n",
      "\n",
      " [[[55]\n",
      "   [58]\n",
      "   [61]]\n",
      "\n",
      "  [[64]\n",
      "   [67]\n",
      "   [70]]\n",
      "\n",
      "  [[73]\n",
      "   [76]\n",
      "   [79]]]]\n"
     ]
    }
   ],
   "source": [
    "print(\"Reshape 1 - \\n \", arr.reshape(3,3,3,1))"
   ]
  },
  {
   "cell_type": "code",
   "execution_count": 84,
   "metadata": {},
   "outputs": [
    {
     "name": "stdout",
     "output_type": "stream",
     "text": [
      "[1 2 3 4 5 6]\n"
     ]
    }
   ],
   "source": [
    "# Concatenating the Arrays\n",
    "arr1 = np.array([1,2,3])\n",
    "arr2 = np.array([4,5,6])\n",
    "\n",
    "print(np.concatenate((arr1, arr2)))"
   ]
  },
  {
   "cell_type": "code",
   "execution_count": 86,
   "metadata": {},
   "outputs": [
    {
     "name": "stdout",
     "output_type": "stream",
     "text": [
      "[[1 4]\n",
      " [2 5]\n",
      " [3 6]]\n"
     ]
    }
   ],
   "source": [
    "print(np.stack((arr1, arr2), axis=1)) # axis=0"
   ]
  },
  {
   "cell_type": "code",
   "execution_count": 87,
   "metadata": {},
   "outputs": [
    {
     "name": "stdout",
     "output_type": "stream",
     "text": [
      "[[1 2 6 4]\n",
      " [3 4 2 8]]\n"
     ]
    }
   ],
   "source": [
    "#Concatenating 2D Arrays\n",
    "arr1 = np.array([[1,2],[3,4]])\n",
    "arr2 = np.array([[6,4],[2,8]])\n",
    "\n",
    "print(np.concatenate((arr1,arr2), axis = 1))"
   ]
  },
  {
   "cell_type": "code",
   "execution_count": 89,
   "metadata": {},
   "outputs": [
    {
     "name": "stdout",
     "output_type": "stream",
     "text": [
      "[array([1, 3]), array([4, 6]), array([2, 7]), array([8]), array([6]), array([9])]\n",
      "1st  [1 3]\n",
      "2nt  [4 6]\n",
      "3rt  [2 7]\n",
      "4th  [8]\n",
      "5th  [6]\n",
      "6th  [9]\n"
     ]
    }
   ],
   "source": [
    "#Split the array to multiple arrays\n",
    "arr = np.array([1,3,4,6,2,7,8,6,9])\n",
    "arr_splitted = np.array_split(arr,6)\n",
    "print(arr_splitted)\n",
    "print(\"1st \", arr_splitted[0])\n",
    "print(\"2nt \", arr_splitted[1])\n",
    "print(\"3rt \", arr_splitted[2])\n",
    "print(\"4th \", arr_splitted[3])\n",
    "print(\"5th \", arr_splitted[4])\n",
    "print(\"6th \", arr_splitted[5])"
   ]
  },
  {
   "cell_type": "code",
   "execution_count": 91,
   "metadata": {},
   "outputs": [
    {
     "name": "stdout",
     "output_type": "stream",
     "text": [
      "[array([[1, 3],\n",
      "       [4, 6]]), array([[2, 7]]), array([[8, 6]]), array([[9, 1]])]\n"
     ]
    }
   ],
   "source": [
    "#Split the 2D array to multiple arrays\n",
    "arr = np.array([[1,3],[4,6],[2,7],[8,6],[9,1]])\n",
    "arr_splitted = np.array_split(arr,4)\n",
    "print(arr_splitted)"
   ]
  },
  {
   "cell_type": "code",
   "execution_count": 94,
   "metadata": {},
   "outputs": [
    {
     "name": "stdout",
     "output_type": "stream",
     "text": [
      "[[1 3]\n",
      " [4 6]\n",
      " [2 7]\n",
      " [8 6]\n",
      " [9 1]]\n",
      "(array([2, 3, 4], dtype=int64), array([1, 0, 0], dtype=int64))\n"
     ]
    }
   ],
   "source": [
    "#searching for the particular element\n",
    "arr_rearched = np.where(arr>6)\n",
    "print(arr)\n",
    "print(arr_rearched)"
   ]
  },
  {
   "cell_type": "code",
   "execution_count": 95,
   "metadata": {},
   "outputs": [
    {
     "name": "stdout",
     "output_type": "stream",
     "text": [
      "[[1 3]\n",
      " [4 2]\n",
      " [2 3]\n",
      " [4 2]\n",
      " [5 1]]\n"
     ]
    }
   ],
   "source": [
    "print(np.where(arr>=6, arr-4,arr))"
   ]
  },
  {
   "cell_type": "code",
   "execution_count": null,
   "metadata": {},
   "outputs": [],
   "source": [
    "import socket\n",
    "\n",
    "# take the server name and port name\n",
    "host = 'local host'\n",
    "port = 5000\n",
    "\n",
    "# create a socket at server side\n",
    "# using TCP / IP protocol\n",
    "s = socket.socket(socket.AF_INET,\n",
    "\t\t\t\tsocket.SOCK_STREAM)\n",
    "\n",
    "# bind the socket with server\n",
    "# and port number\n",
    "s.bind(('', port))\n",
    "\n",
    "# allow maximum 1 connection to\n",
    "# the socket\n",
    "s.listen(1)\n",
    "\n",
    "# wait till a client accept\n",
    "# connection\n",
    "c, addr = s.accept()\n",
    "\n",
    "# display client address\n",
    "print(\"CONNECTION FROM:\", str(addr))\n",
    "\n",
    "# send message to the client after\n",
    "# encoding into binary string\n",
    "c.send(b\"HELLO, How are you ? \\\n",
    "\tWelcome to Akash hacking World\")\n",
    "\n",
    "msg = \"Bye..............\"\n",
    "c.send(msg.encode())\n",
    "\n",
    "# disconnect the server\n",
    "c.close()\n"
   ]
  },
  {
   "cell_type": "code",
   "execution_count": null,
   "metadata": {},
   "outputs": [],
   "source": [
    "import socket\n",
    "\n",
    "# take the server name and port name\n",
    "\n",
    "host = 'local host'\n",
    "port = 5000\n",
    "\n",
    "# create a socket at client side\n",
    "# using TCP / IP protocol\n",
    "s = socket.socket(socket.AF_INET,\n",
    "\t\t\t\tsocket.SOCK_STREAM)\n",
    "\n",
    "# connect it to server and port\n",
    "# number on local computer.\n",
    "s.connect(('127.0.0.1', port))\n",
    "\n",
    "# receive message string from\n",
    "# server, at a time 1024 B\n",
    "msg = s.recv(1024)\n",
    "\n",
    "# repeat as long as message\n",
    "# string are not empty\n",
    "while msg:\n",
    "\tprint('Received:' + msg.decode())\n",
    "\tmsg = s.recv(1024)\n",
    "\n",
    "# disconnect the client\n",
    "s.close()\n"
   ]
  },
  {
   "cell_type": "code",
   "execution_count": null,
   "metadata": {},
   "outputs": [],
   "source": []
  }
 ],
 "metadata": {
  "kernelspec": {
   "display_name": "Python 3",
   "language": "python",
   "name": "python3"
  },
  "language_info": {
   "codemirror_mode": {
    "name": "ipython",
    "version": 3
   },
   "file_extension": ".py",
   "mimetype": "text/x-python",
   "name": "python",
   "nbconvert_exporter": "python",
   "pygments_lexer": "ipython3",
   "version": "3.8.5"
  }
 },
 "nbformat": 4,
 "nbformat_minor": 4
}
