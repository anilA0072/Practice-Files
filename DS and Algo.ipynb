{
 "cells": [
  {
   "cell_type": "markdown",
   "metadata": {},
   "source": [
    "## 1. Array : Reverse an Array"
   ]
  },
  {
   "cell_type": "code",
   "execution_count": 12,
   "metadata": {},
   "outputs": [
    {
     "name": "stdout",
     "output_type": "stream",
     "text": [
      "4\n"
     ]
    },
    {
     "data": {
      "text/plain": [
       "[7, 6, 13, 10]"
      ]
     },
     "execution_count": 12,
     "metadata": {},
     "output_type": "execute_result"
    }
   ],
   "source": [
    "#1 Basic approach\n",
    "a = [10,13,6,7]\n",
    "print(len(a))\n",
    "arr = []\n",
    "for i in range(len(a),0,-1):\n",
    "    arr.append(a[i-1])\n",
    "    \n",
    "arr"
   ]
  },
  {
   "cell_type": "code",
   "execution_count": 1,
   "metadata": {},
   "outputs": [
    {
     "name": "stdout",
     "output_type": "stream",
     "text": [
      "Enter the number of elements : 2\n",
      "1th : 13\n",
      "2th : 43\n",
      "[13, 43]\n",
      "1\n",
      "43 13\n",
      "[43, 13]\n"
     ]
    }
   ],
   "source": [
    "#2 Another approach\n",
    "# a = [10,4,56,23,5,9,17,13,29,99,76]\n",
    "# print(a)\n",
    "def reverse(a):\n",
    "    l = len(a)//2 \n",
    "    print(l)\n",
    "    k = len(a)-1\n",
    "    for i in range(0,l):\n",
    "        a[i],a[k] = a[k],a[i]\n",
    "        print(a[i],a[k])\n",
    "        k -= 1\n",
    "\n",
    "    return a\n",
    "\n",
    "\n",
    "a = []\n",
    "n = int(input(\"Enter the number of elements : \"))\n",
    "for i in range(0,n):\n",
    "    a.append(int(input(f'{i+1}th : ')))\n",
    "print(a)\n",
    "print(reverse(a))"
   ]
  },
  {
   "cell_type": "markdown",
   "metadata": {},
   "source": [
    "## 2. Array : Find the maximum and minimum element in an array"
   ]
  },
  {
   "cell_type": "code",
   "execution_count": 2,
   "metadata": {},
   "outputs": [
    {
     "name": "stdout",
     "output_type": "stream",
     "text": [
      "Enter the number of elements : 3\n",
      "1th : 1\n",
      "2th : 1\n",
      "3th : 1\n",
      "[1, 1, 1]\n",
      "Minimum and Maximum both are same in your array list.\n",
      "Small : 1, Big : 1\n"
     ]
    }
   ],
   "source": [
    "# a = [10,9,17,13,97,1,99]\n",
    "# print(a)\n",
    "# small, big = a[0],a[0]\n",
    "# for i in range(0,len(a)):\n",
    "#     if a[i]<small:\n",
    "#         small = a[i]\n",
    "#     if a[i]>big:\n",
    "#         big = a[i]\n",
    "\n",
    "def minmax(a):\n",
    "    if a == []:\n",
    "        print(\"Please enter values to find min max....\")\n",
    "    else:\n",
    "        small, big = a[0],a[0]\n",
    "        for i in a:\n",
    "            if i<small:\n",
    "                small = i\n",
    "            elif i>big:\n",
    "                big = i\n",
    "        \n",
    "        if small==big:\n",
    "            print(\"Minimum and Maximum both are same in your array list.\")\n",
    "        return f\"Small : {small}, Big : {big}\"\n",
    "        \n",
    "a = []\n",
    "n = int(input(\"Enter the number of elements : \"))\n",
    "for i in range(0,n):\n",
    "    a.append(int(input(f'{i+1}th : ')))\n",
    "print(a)\n",
    "print(minmax(a))       \n",
    "      \n",
    "    \n",
    "        "
   ]
  },
  {
   "cell_type": "markdown",
   "metadata": {},
   "source": [
    "## 3. Array : Find the \"Kth\" max and min element of an array "
   ]
  },
  {
   "cell_type": "code",
   "execution_count": 3,
   "metadata": {},
   "outputs": [
    {
     "name": "stdout",
     "output_type": "stream",
     "text": [
      "[10, 13, 97, 1, 99, 9, 17]\n",
      "[1, 9, 10, 13, 17, 97, 99]\n",
      "2th Small : 9, 2th largest : 97\n"
     ]
    },
    {
     "data": {
      "text/plain": [
       "'\\nclass Solution:\\n    def kthSmallest(self,arr, l, r, k):\\n        \\n        arr : given array\\n        l : starting index of the array i.e 0\\n        r : ending index of the array i.e size-1\\n        k : find kth smallest element and return using this function\\n        \\n        for i in range(0,len(arr)):\\n            for j in range(0,len(arr)):\\n                 if arr[i]<arr[j]:\\n                      arr[i],arr[j] = arr[j],arr[i]\\n        return arr[k-1]\\n'"
      ]
     },
     "execution_count": 3,
     "metadata": {},
     "output_type": "execute_result"
    }
   ],
   "source": [
    "a = [10,13,97,1,99,9,17]\n",
    "print(a)\n",
    "# a.sort()\n",
    "# print(a)\n",
    "# k = 6\n",
    "# print(f'{k}th Small : {a[k-1]}, {k}th largest : {a[-k]}')\n",
    "\n",
    "for i in range(0,len(a)):\n",
    "    for j in range(0,len(a)):\n",
    "        if a[i]<a[j]:\n",
    "            a[i],a[j] = a[j],a[i]\n",
    "            \n",
    "print(a)\n",
    "\n",
    "# kth,n = 2,0\n",
    "# small, big = a[0],a[0]\n",
    "# for i in a:\n",
    "#     if i<small:\n",
    "#         small = i\n",
    "#     elif i>big:\n",
    "#         big = i\n",
    "k = 2\n",
    "print(f'{k}th Small : {a[k-1]}, {k}th largest : {a[-k]}')\n",
    "\n",
    "\n",
    "\n",
    "\n",
    "'''\n",
    "class Solution:\n",
    "    def kthSmallest(self,arr, l, r, k):\n",
    "        \n",
    "        arr : given array\n",
    "        l : starting index of the array i.e 0\n",
    "        r : ending index of the array i.e size-1\n",
    "        k : find kth smallest element and return using this function\n",
    "        \n",
    "        for i in range(0,len(arr)):\n",
    "            for j in range(0,len(arr)):\n",
    "                 if arr[i]<arr[j]:\n",
    "                      arr[i],arr[j] = arr[j],arr[i]\n",
    "        return arr[k-1]\n",
    "'''"
   ]
  },
  {
   "cell_type": "markdown",
   "metadata": {},
   "source": [
    "## 4. Array : Given an array which consists of only 0, 1 and 2. Sort the array without using any sorting algo"
   ]
  },
  {
   "cell_type": "code",
   "execution_count": 53,
   "metadata": {},
   "outputs": [
    {
     "data": {
      "text/plain": [
       "[0, 1, 1, 2]"
      ]
     },
     "execution_count": 53,
     "metadata": {},
     "output_type": "execute_result"
    }
   ],
   "source": [
    "a = [1, 9, 3, 2, 1, 0]\n",
    "b = []\n",
    "\n",
    "for i  in a:\n",
    "    if i==0 or i==1 or i==2:\n",
    "        b.append(i)\n",
    "b\n",
    "\n",
    "for i in range(0,len(b)):\n",
    "    for j in range(0,len(b)):\n",
    "        if b[i]<b[j]:\n",
    "            b[i],b[j] = b[j],b[i]\n",
    "b\n",
    "\n"
   ]
  },
  {
   "cell_type": "code",
   "execution_count": 54,
   "metadata": {},
   "outputs": [],
   "source": [
    "a = [10,13,97,99,1, 0,9,17]\n",
    "n = len(a)\n",
    "\n",
    "# for j in a:\n",
    "#     if j>2 or j<0:\n",
    "#         a.remove(j)\n",
    "# a\n",
    "\n",
    "# for i in range(0,n):\n",
    "#     for j in range(0,i):\n",
    "#         print(n)\n",
    "#         if a[j]>2:\n",
    "#             a.remove(a[j])\n",
    "# a"
   ]
  },
  {
   "cell_type": "code",
   "execution_count": 55,
   "metadata": {},
   "outputs": [
    {
     "name": "stdout",
     "output_type": "stream",
     "text": [
      "0\n",
      "1\n",
      "2\n"
     ]
    },
    {
     "data": {
      "text/plain": [
       "[4, 1, 0]"
      ]
     },
     "execution_count": 55,
     "metadata": {},
     "output_type": "execute_result"
    }
   ],
   "source": [
    "a=[1,4,7,1,6,0]\n",
    "n=len(a)\n",
    "# a.pop(4)\n",
    "# a\n",
    "# for i in range(len(a),0,-1):\n",
    "# #     print(a[i])\n",
    "#     a.pop(i)\n",
    "# a\n",
    "\n",
    "i =0\n",
    "while i<n:\n",
    "    if a[i]!=0 or a[i]!=1 or a[i]!=2:\n",
    "        a.pop(i)\n",
    "        print(i)\n",
    "    i+=1\n",
    "    n-=1\n",
    "a"
   ]
  },
  {
   "cell_type": "code",
   "execution_count": 4,
   "metadata": {},
   "outputs": [
    {
     "data": {
      "text/plain": [
       "[0, 0, 1, 2, 2]"
      ]
     },
     "execution_count": 4,
     "metadata": {},
     "output_type": "execute_result"
    }
   ],
   "source": [
    "# arr=[1,4,2,1,2,0,9]\n",
    "arr = [0 ,2 ,1 ,2 ,0]\n",
    "\n",
    "b = []\n",
    "for i in range(0,len(arr)):\n",
    "    if arr[i]==0:\n",
    "        b.append(arr[i])\n",
    "for i in range(0,len(arr)):\n",
    "    if arr[i]==1:\n",
    "        b.append(arr[i])\n",
    "for i in range(0,len(arr)):\n",
    "    if arr[i]==2:\n",
    "        b.append(arr[i])\n",
    "b"
   ]
  },
  {
   "cell_type": "code",
   "execution_count": 6,
   "metadata": {},
   "outputs": [
    {
     "name": "stdout",
     "output_type": "stream",
     "text": [
      "[0, 0, 0, 0, 1, 1, 1, 2, 2, 2, 2, 2, 2]\n"
     ]
    }
   ],
   "source": [
    "\n",
    "# n = len(arr)\n",
    "# b = []\n",
    "\n",
    "# for i in arr:\n",
    "#     if i==0:\n",
    "#         b.insert(0,0)\n",
    "#     if i == 2:\n",
    "#         b.insert(-1,2)\n",
    "#     if arr.count(1)>=b.count(1):\n",
    "#         b.insert(b.count(0),1)\n",
    "\n",
    "# b.pop()\n",
    "    \n",
    "# b \n",
    "\n",
    "\n",
    "# for i in range(0,len(arr)):\n",
    "#     for j in range(i+1,len(arr)):\n",
    "#         if arr[i]>arr[j]:\n",
    "#             arr[i],arr[j] = arr[j],arr[i]\n",
    "# arr\n",
    "\n",
    "arr = [0, 2 ,1 ,2 ,0,2,1,2,2,1,0,0,2]\n",
    "b = []\n",
    "b = arr.copy()\n",
    "arr.clear()\n",
    "\n",
    "arr.extend([0]*b.count(0))\n",
    "arr.extend([1]*b.count(1))\n",
    "arr.extend([2]*b.count(2))\n",
    "print(arr)\n",
    "\n",
    "#########################################################################################################\n",
    "class Solution:\n",
    "    def sort012(self,arr,n):\n",
    "        b = []\n",
    "        b = arr.copy()\n",
    "        arr.clear()\n",
    "        \n",
    "        arr.extend([0]*b.count(0))\n",
    "        arr.extend([1]*b.count(1))\n",
    "        arr.extend([2]*b.count(2))\n",
    "###########################################################################################################\n"
   ]
  },
  {
   "cell_type": "markdown",
   "metadata": {},
   "source": [
    "## 5 : Array - Move all the negative elements to one side of the array "
   ]
  },
  {
   "cell_type": "code",
   "execution_count": 8,
   "metadata": {},
   "outputs": [
    {
     "data": {
      "text/plain": [
       "[-13, -3, -2, 0, 1, 1, 2, 9]"
      ]
     },
     "execution_count": 8,
     "metadata": {},
     "output_type": "execute_result"
    }
   ],
   "source": [
    "b = [1, 9, -3, 2, 1, 0, -13, -2]\n",
    "a = []\n",
    "\n",
    "for i in range(0,len(b)):\n",
    "    for j in range(0,len(b)):\n",
    "        if b[i]<b[j]:\n",
    "            b[i],b[j] = b[j],b[i]\n",
    "b"
   ]
  },
  {
   "cell_type": "markdown",
   "metadata": {},
   "source": [
    "## 6 :Find the Union and Intersection of the two sorted arrays."
   ]
  },
  {
   "cell_type": "code",
   "execution_count": 8,
   "metadata": {},
   "outputs": [
    {
     "name": "stdout",
     "output_type": "stream",
     "text": [
      "intersection =  [2, 4] \n",
      "union =  [1, 12, 2, 4, 5, 3]\n"
     ]
    }
   ],
   "source": [
    "a=[12, 4, 5, 2, 5]\n",
    "b=[1,2, 4,3, 4,0]\n",
    "\n",
    "intersection=[]\n",
    "union=[]\n",
    "if len(a)>len(b):\n",
    "    l=len(b)\n",
    "else:\n",
    "    l=len(a)\n",
    "for i in range(0,l):\n",
    "    if b[i] not in union:\n",
    "        union.append(b[i])\n",
    "    if a[i] not in union:\n",
    "        union.append(a[i])\n",
    "    if b[i] in a:\n",
    "        if b[i] not in intersection:\n",
    "            intersection.append(b[i])\n",
    "    else:\n",
    "        pass\n",
    "print('intersection = ',intersection,'\\nunion = ',union)\n",
    "\n",
    "\n",
    "\n",
    "\n",
    "\n",
    "\n",
    "*****************************************************************************\n",
    "class Solution:    \n",
    "    #Function to return the count of number of elements in union of two arrays.\n",
    "    def doUnion(self,a,n,b,m):\n",
    "        c=[]\n",
    "        for i in a:\n",
    "            if i not in c:\n",
    "                c.append(i)\n",
    "        for i in b:\n",
    "            if i not in c:\n",
    "                c.append(i)                   \n",
    "        \n",
    "        return len(c)\n",
    "***************************************************************************"
   ]
  },
  {
   "cell_type": "markdown",
   "metadata": {},
   "source": [
    "## 7 : Write a program to cyclically rotate an array by one."
   ]
  },
  {
   "cell_type": "code",
   "execution_count": 9,
   "metadata": {},
   "outputs": [
    {
     "name": "stdout",
     "output_type": "stream",
     "text": [
      "1\n"
     ]
    },
    {
     "data": {
      "text/plain": [
       "[0, 1, 4, 7, 1, 6]"
      ]
     },
     "execution_count": 9,
     "metadata": {},
     "output_type": "execute_result"
    }
   ],
   "source": [
    "a=[1, 4, 7, 1, 6, 0]\n",
    "# b=a[-1]\n",
    "# a.pop(-1)\n",
    "# print(a)\n",
    "num=int(input())\n",
    "for i in range(0,num):\n",
    "    b=a[-1]\n",
    "    a.pop(-1)\n",
    "    a.insert(0,b)\n",
    "\n",
    "&&&&&&&&&&&&&&&&&&&&&&&&&&&&&&&&&&&&&\n",
    "def rotate( arr, n):\n",
    "        b=arr[-1]\n",
    "        arr.pop(-1)\n",
    "        arr.insert(0,b)\n",
    "&&&&&&&&&&&&&&&&&&&&&&&&&&&&&&&&&&&&&"
   ]
  },
  {
   "cell_type": "markdown",
   "metadata": {},
   "source": [
    "## 8 :\tfind Largest sum contiguous Subarray [V. IMP]"
   ]
  },
  {
   "cell_type": "code",
   "execution_count": 17,
   "metadata": {},
   "outputs": [
    {
     "name": "stdout",
     "output_type": "stream",
     "text": [
      "156 [36, -13, 22, 73, 15, -52, 75]\n"
     ]
    }
   ],
   "source": [
    "# a=[1, 41, -19, 110]\n",
    "a= [74, -72, 94, -53, -59, -3, -66, 36, -13, 22, 73, 15, -52, 75]\n",
    "m,k=0,0\n",
    "highest = 0\n",
    "sub_array=[]\n",
    "for i in range(len(a)+1):\n",
    "    for j in range(i,len(a)+1):\n",
    "        sub=a[i:j]\n",
    "#         if sub not in sub_array:\n",
    "#             sub_array.append(sub)\n",
    "        for x in sub:\n",
    "            m+=x\n",
    "        if m > highest:\n",
    "            highest=m\n",
    "            k=sub\n",
    "        m=0\n",
    "# print(len(sub_array))\n",
    "# print(sub_array)\n",
    "\n",
    "# for i in sub_array:\n",
    "#     for j in i:\n",
    "#         m+=j\n",
    "#         if m > highest:\n",
    "#             highest=m\n",
    "#             k=i\n",
    "            \n",
    "#     m=0\n",
    "print(highest,k)\n",
    "    \n",
    "    "
   ]
  },
  {
   "cell_type": "code",
   "execution_count": 14,
   "metadata": {},
   "outputs": [
    {
     "name": "stdout",
     "output_type": "stream",
     "text": [
      "192 28\n"
     ]
    }
   ],
   "source": [
    "a= [74, -72, 94, -53, -59, -3, -66, 36, -13, 22, 73, 15, -52, 75]\n",
    "a = [9 ,-51, -20, -13, -51, 40, -21, 75, -24 ,29 ,-86, 5 ,-38, 15, 48, -87 ,-9 ,42 ,39 ,64, 47, -63, 22, -81, -20 ,-100 ,28]\n",
    "# highest=0\n",
    "# for i in range(len(a)+1):\n",
    "#     for j in range(i,len(a)+1):\n",
    "#         if sum(a[i:j])>highest:\n",
    "#             highest=sum(a[i:j])\n",
    "# print(highest)\n",
    "\n",
    "m = a[0]\n",
    "e = 0\n",
    "\n",
    "for i in range(0, len(a)):\n",
    "    e = e + a[i]\n",
    "    if e < 0:\n",
    "        e = 0\n",
    "    # Do not compare for all elements. Compare only  \n",
    "    # when  max_ending_here > 0\n",
    "    elif (m < e):\n",
    "        m = e\n",
    "        \n",
    "print(m,e)\n",
    "             \n",
    "\n",
    "\n",
    "\n",
    "\n",
    "\n",
    "# a= [74, -72, 94, -53, -59, -3, -66, 36, -13, 22, 73, 15, -52, 75]\n",
    "# m,k=0,0\n",
    "# highest = 0\n",
    "# sub_array=[]\n",
    "# for i in range(len(a)+1):\n",
    "#     for j in range(i,len(a)+1):\n",
    "#         sub=a[i:j]\n",
    "#         for x in sub:\n",
    "#             m+=x\n",
    "#         if m > highest:\n",
    "#             highest=m\n",
    "#             k=sub\n",
    "#         m=0\n",
    "# print(highest,k)\n",
    "    "
   ]
  },
  {
   "cell_type": "markdown",
   "metadata": {},
   "source": [
    "## 9: "
   ]
  },
  {
   "cell_type": "code",
   "execution_count": 17,
   "metadata": {},
   "outputs": [
    {
     "name": "stdout",
     "output_type": "stream",
     "text": [
      "5\n",
      "[118, 2, 85, 7, 128]\n",
      "Minimise height :  10\n"
     ]
    }
   ],
   "source": [
    "a = [123,7,90,12,123]\n",
    "k = int(input())\n",
    "b = []\n",
    "\n",
    "\n",
    "for i in range(1,len(a)-1):\n",
    "    if a[i]-k<1:\n",
    "        a[i]=(a[i]+k)\n",
    "    else:\n",
    "        a[i]=(a[i]-k)\n",
    "        \n",
    "    if (a[0]-k<1 or a[0]<a[-1]) and (a[-1]-k<1 or a[0]<a[-1]):\n",
    "        a[0]=a[0]+k\n",
    "        a[-1]=a[-1]-k\n",
    "    else:\n",
    "        a[0]=a[0]-k\n",
    "        a[-1]=a[-1]+k\n",
    "        \n",
    "print(a)\n",
    "            \n",
    "print(\"Minimise height : \",abs(a[0]-a[-1]))\n"
   ]
  },
  {
   "cell_type": "markdown",
   "metadata": {},
   "source": [
    "## 10: Minimum no. of Jumps to reach end of an array"
   ]
  },
  {
   "cell_type": "code",
   "execution_count": 82,
   "metadata": {},
   "outputs": [
    {
     "name": "stdout",
     "output_type": "stream",
     "text": [
      "1\n",
      "2\n",
      "3\n",
      "4\n",
      "5\n",
      "6\n",
      "7\n",
      "d :  7\n"
     ]
    }
   ],
   "source": [
    "# arr=[2, 1, 2, 6, 2, 9]\n",
    "arr = [1,1,1,1,1,1,1]\n",
    "# arr = [1, 4, 3, 2, 6, 7]\n",
    "n = len(arr)\n",
    "c,d = 0,0\n",
    "for i in range(0,n):\n",
    "    if c < n:\n",
    "#         print(c)\n",
    "        c=c+arr[c]\n",
    "        d+=1\n",
    "        print(c)\n",
    "        \n",
    "print(\"d : \",d)\n",
    "    "
   ]
  },
  {
   "cell_type": "code",
   "execution_count": 2,
   "metadata": {},
   "outputs": [
    {
     "name": "stdout",
     "output_type": "stream",
     "text": [
      "Collecting tensorflow\n",
      "  Downloading tensorflow-2.7.0-cp38-cp38-win_amd64.whl (430.8 MB)\n",
      "Requirement already satisfied: numpy>=1.14.5 in c:\\users\\anipatel\\anaconda3\\lib\\site-packages (from tensorflow) (1.19.2)\n",
      "Collecting gast<0.5.0,>=0.2.1\n",
      "  Downloading gast-0.4.0-py3-none-any.whl (9.8 kB)\n",
      "Requirement already satisfied: typing-extensions>=3.6.6 in c:\\users\\anipatel\\anaconda3\\lib\\site-packages (from tensorflow) (3.7.4.3)\n",
      "Collecting tensorflow-io-gcs-filesystem>=0.21.0\n",
      "  Downloading tensorflow_io_gcs_filesystem-0.23.1-cp38-cp38-win_amd64.whl (1.5 MB)\n",
      "Requirement already satisfied: wrapt>=1.11.0 in c:\\users\\anipatel\\anaconda3\\lib\\site-packages (from tensorflow) (1.11.2)\n",
      "Collecting protobuf>=3.9.2\n",
      "  Downloading protobuf-3.19.1-cp38-cp38-win_amd64.whl (895 kB)\n",
      "Collecting keras-preprocessing>=1.1.1\n",
      "  Downloading Keras_Preprocessing-1.1.2-py2.py3-none-any.whl (42 kB)\n",
      "Collecting keras<2.8,>=2.7.0rc0\n",
      "  Downloading keras-2.7.0-py2.py3-none-any.whl (1.3 MB)\n",
      "Collecting astunparse>=1.6.0\n",
      "  Downloading astunparse-1.6.3-py2.py3-none-any.whl (12 kB)\n",
      "Collecting libclang>=9.0.1\n",
      "  Downloading libclang-12.0.0-py2.py3-none-win_amd64.whl (13.1 MB)\n",
      "Collecting flatbuffers<3.0,>=1.12\n",
      "  Downloading flatbuffers-2.0-py2.py3-none-any.whl (26 kB)\n",
      "Requirement already satisfied: wheel<1.0,>=0.32.0 in c:\\users\\anipatel\\anaconda3\\lib\\site-packages (from tensorflow) (0.35.1)\n",
      "Requirement already satisfied: six>=1.12.0 in c:\\users\\anipatel\\anaconda3\\lib\\site-packages (from tensorflow) (1.15.0)\n",
      "Collecting grpcio<2.0,>=1.24.3\n",
      "  Downloading grpcio-1.42.0-cp38-cp38-win_amd64.whl (3.3 MB)\n",
      "Collecting termcolor>=1.1.0\n",
      "  Downloading termcolor-1.1.0.tar.gz (3.9 kB)\n",
      "Requirement already satisfied: h5py>=2.9.0 in c:\\users\\anipatel\\anaconda3\\lib\\site-packages (from tensorflow) (2.10.0)\n",
      "Collecting absl-py>=0.4.0\n",
      "  Downloading absl_py-1.0.0-py3-none-any.whl (126 kB)\n",
      "Collecting tensorflow-estimator<2.8,~=2.7.0rc0\n",
      "  Downloading tensorflow_estimator-2.7.0-py2.py3-none-any.whl (463 kB)\n",
      "Collecting tensorboard~=2.6\n",
      "  Downloading tensorboard-2.7.0-py3-none-any.whl (5.8 MB)\n",
      "Collecting opt-einsum>=2.3.2\n",
      "  Downloading opt_einsum-3.3.0-py3-none-any.whl (65 kB)\n",
      "Collecting google-pasta>=0.1.1\n",
      "  Downloading google_pasta-0.2.0-py3-none-any.whl (57 kB)\n",
      "Collecting google-auth<3,>=1.6.3\n",
      "  Downloading google_auth-2.3.3-py2.py3-none-any.whl (155 kB)\n",
      "Collecting tensorboard-data-server<0.7.0,>=0.6.0\n",
      "  Downloading tensorboard_data_server-0.6.1-py3-none-any.whl (2.4 kB)\n",
      "Collecting markdown>=2.6.8\n",
      "  Downloading Markdown-3.3.6-py3-none-any.whl (97 kB)\n",
      "Collecting google-auth-oauthlib<0.5,>=0.4.1\n",
      "  Downloading google_auth_oauthlib-0.4.6-py2.py3-none-any.whl (18 kB)\n",
      "Requirement already satisfied: werkzeug>=0.11.15 in c:\\users\\anipatel\\anaconda3\\lib\\site-packages (from tensorboard~=2.6->tensorflow) (1.0.1)\n",
      "Requirement already satisfied: setuptools>=41.0.0 in c:\\users\\anipatel\\anaconda3\\lib\\site-packages (from tensorboard~=2.6->tensorflow) (50.3.1.post20201107)\n",
      "Requirement already satisfied: requests<3,>=2.21.0 in c:\\users\\anipatel\\anaconda3\\lib\\site-packages (from tensorboard~=2.6->tensorflow) (2.24.0)\n",
      "Collecting tensorboard-plugin-wit>=1.6.0\n",
      "  Downloading tensorboard_plugin_wit-1.8.0-py3-none-any.whl (781 kB)\n",
      "Collecting cachetools<5.0,>=2.0.0\n",
      "  Downloading cachetools-4.2.4-py3-none-any.whl (10 kB)\n",
      "Collecting pyasn1-modules>=0.2.1\n",
      "  Downloading pyasn1_modules-0.2.8-py2.py3-none-any.whl (155 kB)\n",
      "Collecting rsa<5,>=3.1.4; python_version >= \"3.6\"\n",
      "  Downloading rsa-4.8-py3-none-any.whl (39 kB)\n",
      "Collecting importlib-metadata>=4.4; python_version < \"3.10\"\n",
      "  Downloading importlib_metadata-4.8.3-py3-none-any.whl (17 kB)\n",
      "Collecting requests-oauthlib>=0.7.0\n",
      "  Downloading requests_oauthlib-1.3.0-py2.py3-none-any.whl (23 kB)\n",
      "Requirement already satisfied: certifi>=2017.4.17 in c:\\users\\anipatel\\anaconda3\\lib\\site-packages (from requests<3,>=2.21.0->tensorboard~=2.6->tensorflow) (2020.6.20)\n",
      "Requirement already satisfied: idna<3,>=2.5 in c:\\users\\anipatel\\anaconda3\\lib\\site-packages (from requests<3,>=2.21.0->tensorboard~=2.6->tensorflow) (2.10)\n",
      "Requirement already satisfied: chardet<4,>=3.0.2 in c:\\users\\anipatel\\anaconda3\\lib\\site-packages (from requests<3,>=2.21.0->tensorboard~=2.6->tensorflow) (3.0.4)\n",
      "Requirement already satisfied: urllib3!=1.25.0,!=1.25.1,<1.26,>=1.21.1 in c:\\users\\anipatel\\anaconda3\\lib\\site-packages (from requests<3,>=2.21.0->tensorboard~=2.6->tensorflow) (1.25.11)\n",
      "Collecting pyasn1<0.5.0,>=0.4.6\n",
      "  Downloading pyasn1-0.4.8-py2.py3-none-any.whl (77 kB)\n",
      "Requirement already satisfied: zipp>=0.5 in c:\\users\\anipatel\\anaconda3\\lib\\site-packages (from importlib-metadata>=4.4; python_version < \"3.10\"->markdown>=2.6.8->tensorboard~=2.6->tensorflow) (3.4.0)\n",
      "Collecting oauthlib>=3.0.0\n",
      "  Downloading oauthlib-3.1.1-py2.py3-none-any.whl (146 kB)\n",
      "Building wheels for collected packages: termcolor\n",
      "  Building wheel for termcolor (setup.py): started\n",
      "  Building wheel for termcolor (setup.py): finished with status 'done'\n",
      "  Created wheel for termcolor: filename=termcolor-1.1.0-py3-none-any.whl size=4835 sha256=c93b2e4d19115ba88330b88c350df8ea1e81a391a29df71657078f2b8b8a3d64\n",
      "  Stored in directory: c:\\users\\anipatel\\appdata\\local\\pip\\cache\\wheels\\a0\\16\\9c\\5473df82468f958445479c59e784896fa24f4a5fc024b0f501\n",
      "Successfully built termcolor\n",
      "Installing collected packages: gast, tensorflow-io-gcs-filesystem, protobuf, keras-preprocessing, keras, astunparse, libclang, flatbuffers, grpcio, termcolor, absl-py, tensorflow-estimator, cachetools, pyasn1, pyasn1-modules, rsa, google-auth, tensorboard-data-server, importlib-metadata, markdown, oauthlib, requests-oauthlib, google-auth-oauthlib, tensorboard-plugin-wit, tensorboard, opt-einsum, google-pasta, tensorflow\n",
      "  Attempting uninstall: importlib-metadata\n",
      "    Found existing installation: importlib-metadata 2.0.0\n",
      "    Uninstalling importlib-metadata-2.0.0:\n",
      "      Successfully uninstalled importlib-metadata-2.0.0\n",
      "Successfully installed absl-py-1.0.0 astunparse-1.6.3 cachetools-4.2.4 flatbuffers-2.0 gast-0.4.0 google-auth-2.3.3 google-auth-oauthlib-0.4.6 google-pasta-0.2.0 grpcio-1.42.0 importlib-metadata-4.8.3 keras-2.7.0 keras-preprocessing-1.1.2 libclang-12.0.0 markdown-3.3.6 oauthlib-3.1.1 opt-einsum-3.3.0 protobuf-3.19.1 pyasn1-0.4.8 pyasn1-modules-0.2.8 requests-oauthlib-1.3.0 rsa-4.8 tensorboard-2.7.0 tensorboard-data-server-0.6.1 tensorboard-plugin-wit-1.8.0 tensorflow-2.7.0 tensorflow-estimator-2.7.0 tensorflow-io-gcs-filesystem-0.23.1 termcolor-1.1.0\n"
     ]
    }
   ],
   "source": [
    "!pip install tensorflow"
   ]
  },
  {
   "cell_type": "code",
   "execution_count": null,
   "metadata": {},
   "outputs": [],
   "source": [
    "import tensorflow"
   ]
  }
 ],
 "metadata": {
  "kernelspec": {
   "display_name": "Python 3",
   "language": "python",
   "name": "python3"
  },
  "language_info": {
   "codemirror_mode": {
    "name": "ipython",
    "version": 3
   },
   "file_extension": ".py",
   "mimetype": "text/x-python",
   "name": "python",
   "nbconvert_exporter": "python",
   "pygments_lexer": "ipython3",
   "version": "3.8.5"
  }
 },
 "nbformat": 4,
 "nbformat_minor": 4
}
